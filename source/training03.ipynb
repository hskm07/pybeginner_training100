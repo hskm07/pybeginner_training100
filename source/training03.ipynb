{
 "cells": [
  {
   "cell_type": "markdown",
   "metadata": {},
   "source": [
    "#　第１章　値と変数について"
   ]
  },
  {
   "cell_type": "markdown",
   "metadata": {},
   "source": [
    "## **問3 数値の演算**"
   ]
  },
  {
   "cell_type": "code",
   "execution_count": 9,
   "metadata": {},
   "outputs": [],
   "source": [
    "# 変数の定義\n",
    "num1 = 240\n",
    "num2 = 480\n",
    "per = 13\n",
    "n = 23"
   ]
  },
  {
   "cell_type": "code",
   "execution_count": 2,
   "metadata": {},
   "outputs": [
    {
     "name": "stdout",
     "output_type": "stream",
     "text": [
      "720\n"
     ]
    }
   ],
   "source": [
    "# 足し算\n",
    "total = num1 + num2\n",
    "print(total)"
   ]
  },
  {
   "cell_type": "code",
   "execution_count": 3,
   "metadata": {},
   "outputs": [
    {
     "name": "stdout",
     "output_type": "stream",
     "text": [
      "-240\n"
     ]
    }
   ],
   "source": [
    "#引き算\n",
    "total = num1 - num2\n",
    "print(total)"
   ]
  },
  {
   "cell_type": "code",
   "execution_count": 4,
   "metadata": {},
   "outputs": [
    {
     "name": "stdout",
     "output_type": "stream",
     "text": [
      "115200\n"
     ]
    }
   ],
   "source": [
    "# 掛け算\n",
    "total = num1 * num2\n",
    "print(total)"
   ]
  },
  {
   "cell_type": "code",
   "execution_count": 5,
   "metadata": {},
   "outputs": [
    {
     "name": "stdout",
     "output_type": "stream",
     "text": [
      "0.5\n"
     ]
    }
   ],
   "source": [
    "# 割り算\n",
    "total = num1 / num2\n",
    "print(total)"
   ]
  },
  {
   "cell_type": "code",
   "execution_count": 6,
   "metadata": {},
   "outputs": [
    {
     "name": "stdout",
     "output_type": "stream",
     "text": [
      "18\n"
     ]
    }
   ],
   "source": [
    "# 小数点切り捨て\n",
    "ans = num1 // per\n",
    "print(ans)"
   ]
  },
  {
   "cell_type": "code",
   "execution_count": 7,
   "metadata": {},
   "outputs": [
    {
     "name": "stdout",
     "output_type": "stream",
     "text": [
      "6\n"
     ]
    }
   ],
   "source": [
    "# 余りを算出\n",
    "ans = num1 % per\n",
    "print(ans)"
   ]
  },
  {
   "cell_type": "code",
   "execution_count": 8,
   "metadata": {},
   "outputs": [
    {
     "name": "stdout",
     "output_type": "stream",
     "text": [
      "5557232403542850518537839470182400000000000000000000000\n"
     ]
    }
   ],
   "source": [
    "# べき乗・累乗\n",
    "ans = num1 ** n\n",
    "print(ans)"
   ]
  },
  {
   "cell_type": "markdown",
   "metadata": {},
   "source": [
    "<br>演算子の一覧をもう一度載せておきます"
   ]
  },
  {
   "cell_type": "markdown",
   "metadata": {},
   "source": [
    "|　　演算子　　|　　使用方法　　|　　説明　　|\n",
    "|:---:|:---:|:---|\n",
    "|　　+　　|　　X + Y　　|　　足し算　　|\n",
    "|　　-　　|　　X - Y　　|　　引き算　　|\n",
    "|　　* |　　X * Y　　|　　掛け算　　|\n",
    "|　　/　　|　　X / Y　　|　　割り算　　|\n",
    "|　　//　　|　　X // Y　　|　　XをYで割った商の値　（ 10 // 3 は３が出力） |\n",
    "|　　%　　|　　X % Y　　|　　XをYで割った時の余り（ 10 % 3 は３が出力） |\n",
    "|　　**　　|　　X ** n　　|　　Xのn乗 （Xをn回かける）　|"
   ]
  }
 ],
 "metadata": {
  "kernelspec": {
   "display_name": "Python 3",
   "language": "python",
   "name": "python3"
  },
  "language_info": {
   "codemirror_mode": {
    "name": "ipython",
    "version": 3
   },
   "file_extension": ".py",
   "mimetype": "text/x-python",
   "name": "python",
   "nbconvert_exporter": "python",
   "pygments_lexer": "ipython3",
   "version": "3.6.12"
  }
 },
 "nbformat": 4,
 "nbformat_minor": 4
}
