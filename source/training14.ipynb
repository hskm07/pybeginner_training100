{
 "cells": [
  {
   "cell_type": "markdown",
   "metadata": {},
   "source": [
    "## **問14  if文の練習**"
   ]
  },
  {
   "cell_type": "markdown",
   "metadata": {},
   "source": [
    "それでは、少しif文の練習をしましょう。\n",
    "<br>\n",
    "- 問題\n",
    "<br>\n",
    "仮に、PythonでExcelファイル「在庫管理表」を読み取ったとしましょう。\n",
    "<br>\n",
    "読み取った値に応じて、以下の条件でメッセージを表示させましょう。\n",
    "<br>\n",
    "（読み取った値は、今回はランダムで生成した数値とします。）\n",
    "<br>\n",
    "<br>\n",
    "条件は以下の通りです。\n",
    "<br>\n",
    "在庫数が800個以上であれば、在庫あり\n",
    "<br>\n",
    "在庫数が800個より少なく、600個以上の場合、\"在庫注意\"\n",
    "<br>\n",
    "在庫数が600個より少なく、200個以上の場合、”発注”\n",
    "<br>\n",
    "在庫数が200以下の場合、”即発注・始末書”"
   ]
  },
  {
   "cell_type": "markdown",
   "metadata": {},
   "source": [
    "スクリプト名：training13.py"
   ]
  },
  {
   "cell_type": "code",
   "execution_count": 1,
   "metadata": {},
   "outputs": [
    {
     "name": "stdout",
     "output_type": "stream",
     "text": [
      "在庫数は、744個\n",
      "在庫注意\n"
     ]
    }
   ],
   "source": [
    "import random\n",
    "\n",
    "number = random.randint(0,1000)\n",
    "print(\"在庫数は、{0}個\".format(number))\n",
    "\n",
    "# 在庫数判定\n",
    "if number >= 800 :\n",
    "    result = \"在庫あり\"\n",
    "elif number >= 600 :\n",
    "    result = \"在庫注意\"\n",
    "elif number >= 200 :\n",
    "    result = \"発注\"\n",
    "else :\n",
    "    result = \"発注・始末書\"\n",
    "\n",
    "print(result)"
   ]
  },
  {
   "cell_type": "code",
   "execution_count": null,
   "metadata": {},
   "outputs": [],
   "source": []
  }
 ],
 "metadata": {
  "kernelspec": {
   "display_name": "Python 3",
   "language": "python",
   "name": "python3"
  },
  "language_info": {
   "codemirror_mode": {
    "name": "ipython",
    "version": 3
   },
   "file_extension": ".py",
   "mimetype": "text/x-python",
   "name": "python",
   "nbconvert_exporter": "python",
   "pygments_lexer": "ipython3",
   "version": "3.8.3"
  }
 },
 "nbformat": 4,
 "nbformat_minor": 4
}
