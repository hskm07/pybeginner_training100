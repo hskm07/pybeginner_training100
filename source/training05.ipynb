{
 "cells": [
  {
   "cell_type": "markdown",
   "metadata": {},
   "source": [
    "#　第１章　値と変数について"
   ]
  },
  {
   "cell_type": "markdown",
   "metadata": {},
   "source": [
    "## **問5 文字列と演算 １**"
   ]
  },
  {
   "cell_type": "markdown",
   "metadata": {},
   "source": [
    "文字列の演算について学びましょう。以下のコードを実行してみましょう。\n",
    "<br>\n",
    "ここでは、文字列の演算で使用される文字列の連結について学びましょう。\n",
    "<br>\n",
    "まずはプログラムを実行してみましょう。\n",
    "<br>\n",
    "<br>\n",
    "スクリプト名：training05.py"
   ]
  },
  {
   "cell_type": "markdown",
   "metadata": {},
   "source": [
    "***文字列の連結***"
   ]
  },
  {
   "cell_type": "code",
   "execution_count": 9,
   "metadata": {},
   "outputs": [
    {
     "name": "stdout",
     "output_type": "stream",
     "text": [
      "鈴木さん\n",
      "鈴木さん、こんにちは。\n"
     ]
    }
   ],
   "source": [
    "# 文字列と演算子1\n",
    "# 文字列の連結1\n",
    "name1 = \"鈴木\" + \"さん\"\n",
    "print(name1)\n",
    "name2 = name1 + \"、こんにちは。\"\n",
    "print(name2)"
   ]
  },
  {
   "cell_type": "markdown",
   "metadata": {},
   "source": [
    "**文字列で利用できる主な演算子**"
   ]
  },
  {
   "cell_type": "markdown",
   "metadata": {},
   "source": [
    "|　　演算子　　|　　使用方法　　|　　説明　　|\n",
    "|:---:|:---:|:---|\n",
    "|　　+　　|　　\"python\" + \"Tokyo\"　　|　　文字列の結合　　|\n",
    "|　　*n　　|　　\"python\" * 10　　|　　文字列をn回繰り返す　　|"
   ]
  },
  {
   "cell_type": "markdown",
   "metadata": {},
   "source": [
    "<br>"
   ]
  },
  {
   "cell_type": "code",
   "execution_count": 8,
   "metadata": {},
   "outputs": [
    {
     "name": "stdout",
     "output_type": "stream",
     "text": [
      "I have a pen.\n"
     ]
    }
   ],
   "source": [
    "#文字列の連結２\n",
    "stA = \"I have \"\n",
    "stB = \"a \"\n",
    "stC = \"pen.\"\n",
    "print(stA+stB+stC)"
   ]
  },
  {
   "cell_type": "markdown",
   "metadata": {},
   "source": [
    "<br>"
   ]
  },
  {
   "cell_type": "code",
   "execution_count": 4,
   "metadata": {},
   "outputs": [
    {
     "name": "stdout",
     "output_type": "stream",
     "text": [
      "us :  110000yen jp:  1000yen\n"
     ]
    }
   ],
   "source": [
    "#　数値と文字列の連結\n",
    "# str()関数で数値を文字列に変換する\n",
    "# str関数を使用しないとエラーが発生\n",
    "price = 1000\n",
    "doller = 110\n",
    "unit = \"yen\"\n",
    "us = str(price * doller) + unit\n",
    "jp = str(price) + unit\n",
    "print(\"us : \", us, \"jp: \", jp)"
   ]
  },
  {
   "cell_type": "markdown",
   "metadata": {},
   "source": [
    "<br>"
   ]
  },
  {
   "cell_type": "code",
   "execution_count": 5,
   "metadata": {},
   "outputs": [
    {
     "name": "stdout",
     "output_type": "stream",
     "text": [
      "\"みりん\"って10回言って！\n",
      "みりんみりんみりんみりんみりんみりんみりんみりんみりんみりん\n",
      "鼻が長いのは？\n",
      "！！！\n"
     ]
    }
   ],
   "source": [
    "# 繰り返し文字：同じも文字の場合、for文より効率的！\n",
    "qt = \"\\\"みりん\\\"って10回言って！\"\n",
    "print(qt) \n",
    "copo = \"みりん\"\n",
    "print(copo * 10)\n",
    "ans = \"鼻が長いのは？\"\n",
    "print(ans)\n",
    "print(\"！！！\")"
   ]
  }
 ],
 "metadata": {
  "kernelspec": {
   "display_name": "Python 3",
   "language": "python",
   "name": "python3"
  },
  "language_info": {
   "codemirror_mode": {
    "name": "ipython",
    "version": 3
   },
   "file_extension": ".py",
   "mimetype": "text/x-python",
   "name": "python",
   "nbconvert_exporter": "python",
   "pygments_lexer": "ipython3",
   "version": "3.6.12"
  }
 },
 "nbformat": 4,
 "nbformat_minor": 4
}
