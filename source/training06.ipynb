{
 "cells": [
  {
   "cell_type": "markdown",
   "metadata": {},
   "source": [
    "# Chapter06: "
   ]
  },
  {
   "cell_type": "markdown",
   "metadata": {},
   "source": [
    "## 問題120: モジュールの読み込みとimport文"
   ]
  },
  {
   "cell_type": "markdown",
   "metadata": {},
   "source": [
    "今までも何度か、`os`モジュールや `random`モジュール、`pathlib`モジュールなど使ってきました。\n",
    "\n",
    "利用したいモジュールやパッケージを利用するためには、**import** 文を使用します。\n",
    "\n",
    "import文には、いくつか使用パターンがあるので、まず、そちらを紹介します。\n",
    "\n",
    "### import文\n",
    "\n",
    "通常のモジュール読み込みで使用する構文です。使用したいモジュール名をimportする形です。\n",
    "\n",
    "```python\n",
    "    import モジュール名\n",
    "\n",
    "    ## 使用例: pathlibを使用\n",
    "    import pathlib\n",
    "\n",
    "```\n",
    "\n",
    "### from ~ import ~ 文\n",
    "\n",
    "**from** 句を使用する場合、特定の関数やクラスのみを使用したい場合、利用されます。\n",
    "\n",
    "記述したコードで、`pathlib.Path` しか使わない場合、`pathlib` から   `Path` をimportするだけで良さそうですね。\n",
    "\n",
    "**from** を使うかどうかの判断は、記述したコード内で利用するモジュールに含まれる特定の関数のみの使用の場合、fromを使います。\n",
    "\n",
    "```python\n",
    "    from モジュール名 import 利用したい関数やクラス\n",
    "\n",
    "    ## 使用例: pathlibからPathクラスをimport\n",
    "    from pathlib import Path\n",
    "```\n",
    "\n",
    "### import ~ as ~ 文\n",
    "\n",
    "`as`句は、importしたモジュールや関数・クラスに別名をつけ扱うことができます。\n",
    "\n",
    "```python\n",
    "    import モジュール名 as 別名\n",
    "\n",
    "    ## 使用例\n",
    "    import pathlib as pl\n",
    "    ### このスクリプトではplとして扱われる\n",
    "    pl.Path(\"input\")\n",
    "```\n",
    "\n",
    "### その他\n",
    "\n",
    "その他の構文はありませんが、import文は、自作したモジュールも呼び出すことができます。\n",
    "\n",
    "例題として、`input/samplemodule.py`をimportしてみましょう。\n",
    "\n",
    "`samplemodule.py`には、hello()が定義されています。\n",
    "\n",
    "これを以下のコード欄で呼び出して使用してみましょう。\n"
   ]
  },
  {
   "cell_type": "code",
   "execution_count": null,
   "metadata": {},
   "outputs": [],
   "source": [
    "#コードを記述\n"
   ]
  },
  {
   "cell_type": "markdown",
   "metadata": {},
   "source": [
    "### 問題120 の回答・実行例\n",
    "\n",
    "<details>\n",
    "<summary> > 回答と実行例を表示する</summary>\n",
    "\n",
    "```python\n",
    "    from input import samplemodule\n",
    "    samplemodule.hello()\n",
    "```\n",
    "\n",
    "実行結果\n",
    "```python\n",
    "    hello, this script : \n",
    "    <コンピュータ上の任意の場所が表示>python/pybeginner_training100/source/input/samplemodule.py\n",
    "```\n",
    "\n",
    "</details>\n",
    " \n",
    "import文は、開発現場では非常に大切な要素になるので、しっかり学習しておきましょう。\n",
    "\n",
    "* 参考 [5. インポートシステム - docs.python.org](https://docs.python.org/ja/3/reference/import.html)\n",
    "* 参考 [Python, importの使い方（from, as, PEP8の推奨スタイル, 注意点など）- note.nkmk.me](https://note.nkmk.me/python-import-usage/)\n",
    "\n",
    "---"
   ]
  },
  {
   "cell_type": "markdown",
   "metadata": {},
   "source": [
    "## 問題121: モジュールとパッケージと\\_\\_init\\_\\_.pyについて"
   ]
  },
  {
   "cell_type": "markdown",
   "metadata": {},
   "source": [
    "ここでは、モジュールとパッケージの違いについてご紹介します。\n",
    "\n",
    "さらにPythonではライブラリという用語もよく使われます。一旦ここで用語の整理をしていきます。\n",
    "\n",
    "それぞれを簡単にまとめると、\n",
    "\n",
    "### モジュールとは\n",
    "関数やクラスなどを集めた `.py` のことを指し、他のプログラムから再利用できるようにしたファイルのことです。そのため、先ほど問題119で実行した `input/samplemodule.py` は関数をまとめた `.py` となるためモジュールです。\n",
    "\n",
    "![module](img/module.png)\n",
    "\n",
    "### パッケージとは\n",
    "モジュールを集めたモジュール群のことを指し、\\_\\_init\\_\\_.pyと複数のモジュールがディレクトリに集まったものです。類似した機能がまとまったモジュール群をディレクトリごと、importしたい場合、パッケージとして扱った方がいいです。\n",
    "\n",
    "![package](img/package.png)\n",
    "\n",
    "### ライブラリとは\n",
    "ある程度まとまった汎用性の高い処理（関数・クラス・その他）を他のプログラムから読み込むことで、使うことが出来るようにしたファイル。よくサードパッケージの `numpy` や `pandas`、`openpyxl`、`OpenCV`などがこれにあたります。また、setup.pyを使った自作ライブラリなども該当します。\n",
    "\n",
    "![library](img/library.png)\n",
    "\n",
    "おそらく最初のうちは、\n",
    "\n",
    "* **「 `import XXX` 利用できるもの」= ライブラリ**\n",
    "* **「 `import XXX` 利用できるもの」= モジュール**\n",
    "\n",
    "ぐらいで構いません。\n",
    "\n",
    "しかし、少し規模が大きい開発になってくると、モジュールやパッケージの違いはしっかり理解する必要があります。\n",
    "\n"
   ]
  },
  {
   "cell_type": "markdown",
   "metadata": {},
   "source": [
    "### 問題121 の回答・実行例\n",
    "\n",
    "<details>\n",
    "<summary> > 回答と実行例を表示する</summary>\n",
    "\n",
    "特にありません。\n",
    "\n",
    "</details>\n",
    " \n",
    "<br>\n",
    "\n",
    "* 参考 [6. モジュール - docs.python.org](https://docs.python.org/ja/3/tutorial/modules.html)\n",
    "* 参考 [Python でモジュール／パッケージを作成する - まくまくPythonノート](https://maku77.github.io/python/env/create-module.html)\n",
    "\n",
    "---"
   ]
  },
  {
   "cell_type": "markdown",
   "metadata": {},
   "source": [
    "## 問題122: \\_\\_init\\_\\_.pyは無暗に省略してはダメ"
   ]
  },
  {
   "cell_type": "markdown",
   "metadata": {},
   "source": [
    "Pythonのパッケージやモジュールの勉強をしていると、`__init__.py` というファイルをよく見かけると思います。\n",
    "\n",
    "ある程度大きい規模の開発であれば、以下のようなケースに遭遇するかと思います。\n",
    "\n",
    "```bash\n",
    "    (myapp):root directory\n",
    "    |-- app.py\n",
    "    |-- __main__.py\n",
    "    |-- main.py\n",
    "    |-- module/\n",
    "        |-- __init__.py <--こういうやつ\n",
    "        |-- mymodule.py\n",
    "```\n",
    "\n",
    "この `__init__.py` は、モジュールやパッケージの初期化の役割を果たします。\n",
    "\n",
    "* モジュール検索のためのマーカー\n",
    "* ディレクトリ名を名前とする名前空間の初期化\n",
    "\n",
    "まずこの2点を押さえておけば大丈夫かと思います。\n",
    "> 参考：[6. モジュール - docs.python.org](https://docs.python.org/ja/3.10/tutorial/modules.html)\n",
    "\n",
    "しかし、python3.3以降からは、[PEP420](https://peps.python.org/pep-0420/)でImplicit Namespace Packagesが追加されました。これは有名な件ですね。"
   ]
  },
  {
   "cell_type": "code",
   "execution_count": 6,
   "metadata": {},
   "outputs": [],
   "source": [
    "#コードを記述"
   ]
  },
  {
   "cell_type": "markdown",
   "metadata": {},
   "source": [
    "### 問題122 の回答・実行例\n",
    "\n",
    "<details>\n",
    "<summary> > 回答と実行例を表示する</summary>\n",
    "\n",
    "```python\n",
    "\n",
    "```\n",
    "\n",
    "実行結果\n",
    "```python\n",
    "\n",
    "```\n",
    "\n",
    "</details>\n",
    " \n",
    "<br>\n",
    "\n",
    "* 参考 [5.2.2. 名前空間パッケージ](https://docs.python.org/3.10/reference/import.html#namespace-packages)\n",
    "* 参考 [PEP 420 – Implicit Namespace Packages](https://peps.python.org/pep-0420/)\n",
    "* 参考 [Namespace vs regular package - stackoverflow](https://stackoverflow.com/questions/21819649/namespace-vs-regular-package)\n",
    "* 参考 [__init__.py を省略してはいけない - Qitta](https://qiita.com/methane/items/ed1e5b74747f3ffe9324)\n",
    "\n",
    "---"
   ]
  },
  {
   "cell_type": "markdown",
   "metadata": {},
   "source": [
    "## 問題123: \\_\\_name\\_\\_ == \\_\\_main\\_\\_ とは"
   ]
  },
  {
   "cell_type": "markdown",
   "metadata": {},
   "source": []
  },
  {
   "cell_type": "code",
   "execution_count": null,
   "metadata": {},
   "outputs": [],
   "source": [
    "#コードを記述"
   ]
  },
  {
   "cell_type": "markdown",
   "metadata": {},
   "source": [
    "### 問題123 の回答・実行例\n",
    "\n",
    "<details>\n",
    "<summary> > 回答と実行例を表示する</summary>\n",
    "\n",
    "```python\n",
    "\n",
    "```\n",
    "\n",
    "実行結果\n",
    "```python\n",
    "\n",
    "```\n",
    "\n",
    "</details>\n",
    " \n",
    "<br>\n",
    "\n",
    "* 参考 []()\n",
    "* 参考 []()\n",
    "\n",
    "---"
   ]
  }
 ],
 "metadata": {
  "kernelspec": {
   "display_name": "Python 3.9.13 ('.venv': poetry)",
   "language": "python",
   "name": "python3"
  },
  "language_info": {
   "codemirror_mode": {
    "name": "ipython",
    "version": 3
   },
   "file_extension": ".py",
   "mimetype": "text/x-python",
   "name": "python",
   "nbconvert_exporter": "python",
   "pygments_lexer": "ipython3",
   "version": "3.9.13"
  },
  "vscode": {
   "interpreter": {
    "hash": "0eb13e06639adadfc3e43be447705b429278b89ea552c102ccee7a972aa1e78a"
   }
  }
 },
 "nbformat": 4,
 "nbformat_minor": 4
}
