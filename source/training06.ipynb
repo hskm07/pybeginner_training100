{
 "cells": [
  {
   "cell_type": "markdown",
   "metadata": {},
   "source": [
    "#　第１章　値と変数について"
   ]
  },
  {
   "cell_type": "markdown",
   "metadata": {},
   "source": [
    "## **問6 文字列を取り出す**"
   ]
  },
  {
   "cell_type": "markdown",
   "metadata": {},
   "source": [
    "文字列の演算について学びましょう。以下のコードを実行してみましょう。\n",
    "<br>\n",
    "ここでは、文字列の操作（文字列を抜き出す）について学びましょう。\n",
    "<br>\n",
    "まずはプログラムを実行してみましょう。\n",
    "<br>\n",
    "<br>\n",
    "スクリプト名：training06.py"
   ]
  },
  {
   "cell_type": "code",
   "execution_count": 20,
   "metadata": {},
   "outputs": [
    {
     "name": "stdout",
     "output_type": "stream",
     "text": [
      "文字長さ： 29\n"
     ]
    }
   ],
   "source": [
    "# 文字列の演算\n",
    "#　文字列を取り出す\n",
    "# 変数に代入した文字列を自由自在に取り出す\n",
    "\n",
    "# 株式会社サンプル\n",
    "corp = \"株式会社サンプル Hello World, Python!\"\n",
    "\n",
    "# 文字の長さをlen()関数を使用する\n",
    "l = len(corp)\n",
    "print(\"文字長さ：\", l)"
   ]
  },
  {
   "cell_type": "markdown",
   "metadata": {},
   "source": [
    "<br>"
   ]
  },
  {
   "cell_type": "markdown",
   "metadata": {},
   "source": [
    "*******"
   ]
  },
  {
   "cell_type": "markdown",
   "metadata": {},
   "source": [
    "**文字を抜き出す**"
   ]
  },
  {
   "cell_type": "markdown",
   "metadata": {},
   "source": [
    "文字列に[]をつけて文字位置を指定すると文字が抜き出せます。\n",
    "<br>\n",
    "・**一文字だけ抜き出す**  `文字列[文字位置]`\n",
    "<br>\n",
    "・**部分的に文字を抜き出す**  `文字列[開始位置：終了位置]`"
   ]
  },
  {
   "cell_type": "code",
   "execution_count": 5,
   "metadata": {},
   "outputs": [
    {
     "name": "stdout",
     "output_type": "stream",
     "text": [
      "株\n"
     ]
    }
   ],
   "source": [
    "# 一文字目の株だけ抜き出す。\n",
    "print(corp[0])"
   ]
  },
  {
   "cell_type": "code",
   "execution_count": 10,
   "metadata": {},
   "outputs": [
    {
     "name": "stdout",
     "output_type": "stream",
     "text": [
      "式\n"
     ]
    }
   ],
   "source": [
    "# 2文字目を取り出す\n",
    "print(corp[1])"
   ]
  },
  {
   "cell_type": "code",
   "execution_count": 8,
   "metadata": {},
   "outputs": [
    {
     "name": "stdout",
     "output_type": "stream",
     "text": [
      "会\n"
     ]
    }
   ],
   "source": [
    "# 3文字目を取り出す\n",
    "print(corp[2])"
   ]
  },
  {
   "cell_type": "code",
   "execution_count": 9,
   "metadata": {},
   "outputs": [
    {
     "name": "stdout",
     "output_type": "stream",
     "text": [
      "!\n"
     ]
    }
   ],
   "source": [
    "# 最後の文字を取り出す 長さ：len(corp) -1 \n",
    "print(corp[28])"
   ]
  },
  {
   "cell_type": "markdown",
   "metadata": {},
   "source": [
    "******"
   ]
  },
  {
   "cell_type": "markdown",
   "metadata": {},
   "source": [
    "**文字列を全て抜き出す**"
   ]
  },
  {
   "cell_type": "markdown",
   "metadata": {},
   "source": [
    "for文を使うと一文字ずつ文字を表示させることができます"
   ]
  },
  {
   "cell_type": "code",
   "execution_count": 12,
   "metadata": {},
   "outputs": [
    {
     "name": "stdout",
     "output_type": "stream",
     "text": [
      "株\n",
      "式\n",
      "会\n",
      "社\n",
      "サ\n",
      "ン\n",
      "プ\n",
      "ル\n",
      " \n",
      "H\n",
      "e\n",
      "l\n",
      "l\n",
      "o\n",
      " \n",
      "W\n",
      "o\n",
      "r\n",
      "l\n",
      "d\n",
      ",\n",
      " \n",
      "P\n",
      "y\n",
      "t\n",
      "h\n",
      "o\n",
      "n\n",
      "!\n"
     ]
    }
   ],
   "source": [
    "#　for文を使って、全部抜き出す\n",
    "for i in range(29):\n",
    "    print(corp[i])"
   ]
  },
  {
   "cell_type": "markdown",
   "metadata": {},
   "source": [
    "*******"
   ]
  },
  {
   "cell_type": "markdown",
   "metadata": {},
   "source": [
    "**文字を部分的に抜き出す**\n",
    "<br>\n",
    "・部分的に文字を抜き出す  `文字列[開始位置：終了位置]`"
   ]
  },
  {
   "cell_type": "code",
   "execution_count": 16,
   "metadata": {},
   "outputs": [
    {
     "name": "stdout",
     "output_type": "stream",
     "text": [
      "株式会社サンプル Hello World, Python!\n"
     ]
    }
   ],
   "source": [
    "# 文字を全部抜き出す\n",
    "print(corp[:])"
   ]
  },
  {
   "cell_type": "markdown",
   "metadata": {},
   "source": [
    "文字列[：]は、開始位置と終了位置が省略されています。\n",
    "<br>\n",
    "省略された場合、**開始位置は最初の位置**、**終了位置は文字列の最後の位置**に設定されます。"
   ]
  },
  {
   "cell_type": "code",
   "execution_count": 17,
   "metadata": {},
   "outputs": [
    {
     "name": "stdout",
     "output_type": "stream",
     "text": [
      "株式会社\n"
     ]
    }
   ],
   "source": [
    "# 株式会社だけ抜き出す\n",
    "print(corp[:4])"
   ]
  },
  {
   "cell_type": "code",
   "execution_count": 18,
   "metadata": {},
   "outputs": [
    {
     "name": "stdout",
     "output_type": "stream",
     "text": [
      "サンプル Hello World, Python!\n"
     ]
    }
   ],
   "source": [
    "# サンプル以降を抜き出す\n",
    "print(corp[4:])"
   ]
  },
  {
   "cell_type": "code",
   "execution_count": 19,
   "metadata": {},
   "outputs": [
    {
     "name": "stdout",
     "output_type": "stream",
     "text": [
      "サンプル\n"
     ]
    }
   ],
   "source": [
    "# 途中４文字を抜き出す\n",
    "print(corp[4:8])"
   ]
  },
  {
   "cell_type": "markdown",
   "metadata": {},
   "source": [
    "******"
   ]
  },
  {
   "cell_type": "markdown",
   "metadata": {},
   "source": [
    "**文字列から抜き出す間隔を指定する**\n",
    "<br>\n",
    "部分的に文字を抜き出す  `文字列[開始位置 ： 終了位置 : ステップ]`\n",
    "<br>\n",
    "<br>\n",
    "文字を抜き出す間隔をステップで指定できる。\n",
    "<br>\n",
    "例 ： ２文字目から1つ飛ばしで抜き出す　　`var1[0::2]`"
   ]
  },
  {
   "cell_type": "code",
   "execution_count": 21,
   "metadata": {},
   "outputs": [
    {
     "name": "stdout",
     "output_type": "stream",
     "text": [
      "株会サプ el ol,Pto!\n"
     ]
    }
   ],
   "source": [
    "# 奇数の文字だけ抜き出す（最初の文字から一つ飛ばしで文字を抜き出す。）\n",
    "print(corp[0::2])"
   ]
  }
 ],
 "metadata": {
  "kernelspec": {
   "display_name": "Python 3",
   "language": "python",
   "name": "python3"
  },
  "language_info": {
   "codemirror_mode": {
    "name": "ipython",
    "version": 3
   },
   "file_extension": ".py",
   "mimetype": "text/x-python",
   "name": "python",
   "nbconvert_exporter": "python",
   "pygments_lexer": "ipython3",
   "version": "3.8.3"
  }
 },
 "nbformat": 4,
 "nbformat_minor": 4
}
