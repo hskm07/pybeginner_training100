{
 "cells": [
  {
   "cell_type": "markdown",
   "metadata": {},
   "source": [
    "# Chapter06: "
   ]
  },
  {
   "cell_type": "markdown",
   "metadata": {},
   "source": [
    "## 問題120: モジュールの読み込みとimport文"
   ]
  },
  {
   "cell_type": "markdown",
   "metadata": {},
   "source": [
    "今までも何度か、`os`モジュールや `random`モジュール、`pathlib`モジュールなど使ってきました。\n",
    "\n",
    "利用したいモジュールやパッケージを利用するためには、**import** 文を使用します。\n",
    "\n",
    "import文には、いくつか使用パターンがあるので、まず、そちらを紹介します。\n",
    "\n",
    "### import文\n",
    "\n",
    "通常のモジュール読み込みで使用する構文です。使用したいモジュール名をimportする形です。\n",
    "\n",
    "```python\n",
    "    import モジュール名\n",
    "\n",
    "    ## 使用例: pathlibを使用\n",
    "    import pathlib\n",
    "\n",
    "```\n",
    "\n",
    "### from ~ import ~ 文\n",
    "\n",
    "**from** 句を使用する場合、特定の関数やクラスのみを使用したい場合、利用されます。\n",
    "\n",
    "記述したコードで、`pathlib.Path` しか使わない場合、`pathlib` から   `Path` をimportするだけで良さそうですね。\n",
    "\n",
    "**from** を使うかどうかの判断は、記述したコード内で利用するモジュールに含まれる特定の関数のみの使用の場合、fromを使います。\n",
    "\n",
    "```python\n",
    "    from モジュール名 import 利用したい関数やクラス\n",
    "\n",
    "    ## 使用例: pathlibからPathクラスをimport\n",
    "    from pathlib import Path\n",
    "```\n",
    "\n",
    "### import ~ as ~ 文\n",
    "\n",
    "`as`句は、importしたモジュールや関数・クラスに別名をつけ扱うことができます。\n",
    "\n",
    "```python\n",
    "    import モジュール名 as 別名\n",
    "\n",
    "    ## 使用例\n",
    "    import pathlib as pl\n",
    "    ### このスクリプトではplとして扱われる\n",
    "    pl.Path(\"input\")\n",
    "```\n",
    "\n",
    "### その他\n",
    "\n",
    "その他の構文はありませんが、import文は、自作したモジュールも呼び出すことができます。\n",
    "\n",
    "例題として、`input/samplemodule.py`をimportしてみましょう。\n",
    "\n",
    "`samplemodule.py`には、hello()が定義されています。\n",
    "\n",
    "これを以下のコード欄で呼び出して使用してみましょう。\n"
   ]
  },
  {
   "cell_type": "code",
   "execution_count": null,
   "metadata": {},
   "outputs": [],
   "source": [
    "#コードを記述\n"
   ]
  },
  {
   "cell_type": "markdown",
   "metadata": {},
   "source": [
    "### 問題120 の回答・実行例\n",
    "\n",
    "<details>\n",
    "<summary> > 回答と実行例を表示する</summary>\n",
    "\n",
    "```python\n",
    "    from input import samplemodule\n",
    "    samplemodule.hello()\n",
    "```\n",
    "\n",
    "実行結果\n",
    "```python\n",
    "    hello, this script : \n",
    "    <コンピュータ上の任意の場所が表示>python/pybeginner_training100/source/input/samplemodule.py\n",
    "```\n",
    "\n",
    "</details>\n",
    " \n",
    "import文は、開発現場では非常に大切な要素になるので、しっかり学習しておきましょう。\n",
    "\n",
    "* 参考 [5. インポートシステム - docs.python.org](https://docs.python.org/ja/3/reference/import.html)\n",
    "* 参考 [Python, importの使い方（from, as, PEP8の推奨スタイル, 注意点など）- note.nkmk.me](https://note.nkmk.me/python-import-usage/)\n",
    "\n",
    "---"
   ]
  },
  {
   "cell_type": "markdown",
   "metadata": {},
   "source": [
    "## 問題121: モジュールとパッケージと\\_\\_init\\_\\_.pyについて"
   ]
  },
  {
   "cell_type": "markdown",
   "metadata": {},
   "source": [
    "ここでは、モジュールとパッケージの違いについてご紹介します。\n",
    "\n",
    "さらにPythonではライブラリという用語もよく使われます。一旦ここで用語の整理をしていきます。\n",
    "\n",
    "それぞれを簡単にまとめると、\n",
    "\n",
    "### モジュールとは\n",
    "関数やクラスなどを集めた `.py` のことを指し、他のプログラムから再利用できるようにしたファイルのことです。そのため、先ほど問題119で実行した `input/samplemodule.py` は関数をまとめた `.py` となるためモジュールです。\n",
    "\n",
    "![module](img/module.png)\n",
    "\n",
    "### パッケージとは\n",
    "モジュールを集めたモジュール群のことを指し、\\_\\_init\\_\\_.pyと複数のモジュールがディレクトリに集まったものです。類似した機能がまとまったモジュール群をディレクトリごと、importしたい場合、パッケージとして扱った方がいいです。\n",
    "\n",
    "![package](img/package.png)\n",
    "\n",
    "### ライブラリとは\n",
    "ある程度まとまった汎用性の高い処理（関数・クラス・その他）を他のプログラムから読み込むことで、使うことが出来るようにしたファイル。よくサードパッケージの `numpy` や `pandas`、`openpyxl`、`OpenCV`などがこれにあたります。また、setup.pyを使った自作ライブラリなども該当します。\n",
    "\n",
    "![library](img/library.png)\n",
    "\n",
    "おそらく最初のうちは、\n",
    "\n",
    "* **「 `import XXX` 利用できるもの」= ライブラリ**\n",
    "* **「 `import XXX` 利用できるもの」= モジュール**\n",
    "\n",
    "ぐらいで構いません。\n",
    "\n",
    "しかし、少し規模が大きい開発になってくると、モジュールやパッケージの違いはしっかり理解する必要があります。\n",
    "\n"
   ]
  },
  {
   "cell_type": "markdown",
   "metadata": {},
   "source": [
    "### 問題121 の回答・実行例\n",
    "\n",
    "<details>\n",
    "<summary> > 回答と実行例を表示する</summary>\n",
    "\n",
    "特にありません。\n",
    "\n",
    "</details>\n",
    " \n",
    "<br>\n",
    "\n",
    "* 参考 [6. モジュール - docs.python.org](https://docs.python.org/ja/3/tutorial/modules.html)\n",
    "* 参考 [Python でモジュール／パッケージを作成する - まくまくPythonノート](https://maku77.github.io/python/env/create-module.html)\n",
    "\n",
    "---"
   ]
  },
  {
   "cell_type": "markdown",
   "metadata": {},
   "source": [
    "## 問題122: \\_\\_init\\_\\_.py 不要説と正しい理解"
   ]
  },
  {
   "cell_type": "markdown",
   "metadata": {},
   "source": [
    "Pythonのパッケージやモジュールの勉強をしていると、`__init__.py` というファイルをよく見かけると思います。\n",
    "\n",
    "この問題では、`__init__.py` の役割と必要性を考えていきたいと思います。\n",
    "\n",
    "結論としては、名前空間パッケージを使用しないのであれば、`__init__.py` は必要です。これが理解できている方やパッケージをどう設計するかという議論は今はいいという方は、以下の内容を読まなくても大丈夫です。\n",
    "\n",
    "### \\_\\_init\\_\\_.pyの役割\n",
    "\n",
    "ある程度大きい規模の開発であれば、以下のようなケースに遭遇するかと思います。\n",
    "\n",
    "```bash\n",
    "    (myapp):root directory\n",
    "    |-- app.py\n",
    "    |-- __main__.py\n",
    "    |-- main.py\n",
    "    |-- module/\n",
    "        |-- __init__.py <--こういうやつ\n",
    "        |-- mymodule.py\n",
    "```\n",
    "\n",
    "上記のケースでは、ファイルを含むディレクトリをパッケージとしてPythonに認識させるためには、`__init__.py` が必要になってきます。\n",
    "\n",
    "> 参考：(モジュール - docs.python.org)[https://docs.python.org/ja/3/tutorial/modules.html?highlight=import#packages]\n",
    "\n",
    "この `__init__.py` は、大抵空ファイルで置かれることがあります。このファイルはなぜ必要なのでしょうか。\n",
    "\n",
    "`__init__.py` は、モジュールやパッケージの初期化の役割を果たします。\n",
    "\n",
    "* モジュール検索のためのマーカー\n",
    "* ディレクトリ名を名前とする名前空間の初期化\n",
    "\n",
    "まずこの2点を押さえておけば大丈夫かと思います。\n",
    "> 以下の記事は、pythonの通常パッケージと\\_\\_init__.pyについて非常によくまとまっています。  \n",
    "> 参考: [Python の __init__.py とは何なのか - Qitta](https://qiita.com/msi/items/d91ea3900373ff8b09d7)  \n",
    "> 参考：[6. モジュール - docs.python.org](https://docs.python.org/ja/3.10/tutorial/modules.html)\n",
    "\n",
    "pythonがディレクトリ自体をパッケージだと認識させるためには、この `__init__.py` が必要となってきます。\n",
    "\n",
    "この`__init__.py`があることによって、パッケージの名前衝突を避け、モジュール検索のマーカーとなることで、正しいモジュールを意図せず隠蔽されるのを防ぐためです。\n",
    "\n",
    "<br>\n",
    "\n",
    "### ネットで調べると `__init__.py` 不要と聞いたけど。。。\n",
    "\n",
    "しかし、色々な技術ブログなんかを見ると、\n",
    "\n",
    "* **最新のバージョンであればPythonは、 `__init__.py` が不要**\n",
    "\n",
    "という `__init__.py不要議論` が散見されます。\n",
    "\n",
    "確かにこの情報は、正しいですが、色々と間違っています。さらに、結構な人が**新しいバージョンのPythonであれば、パッケージ = \\_\\_init\\_\\_.py不要** と認識しています。これは誤った認識だと思っています。\n",
    "\n",
    "<br>\n",
    "\n",
    "この話の元々の所以として、python3.3以降からは、[PEP420](https://peps.python.org/pep-0420/)で **Implicit Namespace Packages** が公開されました。これはご存じの方も多かもしれません。\n",
    "\n",
    "これにより、**名前空間パッケージ** を利用する場合、ディレクトリに `__init__.py`を配置しなくても、Pythonはディレクトリを名前空間パッケージとして扱い、動的に検索をしてくれるといったものです。そもそも、名前空間パッケージとは、単一のPythonパッケージをディスク上の複数のディレクトリに分割するためのメカニズムです。\n",
    "\n",
    "<br>\n",
    "\n",
    "この時点でお分かりの通り、Pythonには、**通常パッケージ** と **名前空間パッケージ** という定義があり、この2つを使い分けて公式ドキュメントにも記載があります。\n",
    "\n",
    "> 参考: [5.2.1. Regular packages](https://docs.python.org/3.10/reference/import.html#regular-packages)  \n",
    "> Python defines two types of packages, regular packages and namespace packages. Regular packages are traditional packages as they existed in Python 3.2 and earlier. A regular package is typically implemented as a directory containing an __init__.py file. When a regular package is imported, this __init__.py file is implicitly executed, and the objects it defines are bound to names in the package’s namespace. The __init__.py file can contain the same Python code that any other module can contain, and Python will add some additional attributes to the module when it is imported.  \n",
    "\n",
    "> 参考: [5.2.2. Namespace packages](https://docs.python.org/3.10/reference/import.html#namespace-packages)\n",
    "> With namespace packages, there is no parent/__init__.py file. In fact, there may be multiple parent directories found during import search, where each one is provided by a different portion. Thus parent/one may not be physically located next to parent/two. In this case, Python will create a namespace package for the top-level parent package whenever it or one of its subpackages is imported.\n",
    "\n",
    "<br>\n",
    "\n",
    "上記のことから分かる通り、**通常パッケージ**を利用するのであれば、必ず `__init__.py` をディレクトリに配置するべきです。\n",
    "\n",
    "しかし、**名前空間パッケージ** を利用する場合、`__init__.py` は配置してはいけません。正しく認識されません。(正しい__path__が配置されません。)\n",
    "\n",
    "<br>\n",
    "\n",
    "さらに、よくないことに、**名前空間パッケージ** という概念とユースケースはかなりややこしいです。\n",
    "\n",
    "Pythonは、**The Zen of Python** で「Namespaces are one honking great idea -- let's do more of those!」と言及している通り、名前空間を使いこなすことを推奨しています。\n",
    "\n",
    "しかし、ユースケースは、かなり大規模な開発か、もしくは特殊ケースのどちらかです。私も名前空間パッケージを考慮したパッケージを構築した経験はありません。\n",
    "\n",
    "そのため、この名前空間パッケージについて詳しく語るのはやめておきます。\n",
    "\n",
    "<br>\n",
    "\n",
    "というように、**`__init__.py` は新しいバージョンでは不要** という認識は、少し誤りがあります。\n",
    "\n",
    "また、`__init__.py` が存在しないことにより、「importが遅くなる」「Unittestが対応していないので使えない」などの弊害報告も散見されます。\n",
    "\n",
    "確かに、`__init__.py` がないことにより、`__path__`に格納された情報を再ロード動的に再検索し続けなければいけないので、通常パッケージ利用を想定しているのに、名前空間パッケージ構築をしてしまうと、非常に遅くなるのは明らかです。Pythonはどの言語よりぶっちぎりで実行速度が遅い上、これ以上遅くなられては困ります。\n",
    "\n",
    "<br>\n",
    "\n",
    "Pythonにおいて、パッケージの利用は非常に重要な項目ですので、是非公式ドキュメントを読み込んでみてはいかがでしょうか。\n"
   ]
  },
  {
   "cell_type": "markdown",
   "metadata": {},
   "source": [
    "### 問題122 の回答・実行例\n",
    "\n",
    "<details>\n",
    "<summary> > 回答と実行例を表示する</summary>\n",
    "\n",
    "```python\n",
    "\n",
    "```\n",
    "\n",
    "実行結果\n",
    "```python\n",
    "\n",
    "```\n",
    "\n",
    "</details>\n",
    " \n",
    "<br>\n",
    "\n",
    "* 参考 [5.2.2. 名前空間パッケージ](https://docs.python.org/3.10/reference/import.html#namespace-packages)\n",
    "* 参考 [PEP 420 – Implicit Namespace Packages](https://peps.python.org/pep-0420/)\n",
    "* 参考 [Namespace vs regular package - stackoverflow](https://stackoverflow.com/questions/21819649/namespace-vs-regular-package)\n",
    "* 参考 [__init__.py を省略してはいけない - Qitta](https://qiita.com/methane/items/ed1e5b74747f3ffe9324)\n",
    "\n",
    "---"
   ]
  },
  {
   "cell_type": "markdown",
   "metadata": {},
   "source": [
    "## 問題123: \\_\\_name\\_\\_ == \\_\\_main\\_\\_ とは"
   ]
  },
  {
   "cell_type": "markdown",
   "metadata": {},
   "source": [
    "`__name__ == __main__` は、Pythonの学習をしていると、かなりの頻度で目にする記述ではないでしょうか。\n",
    "\n",
    "この意味と必要性について学習していきます。\n",
    "\n",
    "この一文は以下のような感じでしようされることがほとんどです。以下のようなコード `samplemod.py` に記述されていたとします。\n",
    "\n",
    "```python\n",
    "    # samplemod.py\n",
    "    # 以下のコードは説明用のサンプル\n",
    "    def calc_movie_ticket():\n",
    "        \"\"\"チケット枚数を数える関数\"\"\"\n",
    "        ...\n",
    "\n",
    "    def amount():\n",
    "        \"\"\"calc_movie_ticket()を使って合計を計算\"\"\"\n",
    "        ...\n",
    "\n",
    "    if __name__ == \"__main__\":\n",
    "        amount()\n",
    "```\n",
    "\n",
    "通常であれば、定義した関数をモジュールとして、別のスクリプトから呼び出して使用することでしょう。しかし、時と場合によっては、この `samplemod.py` をスクリプトとして使用したいときもあります。\n",
    "\n",
    "そこで、モジュールをスクリプトとして扱うために、使用する一文が `__name__ == __maine__` です。\n",
    "\n",
    "<br>\n",
    "\n",
    "おそらく言葉で説明してもよくわからないかもしれないので、実際に手を動かしてやってみましょう。\n",
    "\n",
    "まず、このファイルが配置されているフォルダでもいいので、`main.py`というファイルを作成し、以下の一文を入れて、コマンドプロンプトやコンソール上で `python main.py` と実行してみてください。"
   ]
  },
  {
   "cell_type": "code",
   "execution_count": null,
   "metadata": {},
   "outputs": [],
   "source": [
    "# main.pyを作成し、以下の一文を追加\n",
    "print(__name__)"
   ]
  },
  {
   "cell_type": "markdown",
   "metadata": {},
   "source": [
    "実行すると、おそらく`__main__` と表示されるかと思います。\n",
    "\n",
    "要するに、「今私が実行しているスクリプトは、main実行しているスクリプト」ということを表しています。\n",
    "\n",
    "続いて、`print(__name__)` を、別のスクリプト`submod.py` を作成・記述し、これを先ほどの `main.py` から呼び出してみましょう。\n",
    "\n",
    "```python\n",
    "    # submod.pyを作成し、以下のように記述\n",
    "    print('submod.py : ', __name__)\n",
    "```\n",
    "\n",
    "そして、以下のように、`main.py` を直し実行してみてください。\n",
    "\n",
    "このアンダースコアが2つ並んだワードは、**dunder(ダンダー)メソッド** といい、特殊メソッドとして扱われます。"
   ]
  },
  {
   "cell_type": "code",
   "execution_count": null,
   "metadata": {},
   "outputs": [],
   "source": [
    "# mian.pyからsubmod.pyをimportする\n",
    "import submod\n",
    "\n",
    "print(__name__)"
   ]
  },
  {
   "cell_type": "markdown",
   "metadata": {},
   "source": [
    "以下のような実行結果になったと思います。\n",
    "\n",
    "```python\n",
    "    submod.py :  submod\n",
    "    __main__\n",
    "```\n",
    "\n",
    "`submod.py` から読み込んだ `__name__` はファイルやモジュールから読み込まれた場合、そのファイル名が格納されます。ちなみに、`import` した時点で `print()` が実行されるのは、import した時点でインタプリタが処理を走らせるためです。def文も処理が走っていますが、importされた時点でスタックフレームに積まれるという処理ですので、実際の内部の処理が実行されるわけではありません。\n",
    "\n",
    "試しに、`submod.py` の先頭行に以下のような関数を追加してみましょう。\n",
    "\n",
    "```python\n",
    "    # submod.pyの先頭行に以下の文を追加。\n",
    "    def hello():\n",
    "        return \"hello world\"\n",
    "```\n",
    "\n",
    "この状態で、`python main.py` を実行してみましょう。\n",
    "\n",
    "おそらく先ほどと同じ結果になったと思います。特に`hello world` などは出力されないかと思います。\n",
    "\n",
    "<br>\n",
    "\n",
    "しかし、例えば、「 `hello()` をテストで動かしてみたいな」と思って、`submod.py` に以下のようなコードを、他の誰かが追加してしまったとしましょう。\n",
    "\n",
    "```python\n",
    "    # submod.py行に以下のようなコードを追加\n",
    "    def hello():\n",
    "        print(\"hello world\")\n",
    "    \n",
    "    print(hello()) #追加\n",
    "\n",
    "    print('submod.py : ', __name__)\n",
    "```\n",
    "\n",
    "これで `main.py (python3 mian.py)`を実行すると、"
   ]
  },
  {
   "cell_type": "code",
   "execution_count": null,
   "metadata": {},
   "outputs": [],
   "source": [
    "# mian.pyからsubmod.pyをimportする\n",
    "import submod\n",
    "\n",
    "print(__name__)"
   ]
  },
  {
   "cell_type": "markdown",
   "metadata": {},
   "source": [
    "以下のような実行結果となると思います。\n",
    "\n",
    "```python\n",
    "    hello world\n",
    "    submod.py :  submod\n",
    "    __main__\n",
    "```\n",
    "\n",
    "デバッグ用に追加したコードが勝手に実行されてしまいました。\n",
    "\n",
    "そこで役に立つのが、`__init__ == __main__` です。\n",
    "\n",
    "`submod.py` を以下のように修正して、`main.py` を実行してみましょう。\n",
    "\n",
    "```python\n",
    "    # submod.py行に以下のようなコードを追加\n",
    "    def hello():\n",
    "        print(\"hello world\")\n",
    "\n",
    "    if __name__ == \"__main__\": #追加    \n",
    "        print(hello()) \n",
    "        print('submod.py : ', __name__)\n",
    "```\n",
    "\n",
    "こうすることで、`hello()` は実行されません。\n",
    "\n",
    "`main.py` を実行すると、`submod.py` の `__name__` は `submod` ですので、if文の判定が`False`になり、if文以下で定義したコードが実行されません。\n",
    "\n",
    "<br>\n",
    "\n",
    "このように、`if __name__ == \"__main__\"` の役割は、\n",
    "\n",
    "* そのコードを直接実行する：スクリプトとして扱う\n",
    "* そのコードを他のスクリプトから呼び出す：モジュールとして扱う\n",
    "\n",
    "という処理を区別するためのマーカー代わりになっているとも言えます。\n",
    "\n",
    "これは、非常に重要な一文ですので、必ず押さえておいてください。\n"
   ]
  },
  {
   "cell_type": "markdown",
   "metadata": {},
   "source": [
    "### 問題123 の回答・実行例\n",
    "\n",
    "<details>\n",
    "<summary> > 回答と実行例を表示する</summary>\n",
    "\n",
    "特にありません。\n",
    "\n",
    "</details>\n",
    " \n",
    "<br>\n",
    "\n",
    "* 参考 [6.1.1. モジュールをスクリプトとして実行する - docs.python.org](https://docs.python.org/ja/3/tutorial/modules.html#executing-modules-as-scripts)\n",
    "\n",
    "---"
   ]
  },
  {
   "cell_type": "markdown",
   "metadata": {},
   "source": [
    "ここからは、少し色々なパッケージを使って学習していきましょう。"
   ]
  },
  {
   "cell_type": "markdown",
   "metadata": {},
   "source": [
    "## 問題124: Wordを読み込んでみよう"
   ]
  },
  {
   "cell_type": "markdown",
   "metadata": {},
   "source": [
    "PythonでWordファイルを読み取ってみましょう。\n",
    "\n",
    "今回使用するライブラリは、`python-docx` です。このライブラリはサードパーティパッケージで、主に、**Word**ファイルを操作することが可能です。\n",
    "\n",
    "おそらく、皆さんも実務でWord文書を扱うことは多いのではないでしょうか。\n",
    "\n",
    "まず、ライブラリをインストールするためには、以下のコマンドを実行しましょう。\n",
    "\n",
    "```bash\n",
    "$ pip install python-docx\n",
    "```\n",
    "\n",
    "<br>\n",
    "\n",
    "早速使ってみましょう。\n",
    "\n",
    "まずは、今回読み込むサンプルとして、`input` フォルダに `sample_word.docx`を入れておきました。このドキュメントを使ってライブラリを試していきます。\n",
    "\n",
    "### word文書の読み込み\n",
    "\n",
    "まずライブラリをimportしましょう。\n",
    "\n",
    "```python\n",
    "    import docx\n",
    "```\n",
    "\n",
    "### wordファイルの読み込み\n",
    "\n",
    "wordファイルは、`docx.Document()`で読み込みます。\n",
    "\n",
    "```python\n",
    "    doc = docx.Document(\"読み込むwordファイルパス\")\n",
    "```\n",
    "\n",
    "### 問題\n",
    "\n",
    "その後、word文書を読み込み、1行ずつ表示してみましょう。変数 `cnt`は行数として利用します。\n",
    "\n",
    "```python\n",
    "    import docx\n",
    "\n",
    "    doc = docx.Document(\"input/sample_word.docx\")\n",
    "\n",
    "    for cnt, para in enumerate(doc.paragraphs):\n",
    "        print(cnt+1, para.text)\n",
    "```\n",
    "\n",
    "word文書のテキストは、`Paragraph`オブジェクト から取得できます。`Paragraph`オブジェクトは、リストでテキストオブジェクトが格納されるので、それをfor文等でイテレーションを回すことでテキストを取得できます。"
   ]
  },
  {
   "cell_type": "code",
   "execution_count": null,
   "metadata": {},
   "outputs": [],
   "source": [
    "#コードを記述"
   ]
  },
  {
   "cell_type": "markdown",
   "metadata": {},
   "source": [
    "また、よく見かけるユースケースで、過去の検査や実験結果を表としての報告書に記載することはあるのではないでしょうか。過去のwordファイルから一括で表のデータを取得して、集計することも可能です。\n",
    "\n",
    "`input/sample_word.docx` にも、表データを載せています。その表を取得して、全ての値を表示してみましょう。以下のコードを実行してみましょう。\n",
    "\n",
    "```python\n",
    "    init_table = doc.tables[0]\n",
    "    for row_index, row in enumerate(init_table.rows):\n",
    "        for col_index, cell in enumerate(row.cells):\n",
    "            print(f\"{row_index+1}行 {col_index+1}列 : 値 {cell.text}\")\n",
    "```"
   ]
  },
  {
   "cell_type": "code",
   "execution_count": null,
   "metadata": {},
   "outputs": [],
   "source": [
    "# 表データを表示してみる\n",
    "    "
   ]
  },
  {
   "cell_type": "markdown",
   "metadata": {},
   "source": [
    "### 問題124 の回答・実行例\n",
    "\n",
    "<details>\n",
    "<summary> > 回答と実行例を表示する</summary>\n",
    "\n",
    "```python\n",
    "    import docx\n",
    "\n",
    "    doc = docx.Document(\"input/sample_word.docx\")\n",
    "\n",
    "    for cnt, para in enumerate(doc.paragraphs):\n",
    "        print(cnt+1, para.text)\n",
    "\n",
    "    # 表データを表示してみる\n",
    "    # 最初の表だけを処理対象とする\n",
    "    init_table = doc.tables[0]\n",
    "    for row_index, row in enumerate(init_table.rows):\n",
    "        for col_index, cell in enumerate(row.cells):\n",
    "            print(f\"{row_index+1}行 {col_index+1}列 : 値 {cell.text}\")\n",
    "```\n",
    "\n",
    "実行結果\n",
    "```python\n",
    "    1 \n",
    "    2 Python基礎100本ノック\n",
    "    3 Python初心者から１歩前進するための写経用テキスト\n",
    "    4 \n",
    "    5 \n",
    "    6 \n",
    "    7 \n",
    "    8 \n",
    "    9 作成日：2020年12月19日\n",
    "    10 更新日：2021年10月16日\n",
    "    11 ゼロから始めるPython講座配布資料\n",
    "\n",
    "    12 はじめに\n",
    "    13 以下の画像はサンプル画像です。\n",
    "    14 \n",
    "    15 表サンプル：実験結果\n",
    "    16  \n",
    "\n",
    "    1行 1列 : 値 実験日\n",
    "    1行 2列 : 値 Sample1\n",
    "    1行 3列 : 値 Sample2\n",
    "    1行 4列 : 値 Sample3\n",
    "    2行 1列 : 値 9/1\n",
    "    2行 2列 : 値 10\n",
    "    2行 3列 : 値 11\n",
    "    2行 4列 : 値 12\n",
    "    3行 1列 : 値 9/2\n",
    "    3行 2列 : 値 120\n",
    "    3行 3列 : 値 32\n",
    "    3行 4列 : 値 42\n",
    "    4行 1列 : 値 9/3\n",
    "    4行 2列 : 値 133\n",
    "    4行 3列 : 値 12\n",
    "    4行 4列 : 値 87\n",
    "    5行 1列 : 値 9/4\n",
    "    5行 2列 : 値 67\n",
    "    5行 3列 : 値 63\n",
    "    5行 4列 : 値 43\n",
    "    6行 1列 : 値 9/5\n",
    "    6行 2列 : 値 100\n",
    "    6行 3列 : 値 90\n",
    "    6行 4列 : 値 11\n",
    "```\n",
    "\n",
    "</details>\n",
    "\n",
    "<br>\n",
    "\n",
    "表データを扱う方法について\n",
    "\n",
    "`docx.table.Table` オブジェクトから表情報を取得できます。\n",
    "\n",
    "word全体の表情報は、`doc.tables`にリストで取得できます。今回は、表はドキュメント内に1つしかないですが、明示的に最初の表だけを処理対象としたいので、`doc.tables[0]` としました。\n",
    "\n",
    "あとは、for文を使って、`row` と `cells` から順にデータを取得するだけです。\n",
    " \n",
    "\n",
    "* 参考 [python-docx - python-docx.readthedocs.io](https://python-docx.readthedocs.io/en/latest/)\n",
    "* 参考 [python-docx 0.8.11](https://pypi.org/project/python-docx/)\n",
    "* 参考 [python-docxによるWordファイル操作方法のまとめ - GAMMASOFT](https://gammasoft.jp/support/how-to-use-python-docx-for-word-file/)\n",
    "\n",
    "---"
   ]
  },
  {
   "cell_type": "markdown",
   "metadata": {},
   "source": [
    "## 問題125: PythonでWordを処理してみよう"
   ]
  },
  {
   "cell_type": "markdown",
   "metadata": {},
   "source": [
    "それでは、先ほど読み込んだwordファイルに、Pythonを使って何か追記して新規ファイルとして保存してみましょう。\n",
    "\n",
    "### 書式：新規でwordファイルを保存する\n",
    "\n",
    "wordファイルを保存する場合、`save`メソッドを使います。\n",
    "\n",
    "```python\n",
    "    doc = docx.Document(<読み込むwordファイルパス>)\n",
    "    doc.save(<保存先wordファイルパス>)\n",
    "```\n",
    "\n",
    "### 書式：末尾に段落を追加する\n",
    "\n",
    "`add_paragraph` を使うとテキストを挿入できます。\n",
    "\n",
    "```python\n",
    "    doc.add_paragraph('追加する文書')\n",
    "```\n",
    "\n",
    "### 問題\n",
    "\n",
    "それでは、先ほどと同様、`input/sample_word.docx` の行から、空白行には、`empty`を追加し、最終行に\"hello world\"を追加して、`output/result_word.docx` を新規保存してみましょう。\n",
    "\n",
    "```python\n",
    "    import docx\n",
    "\n",
    "    doc = docx.Document(\"input/sample_word.docx\")\n",
    "\n",
    "    for cnt, para in enumerate(doc.paragraphs):\n",
    "        print(cnt+1, para.text)\n",
    "```"
   ]
  },
  {
   "cell_type": "code",
   "execution_count": 15,
   "metadata": {},
   "outputs": [],
   "source": [
    "#コードを記述\n"
   ]
  },
  {
   "cell_type": "markdown",
   "metadata": {},
   "source": [
    "### 問題125 の回答・実行例\n",
    "\n",
    "<details>\n",
    "<summary> > 回答と実行例を表示する</summary>\n",
    "\n",
    "```python\n",
    "    import docx\n",
    "    doc = docx.Document(\"input/sample_word.docx\")\n",
    "    for cnt, para in enumerate(doc.paragraphs):\n",
    "        if not para.text:\n",
    "            para.text = \"empty\"\n",
    "\n",
    "    doc.add_paragraph(\"hello world\")\n",
    "    doc.save(\"output/result_word.docx\")\n",
    "```\n",
    "\n",
    "実行結果\n",
    "\n",
    "実際にドキュメント `output` フォルダにある `result_word.docx` を開いて確認してみましょう。\n",
    "\n",
    "空白行には、\"empty\"と追加され、最後の行にはhello worldと表示されていると思います。\n",
    "\n",
    "</details>\n",
    "\n",
    "このライブラリを使えば、決まり切った定型的なドキュメント作成・編集作業を自動化することができ、さらに、過去のドキュメントからも簡単に情報が抜き出せるので、是非使ってみてください。 \n",
    "\n",
    "もっと知りたいときは、以下の参考資料を確認して習得してみてください。\n",
    "\n",
    "* 参考 [python-docx](https://python-docx.readthedocs.io/en/latest/index.html)\n",
    "* 参考 [python-docxによるWordファイル操作方法のまとめ - GAMMASOFT](https://gammasoft.jp/support/how-to-use-python-docx-for-word-file/)\n",
    "\n",
    "---"
   ]
  },
  {
   "cell_type": "markdown",
   "metadata": {},
   "source": [
    "## 問題126: PDFデータを読み込んでみよう"
   ]
  },
  {
   "cell_type": "markdown",
   "metadata": {},
   "source": []
  },
  {
   "cell_type": "code",
   "execution_count": null,
   "metadata": {},
   "outputs": [],
   "source": [
    "#コードを記述\n"
   ]
  },
  {
   "cell_type": "markdown",
   "metadata": {},
   "source": [
    "### 問題126 の回答・実行例\n",
    "\n",
    "<details>\n",
    "<summary> > 回答と実行例を表示する</summary>\n",
    "\n",
    "```python\n",
    "\n",
    "```\n",
    "\n",
    "実行結果\n",
    "```python\n",
    "\n",
    "```\n",
    "\n",
    "</details>\n",
    " \n",
    "\n",
    "* 参考 []()\n",
    "* 参考 []()\n",
    "\n",
    "---"
   ]
  },
  {
   "cell_type": "markdown",
   "metadata": {},
   "source": [
    "## 問題127: PDFデータを作成してみよう"
   ]
  },
  {
   "cell_type": "markdown",
   "metadata": {},
   "source": []
  },
  {
   "cell_type": "code",
   "execution_count": null,
   "metadata": {},
   "outputs": [],
   "source": [
    "#コードを記述\n"
   ]
  },
  {
   "cell_type": "markdown",
   "metadata": {},
   "source": [
    "### 問題127 の回答・実行例\n",
    "\n",
    "<details>\n",
    "<summary> > 回答と実行例を表示する</summary>\n",
    "\n",
    "```python\n",
    "\n",
    "```\n",
    "\n",
    "実行結果\n",
    "```python\n",
    "\n",
    "```\n",
    "\n",
    "</details>\n",
    " \n",
    "\n",
    "* 参考 []()\n",
    "* 参考 []()\n",
    "\n",
    "---"
   ]
  },
  {
   "cell_type": "markdown",
   "metadata": {},
   "source": [
    "## 問題128: 画像データを読み込んでみよう"
   ]
  },
  {
   "cell_type": "markdown",
   "metadata": {},
   "source": []
  },
  {
   "cell_type": "code",
   "execution_count": null,
   "metadata": {},
   "outputs": [],
   "source": [
    "#コードを記述\n"
   ]
  },
  {
   "cell_type": "markdown",
   "metadata": {},
   "source": [
    "### 問題128 の回答・実行例\n",
    "\n",
    "<details>\n",
    "<summary> > 回答と実行例を表示する</summary>\n",
    "\n",
    "```python\n",
    "\n",
    "```\n",
    "\n",
    "実行結果\n",
    "```python\n",
    "\n",
    "```\n",
    "\n",
    "</details>\n",
    " \n",
    "\n",
    "* 参考 []()\n",
    "* 参考 []()\n",
    "\n",
    "---"
   ]
  },
  {
   "cell_type": "markdown",
   "metadata": {},
   "source": [
    "## 問題129: 画像データを処理してみよう"
   ]
  },
  {
   "cell_type": "markdown",
   "metadata": {},
   "source": []
  },
  {
   "cell_type": "code",
   "execution_count": null,
   "metadata": {},
   "outputs": [],
   "source": [
    "#コードを記述\n"
   ]
  },
  {
   "cell_type": "markdown",
   "metadata": {},
   "source": [
    "### 問題129 の回答・実行例\n",
    "\n",
    "<details>\n",
    "<summary> > 回答と実行例を表示する</summary>\n",
    "\n",
    "```python\n",
    "\n",
    "```\n",
    "\n",
    "実行結果\n",
    "```python\n",
    "\n",
    "```\n",
    "\n",
    "</details>\n",
    " \n",
    "\n",
    "* 参考 []()\n",
    "* 参考 []()\n",
    "\n",
    "---"
   ]
  },
  {
   "cell_type": "markdown",
   "metadata": {},
   "source": [
    "## 問題130: Excelからpythonのコードを自動生成する:準備"
   ]
  },
  {
   "cell_type": "markdown",
   "metadata": {},
   "source": []
  },
  {
   "cell_type": "code",
   "execution_count": null,
   "metadata": {},
   "outputs": [],
   "source": [
    "#コードを記述\n"
   ]
  },
  {
   "cell_type": "markdown",
   "metadata": {},
   "source": [
    "### 問題130 の回答・実行例\n",
    "\n",
    "<details>\n",
    "<summary> > 回答と実行例を表示する</summary>\n",
    "\n",
    "```python\n",
    "\n",
    "```\n",
    "\n",
    "実行結果\n",
    "```python\n",
    "\n",
    "```\n",
    "\n",
    "</details>\n",
    " \n",
    "\n",
    "* 参考 []()\n",
    "* 参考 []()\n",
    "\n",
    "---"
   ]
  },
  {
   "cell_type": "markdown",
   "metadata": {},
   "source": [
    "## 問題131: Excelからpythonのコードを自動生成する:操作"
   ]
  },
  {
   "cell_type": "markdown",
   "metadata": {},
   "source": []
  },
  {
   "cell_type": "code",
   "execution_count": null,
   "metadata": {},
   "outputs": [],
   "source": [
    "#コードを記述\n"
   ]
  },
  {
   "cell_type": "markdown",
   "metadata": {},
   "source": [
    "### 問題131 の回答・実行例\n",
    "\n",
    "<details>\n",
    "<summary> > 回答と実行例を表示する</summary>\n",
    "\n",
    "```python\n",
    "\n",
    "```\n",
    "\n",
    "実行結果\n",
    "```python\n",
    "\n",
    "```\n",
    "\n",
    "</details>\n",
    " \n",
    "\n",
    "* 参考 []()\n",
    "* 参考 []()\n",
    "\n",
    "---"
   ]
  },
  {
   "cell_type": "markdown",
   "metadata": {},
   "source": [
    "## 問題132: Excelから自動生成したコードを処理してみる"
   ]
  },
  {
   "cell_type": "markdown",
   "metadata": {},
   "source": []
  },
  {
   "cell_type": "code",
   "execution_count": null,
   "metadata": {},
   "outputs": [],
   "source": [
    "#コードを記述\n"
   ]
  },
  {
   "cell_type": "markdown",
   "metadata": {},
   "source": [
    "### 問題132 の回答・実行例\n",
    "\n",
    "<details>\n",
    "<summary> > 回答と実行例を表示する</summary>\n",
    "\n",
    "```python\n",
    "\n",
    "```\n",
    "\n",
    "実行結果\n",
    "```python\n",
    "\n",
    "```\n",
    "\n",
    "</details>\n",
    " \n",
    "\n",
    "* 参考 []()\n",
    "* 参考 []()\n",
    "\n",
    "---"
   ]
  },
  {
   "cell_type": "markdown",
   "metadata": {},
   "source": [
    "## 問題133: Excelから自動生成したコードを統計処理にかけてみる"
   ]
  },
  {
   "cell_type": "markdown",
   "metadata": {},
   "source": []
  },
  {
   "cell_type": "code",
   "execution_count": null,
   "metadata": {},
   "outputs": [],
   "source": [
    "#コードを記述\n"
   ]
  },
  {
   "cell_type": "markdown",
   "metadata": {},
   "source": [
    "### 問題133 の回答・実行例\n",
    "\n",
    "<details>\n",
    "<summary> > 回答と実行例を表示する</summary>\n",
    "\n",
    "```python\n",
    "\n",
    "```\n",
    "\n",
    "実行結果\n",
    "```python\n",
    "\n",
    "```\n",
    "\n",
    "</details>\n",
    " \n",
    "\n",
    "* 参考 []()\n",
    "* 参考 []()\n",
    "\n",
    "---"
   ]
  },
  {
   "cell_type": "markdown",
   "metadata": {},
   "source": [
    "## 問題134: Excelから自動生成したコードを機械学習にかけてみる"
   ]
  },
  {
   "cell_type": "markdown",
   "metadata": {},
   "source": []
  },
  {
   "cell_type": "code",
   "execution_count": null,
   "metadata": {},
   "outputs": [],
   "source": [
    "#コードを記述\n"
   ]
  },
  {
   "cell_type": "markdown",
   "metadata": {},
   "source": [
    "### 問題134 の回答・実行例\n",
    "\n",
    "<details>\n",
    "<summary> > 回答と実行例を表示する</summary>\n",
    "\n",
    "```python\n",
    "\n",
    "```\n",
    "\n",
    "実行結果\n",
    "```python\n",
    "\n",
    "```\n",
    "\n",
    "</details>\n",
    " \n",
    "\n",
    "* 参考 []()\n",
    "* 参考 []()\n",
    "\n",
    "---"
   ]
  }
 ],
 "metadata": {
  "kernelspec": {
   "display_name": "Python 3.9.13 ('.venv': poetry)",
   "language": "python",
   "name": "python3"
  },
  "language_info": {
   "codemirror_mode": {
    "name": "ipython",
    "version": 3
   },
   "file_extension": ".py",
   "mimetype": "text/x-python",
   "name": "python",
   "nbconvert_exporter": "python",
   "pygments_lexer": "ipython3",
   "version": "3.9.13"
  },
  "vscode": {
   "interpreter": {
    "hash": "0eb13e06639adadfc3e43be447705b429278b89ea552c102ccee7a972aa1e78a"
   }
  }
 },
 "nbformat": 4,
 "nbformat_minor": 4
}
