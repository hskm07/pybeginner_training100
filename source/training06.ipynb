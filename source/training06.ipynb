{
 "cells": [
  {
   "cell_type": "markdown",
   "metadata": {},
   "source": [
    "# Chapter06: "
   ]
  },
  {
   "cell_type": "markdown",
   "metadata": {},
   "source": [
    "## 問題119: モジュールの読み込みとimport文"
   ]
  },
  {
   "cell_type": "markdown",
   "metadata": {},
   "source": [
    "今までも何度か、`os`モジュールや `random`モジュール、`pathlib`モジュールなど使ってきました。\n",
    "\n",
    "利用したいモジュールやパッケージを利用するためには、**import** 文を使用します。\n",
    "\n",
    "import文には、いくつか使用パターンがあるので、まず、そちらを紹介します。\n",
    "\n",
    "### import文\n",
    "\n",
    "通常のモジュール読み込みで使用する構文です。使用したいモジュール名をimportする形です。\n",
    "\n",
    "```python\n",
    "    import モジュール名\n",
    "\n",
    "    ## 使用例: pathlibを使用\n",
    "    import pathlib\n",
    "\n",
    "```\n",
    "\n",
    "### from ~ import ~ 文\n",
    "\n",
    "**from** 句を使用する場合、特定の関数やクラスのみを使用したい場合、利用されます。\n",
    "\n",
    "記述したコードで、`pathlib.Path` しか使わない場合、`pathlib` から   `Path` をimportするだけで良さそうですね。\n",
    "\n",
    "**from** を使うかどうかの判断は、記述したコード内で利用するモジュールに含まれる特定の関数のみの使用の場合、fromを使います。\n",
    "\n",
    "```python\n",
    "    from モジュール名 import 利用したい関数やクラス\n",
    "\n",
    "    ## 使用例: pathlibからPathクラスをimport\n",
    "    from pathlib import Path\n",
    "```\n",
    "\n",
    "### import ~ as ~ 文\n",
    "\n",
    "`as`句は、importしたモジュールや関数・クラスに別名をつけ扱うことができます。\n",
    "\n",
    "```python\n",
    "    import モジュール名 as 別名\n",
    "\n",
    "    ## 使用例\n",
    "    import pathlib as pl\n",
    "    ### このスクリプトではplとして扱われる\n",
    "    pl.Path(\"input\")\n",
    "```\n",
    "\n",
    "### その他\n",
    "\n",
    "その他の構文はありませんが、import文は、自作したモジュールも呼び出すことができます。\n",
    "\n",
    "例題として、`input/samplemodule.py`をimportしてみましょう。\n",
    "\n",
    "`samplemodule.py`には、hello()が定義されています。\n",
    "\n",
    "これを以下のコード欄で呼び出して使用してみましょう。\n"
   ]
  },
  {
   "cell_type": "code",
   "execution_count": null,
   "metadata": {},
   "outputs": [],
   "source": [
    "#コードを記述\n"
   ]
  },
  {
   "cell_type": "markdown",
   "metadata": {},
   "source": [
    "### 問題119 の回答・実行例\n",
    "\n",
    "<details>\n",
    "<summary> > 回答と実行例を表示する</summary>\n",
    "\n",
    "```python\n",
    "    from input import samplemodule\n",
    "    samplemodule.hello()\n",
    "```\n",
    "\n",
    "実行結果\n",
    "```python\n",
    "    hello, this script : \n",
    "    <コンピュータ上の任意の場所が表示>python/pybeginner_training100/source/input/samplemodule.py\n",
    "```\n",
    "\n",
    "</details>\n",
    " \n",
    "import文は、開発現場では非常に大切な要素になるので、しっかり学習しておきましょう。\n",
    "\n",
    "* 参考 [5. インポートシステム - docs.python.org](https://docs.python.org/ja/3/reference/import.html)\n",
    "* 参考 [Python, importの使い方（from, as, PEP8の推奨スタイル, 注意点など）- note.nkmk.me](https://note.nkmk.me/python-import-usage/)\n",
    "\n",
    "---"
   ]
  },
  {
   "cell_type": "markdown",
   "metadata": {},
   "source": [
    "## 問題120: モジュールとパッケージの違い"
   ]
  },
  {
   "cell_type": "markdown",
   "metadata": {},
   "source": []
  },
  {
   "cell_type": "code",
   "execution_count": 5,
   "metadata": {},
   "outputs": [],
   "source": [
    "#コードを記述"
   ]
  },
  {
   "cell_type": "markdown",
   "metadata": {},
   "source": [
    "### 問題120 の回答・実行例\n",
    "\n",
    "<details>\n",
    "<summary> > 回答と実行例を表示する</summary>\n",
    "\n",
    "```python\n",
    "\n",
    "```\n",
    "\n",
    "実行結果\n",
    "```python\n",
    "\n",
    "```\n",
    "\n",
    "</details>\n",
    " \n",
    "<br>\n",
    "\n",
    "* 参考 []()\n",
    "* 参考 []()\n",
    "\n",
    "---"
   ]
  },
  {
   "cell_type": "markdown",
   "metadata": {},
   "source": [
    "## 問題121: \\__name\\__ == \\__main\\__ とは"
   ]
  },
  {
   "cell_type": "markdown",
   "metadata": {},
   "source": []
  },
  {
   "cell_type": "code",
   "execution_count": 6,
   "metadata": {},
   "outputs": [],
   "source": [
    "#コードを記述"
   ]
  },
  {
   "cell_type": "markdown",
   "metadata": {},
   "source": [
    "### 問題121 の回答・実行例\n",
    "\n",
    "<details>\n",
    "<summary> > 回答と実行例を表示する</summary>\n",
    "\n",
    "```python\n",
    "\n",
    "```\n",
    "\n",
    "実行結果\n",
    "```python\n",
    "\n",
    "```\n",
    "\n",
    "</details>\n",
    " \n",
    "<br>\n",
    "\n",
    "* 参考 []()\n",
    "* 参考 []()\n",
    "\n",
    "---"
   ]
  }
 ],
 "metadata": {
  "kernelspec": {
   "display_name": "Python 3.10.6 ('.venv': poetry)",
   "language": "python",
   "name": "python3"
  },
  "language_info": {
   "codemirror_mode": {
    "name": "ipython",
    "version": 3
   },
   "file_extension": ".py",
   "mimetype": "text/x-python",
   "name": "python",
   "nbconvert_exporter": "python",
   "pygments_lexer": "ipython3",
   "version": "3.10.6"
  },
  "vscode": {
   "interpreter": {
    "hash": "887d664215d473a29df0dd5d023aa4a94a35d2059b822f4734b973293c8c16db"
   }
  }
 },
 "nbformat": 4,
 "nbformat_minor": 4
}
