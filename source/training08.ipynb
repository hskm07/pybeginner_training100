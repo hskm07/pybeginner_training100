{
 "cells": [
  {
   "cell_type": "markdown",
   "metadata": {},
   "source": [
    "## **問8 論理演算子について**"
   ]
  },
  {
   "cell_type": "markdown",
   "metadata": {},
   "source": [
    "論理演算子について学びましょう。以下のコードを実行してみましょう。\n",
    "<br>\n",
    "ここでは、論理演算子について学びます。よく利用するのでしっかり学習しましょう。\n",
    "<br>\n",
    "まずはプログラムを実行してみましょう。\n",
    "<br>\n",
    "<br>\n",
    "スクリプト名：training08.py"
   ]
  },
  {
   "cell_type": "code",
   "execution_count": 1,
   "metadata": {},
   "outputs": [
    {
     "name": "stdout",
     "output_type": "stream",
     "text": [
      "jdg1: True jdg2: False\n",
      "False\n"
     ]
    }
   ],
   "source": [
    "num1 = 100\n",
    "num2 = 100\n",
    "num3 = 200\n",
    "\n",
    "# 比較演算子：比較演算子の結果は、True/False\n",
    "jdg1 = (num1 == num2)\n",
    "jdg2 = (num1 == num3)\n",
    "print(\"jdg1:\", jdg1, \"jdg2:\", jdg2)\n",
    "\n",
    "# 論理演算子　：　論理演算子の結果も、Ture/Flase\n",
    "print(jdg1 and jdg2)"
   ]
  },
  {
   "cell_type": "markdown",
   "metadata": {},
   "source": [
    "**論理演算子について**\n",
    "<br>よく利用される論理演算子をまとめました"
   ]
  },
  {
   "cell_type": "markdown",
   "metadata": {},
   "source": [
    "|　　論理演算子　　|　　使用例　　| 概要 |\n",
    "|:---:|:---:|:---:|\n",
    "| and | A and B | 論理積。AかつB　どちらもTrueの時、True |\n",
    "| or | A or B | 論理和。AまたはB どちらかがTrueの時、True |\n",
    "| not | not A | 否定。 AがTrueの時、Flase |"
   ]
  },
  {
   "cell_type": "code",
   "execution_count": 3,
   "metadata": {},
   "outputs": [
    {
     "name": "stdout",
     "output_type": "stream",
     "text": [
      "jdg1: True jdg2: True\n",
      "True\n",
      "jdg1: True jdg2: False\n",
      "True\n"
     ]
    }
   ],
   "source": [
    "# 比較演算子\n",
    "jdg1 = (num1 == num2)\n",
    "jdg2 = (num1 != num3)\n",
    "print(\"jdg1:\", jdg1, \"jdg2:\", jdg2)\n",
    "\n",
    "# 論理演算子　AND\n",
    "print(jdg1 and jdg2)"
   ]
  },
  {
   "cell_type": "code",
   "execution_count": 6,
   "metadata": {},
   "outputs": [
    {
     "name": "stdout",
     "output_type": "stream",
     "text": [
      "jdg1: True jdg2: False\n",
      "True\n"
     ]
    }
   ],
   "source": [
    "# 比較演算子\n",
    "jdg1 = (num1 >= num2)\n",
    "jdg2 = (num1 == num3)\n",
    "print(\"jdg1:\", jdg1, \"jdg2:\", jdg2)\n",
    "\n",
    "# 論理演算子　OR\n",
    "print(jdg1 or jdg2)"
   ]
  },
  {
   "cell_type": "code",
   "execution_count": 5,
   "metadata": {},
   "outputs": [
    {
     "name": "stdout",
     "output_type": "stream",
     "text": [
      "残念\n"
     ]
    }
   ],
   "source": [
    "# if文を使った論理演算子の演習\n",
    "msg = \"今日は朝ごはんを食べましたか\"\n",
    "ans = \"No\"\n",
    "\n",
    "if ans == \"Yes\":\n",
    "    print(\"素晴らしい\")\n",
    "else:\n",
    "    print(\"残念\")\n"
   ]
  }
 ],
 "metadata": {
  "kernelspec": {
   "display_name": "Python 3",
   "language": "python",
   "name": "python3"
  },
  "language_info": {
   "codemirror_mode": {
    "name": "ipython",
    "version": 3
   },
   "file_extension": ".py",
   "mimetype": "text/x-python",
   "name": "python",
   "nbconvert_exporter": "python",
   "pygments_lexer": "ipython3",
   "version": "3.8.3"
  }
 },
 "nbformat": 4,
 "nbformat_minor": 4
}
