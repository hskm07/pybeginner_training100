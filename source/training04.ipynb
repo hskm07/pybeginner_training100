{
 "cells": [
  {
   "cell_type": "markdown",
   "metadata": {},
   "source": [
    "#　第１章　値と変数について"
   ]
  },
  {
   "cell_type": "markdown",
   "metadata": {},
   "source": [
    "## **問4 Pythonと文字列**"
   ]
  },
  {
   "cell_type": "markdown",
   "metadata": {},
   "source": [
    "文字列の使い方を学びましょう。以下のコードを実行してみましょう。\n",
    "<br>\n",
    "文字列（string）はシングルクォーテーション`\" \"`、もしくはダブルクォーテーション`' '`で囲んでください。\n",
    "<br>\n",
    "スクリプト名：training04.py"
   ]
  },
  {
   "cell_type": "code",
   "execution_count": 2,
   "metadata": {},
   "outputs": [
    {
     "name": "stdout",
     "output_type": "stream",
     "text": [
      "こんにちは 今日は晴天です。 私はpythonを勉強しています。\n"
     ]
    }
   ],
   "source": [
    "hello = \"こんにちは\"\n",
    "msg = \"今日は晴天です。\"\n",
    "language=\"私はpythonを勉強しています。\"\n",
    "print(hello, msg, language)"
   ]
  },
  {
   "cell_type": "markdown",
   "metadata": {},
   "source": [
    "<br>"
   ]
  },
  {
   "cell_type": "markdown",
   "metadata": {},
   "source": [
    "***シングルクォーテーションとダブルクォーテーション***"
   ]
  },
  {
   "cell_type": "markdown",
   "metadata": {},
   "source": [
    "シングルクォーテーション`' '`を文字列として出力させたい場合、<br>以下のように、シングルクォーテーション`' '`をダブルクォーテーション`\" \"`で囲みます。"
   ]
  },
  {
   "cell_type": "code",
   "execution_count": 5,
   "metadata": {},
   "outputs": [
    {
     "name": "stdout",
     "output_type": "stream",
     "text": [
      "'python'はプログラミング言語です。\n"
     ]
    }
   ],
   "source": [
    "pylang = \"'python'はプログラミング言語です。\"\n",
    "print(pylang)"
   ]
  },
  {
   "cell_type": "markdown",
   "metadata": {},
   "source": [
    "<br>"
   ]
  },
  {
   "cell_type": "markdown",
   "metadata": {},
   "source": [
    "***エスケープシーケンス***\n",
    "<br>\n",
    "文字列に改行を入れる場合、バックスラッシュ`\\`を使います。\n",
    "改行を挿入する場合、`¥n`を使用します。"
   ]
  },
  {
   "cell_type": "code",
   "execution_count": 9,
   "metadata": {},
   "outputs": [
    {
     "name": "stdout",
     "output_type": "stream",
     "text": [
      "こんにちは 今日は晴天です。\n",
      " 私はpythonを勉強しています。\n",
      "------------------------------\n",
      "こんにちは 今日は晴天です。\n",
      " 私はpythonを\n",
      "勉強してい\n",
      "ます。\n"
     ]
    }
   ],
   "source": [
    "hello = \"こんにちは\"\n",
    "msg = \"今日は晴天です。\\n\"\n",
    "language=\"私はpythonを勉強しています。\"\n",
    "print(hello, msg, language)\n",
    "\n",
    "print(\"------------------------------\")\n",
    "\n",
    "language=\"私はpythonを\\n勉強してい\\nます。\"\n",
    "print(hello, msg, language)"
   ]
  },
  {
   "cell_type": "markdown",
   "metadata": {},
   "source": [
    "***主なエスケープシーケンス***"
   ]
  },
  {
   "cell_type": "markdown",
   "metadata": {},
   "source": [
    "エスケープシーケンスは、特殊な文字列です。print関数で出力した文字列の途中で改行したい場合や、タブを表示させたい場合などに使用できます。また、バックスラッシュ`\\`の後の文字を文字列として認識します。\n",
    "<br>\n",
    "**Windowsは右上「¥」ボタン 　Macは「option」+「¥」ボタン**"
   ]
  },
  {
   "cell_type": "markdown",
   "metadata": {},
   "source": [
    "|　　エスケープシーケンス　　|　　意味　　|\n",
    "|:---:|:---|\n",
    "|　　¥n （バックスラッシュとn）　　|　　改行　|\n",
    "|　¥t （バックスラッシュとt）　|　　水平タブ　|\n",
    "| ¥r （バックスラッシュとr）　|　　キャリッジリターン　|"
   ]
  },
  {
   "cell_type": "markdown",
   "metadata": {},
   "source": [
    "<br>"
   ]
  },
  {
   "cell_type": "markdown",
   "metadata": {},
   "source": [
    "***水平タブを入れる***"
   ]
  },
  {
   "cell_type": "markdown",
   "metadata": {},
   "source": [
    "水平タブは、`\\t`で挿入することができます。"
   ]
  },
  {
   "cell_type": "code",
   "execution_count": 10,
   "metadata": {},
   "outputs": [
    {
     "name": "stdout",
     "output_type": "stream",
     "text": [
      "\t本日はお日柄もよく\t私は今pythonを学習しています。\tそれではまた。\n"
     ]
    }
   ],
   "source": [
    "msg= \"\\t本日はお日柄もよく\\t私は今pythonを学習しています。\\tそれではまた。\"\n",
    "print(msg)"
   ]
  },
  {
   "cell_type": "markdown",
   "metadata": {},
   "source": [
    "<br>"
   ]
  },
  {
   "cell_type": "markdown",
   "metadata": {},
   "source": [
    "***シングルクォーテーションを表示させる***"
   ]
  },
  {
   "cell_type": "markdown",
   "metadata": {},
   "source": [
    "エスケープシーケンスを使って、シングルクォーテーションを表示させます。"
   ]
  },
  {
   "cell_type": "code",
   "execution_count": 12,
   "metadata": {},
   "outputs": [
    {
     "name": "stdout",
     "output_type": "stream",
     "text": [
      "今日は'晴天'です。\n"
     ]
    }
   ],
   "source": [
    "msg = \"今日は\\'晴天\\'です。\"\n",
    "print(msg)"
   ]
  },
  {
   "cell_type": "markdown",
   "metadata": {},
   "source": [
    "<br>"
   ]
  },
  {
   "cell_type": "markdown",
   "metadata": {},
   "source": [
    "***ダブルクォーテーションを表示させる***"
   ]
  },
  {
   "cell_type": "markdown",
   "metadata": {},
   "source": [
    "エスケープシーケンスを使って、ダブルクォーテーションを表示させます。"
   ]
  },
  {
   "cell_type": "code",
   "execution_count": 14,
   "metadata": {},
   "outputs": [
    {
     "name": "stdout",
     "output_type": "stream",
     "text": [
      "今日は\"曇りのち晴れ\"です。\n"
     ]
    }
   ],
   "source": [
    "# エスケープシーケンスを使ってダブルクォーテーションを表示\n",
    "msg = \"今日は\\\"曇りのち晴れ\\\"です。\"\n",
    "print(msg)"
   ]
  }
 ],
 "metadata": {
  "kernelspec": {
   "display_name": "Python 3",
   "language": "python",
   "name": "python3"
  },
  "language_info": {
   "codemirror_mode": {
    "name": "ipython",
    "version": 3
   },
   "file_extension": ".py",
   "mimetype": "text/x-python",
   "name": "python",
   "nbconvert_exporter": "python",
   "pygments_lexer": "ipython3",
   "version": "3.6.12"
  }
 },
 "nbformat": 4,
 "nbformat_minor": 4
}
