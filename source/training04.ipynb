{
 "cells": [
  {
   "cell_type": "markdown",
   "metadata": {},
   "source": [
    "# Chapter04: "
   ]
  },
  {
   "cell_type": "markdown",
   "metadata": {},
   "source": [
    "## 問題84: ファイルを操作する"
   ]
  },
  {
   "cell_type": "markdown",
   "metadata": {},
   "source": [
    "テキストファイルやCSVファイルなど、Office関連ファイル(Word, Excelなど)を読み込んで処理したい時があると思います。\n",
    "\n",
    "ここからは、実際にファイルを読み込ん処理してみましょう。\n",
    "\n",
    "### ファイルを開く手順\n",
    "\n",
    "1. ファイルを開く\n",
    "2. ファイルデータを読み込む\n",
    "3. ファイルを閉じる\n",
    "\n",
    "ファイルを開く構文\n",
    "\n",
    "![58-0](img/58-0.png)\n",
    "\n",
    "\n",
    "### 問題\n",
    "\n",
    "実際にファイルを読み込んで、ファイルの内容を出力してみましょう。\n",
    "\n",
    "読み込むファイルは、`input` フォルダのに保存されている `sample84.txt` を読み込んでみましょう。\n",
    "\n",
    "以下のコードを書いて実行してみましょう。\n",
    "\n",
    "```python\n",
    "    from pathlib  import Path\n",
    "\n",
    "    # pathlib.Pathは異なるOSでPathを扱いため\n",
    "    filepath = Path(\"input/sample84.txt\")\n",
    "    # Step1: ファイルを開く\n",
    "    fileobj = open(filepath, mode=\"r\")\n",
    "    # Step2: ファイルを読み込む\n",
    "    text = fileobj.read()\n",
    "    # Step3: ファイルを閉じる\n",
    "    fileobj.close()\n",
    "    # ファイルの内容を表示する\n",
    "    print(text)\n",
    "```"
   ]
  },
  {
   "cell_type": "code",
   "execution_count": null,
   "metadata": {},
   "outputs": [],
   "source": [
    "#コードを記述"
   ]
  },
  {
   "cell_type": "markdown",
   "metadata": {},
   "source": [
    "### 問題84 の回答・実行例\n",
    "\n",
    "<details>\n",
    "<summary> > 回答と実行例を表示する</summary>\n",
    "\n",
    "```python\n",
    "    from pathlib import Path\n",
    "\n",
    "    # pathlib.Pathは異なるOSでPathを扱いため\n",
    "    filepath = Path(\"input/sample84.txt\")\n",
    "    # Step1: ファイルを開く\n",
    "    fileobj = open(filepath, mode=\"r\")\n",
    "    # Step2: ファイルを読み込む\n",
    "    text = fileobj.read()\n",
    "    # Step3: ファイルを閉じる\n",
    "    fileobj.close()\n",
    "    # ファイルの内容を表示する\n",
    "    print(text)\n",
    "```\n",
    "\n",
    "実行結果\n",
    "```python\n",
    "    これはサンプルテキストです。問題58で使用します。\n",
    "```\n",
    "\n",
    "</details>\n",
    "\n",
    "ファイル処理は、基本の基本であるためしっかり習得しておきましょう。また、ファイルの `mode` と、`encoding` は以下のとおりです。\n",
    "\n",
    "* モード(引数 `mode` )について\n",
    "  \n",
    "  | mode | 説明 |\n",
    "  | :--- | :--- |\n",
    "  | \"r\"  | 読み込み専用で開く(デフォルト) |\n",
    "  | \"w\"  | 書き込み用で開く。ファイルが存在する場合は上書き保存 |\n",
    "  | \"x\"  | 排他的な生成で開く。ファイルが存在する場合は失敗する |\n",
    "  | \"a\"  | 書き込み用で開く。ファイルが存在する場合は追記      |\n",
    "  | \"b\"  | バイナリモードで開く。画像など                   |\n",
    "  | \"t\"  | テキストモードで開く。(デフォルト)               |\n",
    "  | \"+\"  | 読み込み・書き込みモードで開く                   |\n",
    "\n",
    "<br>\n",
    "\n",
    "* エンコーディング(引数 `encoding`)について\n",
    "  \n",
    "  | encoding     | 説明       |\n",
    "  | :----------- | :-------- |\n",
    "  | \"utf-8\"      | UTF-8     |\n",
    "  | \"euc_jp\"     | 日本語EUC  |\n",
    "  | \"iso2022_jp\" | JIS       |\n",
    "  | \"shift-jis\"  | SHift JIS |\n",
    " \n",
    "<br>\n",
    "\n",
    "* 参考 [open() - docs.python.org](https://docs.python.org/ja/3/library/functions.html#open)\n",
    "* 参考 [Pythonでファイルの読み込み、書き込み（作成・追記） - note.nkmk.me](https://note.nkmk.me/python-file-io-open-with/)\n",
    "\n",
    "---"
   ]
  },
  {
   "cell_type": "markdown",
   "metadata": {},
   "source": [
    "## 問題85: ファイルへ書き込む"
   ]
  },
  {
   "cell_type": "markdown",
   "metadata": {},
   "source": [
    "同様の手順で、ファイルに何か書き込んでみましょう。\n",
    "\n",
    "ファイルへ書き込みを実行する関数は、`write()`で任意の内容をファイルに書き込むことができます。\n",
    "\n",
    "### ファイルへ書き込む手順\n",
    "\n",
    "1. ファイルを開く\n",
    "2. ファイルデータを書き込む\n",
    "3. ファイルを閉じる\n",
    "\n",
    "\n",
    "### 問題\n",
    "\n",
    "以下の変数の内容を、`output/sample_plain_text.txt` を作成し書き込んでみましょう。\n",
    "\n",
    "```python\n",
    "contents = \"Hello Python! これはファイル書き込み練習です。\"\n",
    "```\n",
    "\n",
    "以下のコードを写して書いて実行してみましょう。\n",
    "\n",
    "```python\n",
    "    from pathlib  import Path\n",
    "\n",
    "    # pathlib.Pathは異なるOSでPathを扱いため\n",
    "    filepath = Path(\"input/sample_plain_text.txt\")\n",
    "    # 書き込む内容\n",
    "    contents = \"Hello Python! これはファイル書き込み練習です。\"\n",
    "    # Step1: ファイルを開く\n",
    "    fileobj = open(filepath, mode=\"w\")\n",
    "    # Step2: ファイルを読み込む\n",
    "    fileobj.write(contents)\n",
    "    # Step3: ファイルを閉じる\n",
    "    fileobj.close()\n",
    "    # ファイルの内容を確認してみましょう。\n",
    "```"
   ]
  },
  {
   "cell_type": "code",
   "execution_count": 4,
   "metadata": {},
   "outputs": [],
   "source": [
    "#コードを記述\n"
   ]
  },
  {
   "cell_type": "markdown",
   "metadata": {},
   "source": [
    "### 問題85 の回答・実行例\n",
    "\n",
    "<details>\n",
    "<summary> > 回答と実行例を表示する</summary>\n",
    "\n",
    "```python\n",
    "    from pathlib  import Path\n",
    "\n",
    "    # pathlib.Pathは異なるOSでPathを扱いため\n",
    "    filepath = Path(\"output/sample_plain_text.txt\")\n",
    "    # 書き込む内容\n",
    "    contents = \"Hello Python! これはファイル書き込み練習です。\"\n",
    "    # Step1: ファイルを開く\n",
    "    fileobj = open(filepath, mode=\"w\")\n",
    "    # Step2: ファイルを読み込む\n",
    "    fileobj.write(contents)\n",
    "    # Step3: ファイルを閉じる\n",
    "    fileobj.close()\n",
    "    # ファイルの内容を確認してみましょう。\n",
    "```\n",
    "\n",
    "実行結果\n",
    "```python\n",
    "    実際にoutputフォルダを確認してみましょう。\n",
    "```\n",
    "\n",
    "`read()` を `write()` に変更するぐらいで特に問題なかったですね。\n",
    "\n",
    "もし書き込みたい内容に改行等を入れたい場合、エスケープシーケンスや複数行で文字列を定義するといいと思います。\n",
    "\n",
    "* モード(引数 `mode` )について\n",
    "  \n",
    "  | mode  | 説明             |\n",
    "  | :---- | :-------------- |\n",
    "  | \"\\n\"  | 改行コードを入れる |\n",
    "  | \"\\t\"  | 水平タブを入れる   |\n",
    "  | \"\\r\"  | キャリッジリターン |\n",
    "\n",
    "<br>\n",
    "\n",
    "例：複数行文字を書き込む\n",
    "\n",
    "```python\n",
    "    from pathlib  import Path\n",
    "\n",
    "    # pathlib.Pathは異なるOSでPathを扱いため\n",
    "    filepath = Path(\"output/sample_plain_text.txt\")\n",
    "    # 書き込む内容\n",
    "    contents = '''Hello Python!\n",
    "    これはファイル書き込み練習です\n",
    "    複数行を書き込む練習です。シングルクォーテーションを3つで囲むことで\n",
    "    複数行書き込めます。\n",
    "    '''\n",
    "    # Step1: ファイルを開く\n",
    "    fileobj = open(filepath, mode=\"w\")\n",
    "    # Step2: ファイルを読み込む\n",
    "    fileobj.write(contents)\n",
    "    # Step3: ファイルを閉じる\n",
    "    fileobj.close()\n",
    "    # ファイルの内容を確認してみましょう。\n",
    "```\n",
    "\n",
    "</details>\n",
    "\n",
    "* 参考 [open() - docs.python.org](https://docs.python.org/ja/3/library/functions.html#open)\n",
    "* 参考 [Pythonでファイルの読み込み、書き込み（作成・追記） - note.nkmk.me](https://note.nkmk.me/python-file-io-open-with/)\n",
    "\n",
    "---"
   ]
  },
  {
   "cell_type": "markdown",
   "metadata": {},
   "source": [
    "## 問題86: ファイルをwith構文を使って操作する"
   ]
  },
  {
   "cell_type": "markdown",
   "metadata": {},
   "source": [
    "先ほどは、以下の手順でファイルを操作しました。\n",
    "\n",
    "1. ファイルを開く\n",
    "2. ファイルを読む/書く\n",
    "3. ファイルを閉じる\n",
    "\n",
    "これがファイル操作の鉄則とお伝えしましたが、これには少し欠点があります。\n",
    "\n",
    "プログラムを書いていると、ファイルを開いて、ファイル操作時に、エラーが発生することがしばしばあります。\n",
    "\n",
    "すると、ファイルが開きっぱなしのまま、エラーの発生と処理の中断がされてしまうと、ファイルを閉じる操作を行われず処理が終了してしまうプロセスとして残り続けてしまう可能性があります。そうすると、PCの処理としても大きい負荷となります。\n",
    "\n",
    "<br>\n",
    "\n",
    "そこで、そのような処理を省く `with`ステートメントを利用します。ファイルを開く時は、これがデファクトスタンダードであるため、必ず使えるようにしておきましょう。\n",
    "\n",
    "![with](img/with.png)\n",
    "\n",
    "以下のコードを実行して、ファイルを読み込んでみましょう。処理内容は、前回のコードと一緒です。\n",
    "\n",
    "```python\n",
    "    from pathlib  import Path\n",
    "\n",
    "    # pathlib.Pathは異なるOSでPathを扱いため\n",
    "    filepath = Path(\"input/sample84.txt\")\n",
    "    # Step1: ファイルを開く\n",
    "    with open(filepath, mode=\"r\") as fileobj:\n",
    "        # Step2: ファイルを読み込む\n",
    "        text = fileobj.read()\n",
    "    # Step3: インデント(字下げ)が終わるとファイルを自動的に閉じる\n",
    "    # ファイルの内容を表示する\n",
    "    print(text)\n",
    "```\n",
    "\n"
   ]
  },
  {
   "cell_type": "code",
   "execution_count": null,
   "metadata": {},
   "outputs": [],
   "source": [
    "#コードを記述"
   ]
  },
  {
   "cell_type": "markdown",
   "metadata": {},
   "source": [
    "### 問題86 の回答・実行例\n",
    "\n",
    "<details>\n",
    "<summary> > 回答と実行例を表示する</summary>\n",
    "\n",
    "```python\n",
    "    from pathlib  import Path\n",
    "    # pathlib.Pathは異なるOSでPathを扱いため\n",
    "    filepath = Path(\"input/sample84.txt\")\n",
    "    # Step1: ファイルを開く\n",
    "    with open(filepath, mode=\"r\") as fileobj:\n",
    "        # Step2: ファイルを読み込む\n",
    "        text = fileobj.read()\n",
    "    # Step3: インデント(字下げ)が終わるとファイルを自動的に閉じる\n",
    "    # ファイルの内容を表示する\n",
    "    print(text)\n",
    "```\n",
    "\n",
    "実行結果\n",
    "```python\n",
    "    これはサンプルテキストです。問題58で使用します。\n",
    "```\n",
    "\n",
    "</details>\n",
    "\n",
    "<br>\n",
    "\n",
    "* 参考 [open() - docs.python.org](https://docs.python.org/ja/3/library/functions.html#open)\n",
    "* 参考 [Pythonでファイルの読み込み、書き込み（作成・追記） - note.nkmk.me](https://note.nkmk.me/python-file-io-open-with/)\n",
    "\n",
    "---"
   ]
  },
  {
   "cell_type": "markdown",
   "metadata": {},
   "source": [
    "## 問題87: with構文の理解とベンチマークツールの改良"
   ]
  },
  {
   "cell_type": "markdown",
   "metadata": {},
   "source": [
    "with文を少しだけ掘り下げてみましょう。\n",
    "\n",
    "with文では、ブロック開始前にオブジェクトの `__enter__()` が呼び出され、ブロックの終了時に `__exit__()` が呼び出されます。\n",
    "\n",
    "例えば、\n",
    "\n",
    "```python\n",
    "    with obj as xx:\n",
    "        ...\n",
    "```\n",
    "\n",
    "というwith文は、おおよそ、以下のような仕組みで動作します。(PEP-343参照)\n",
    "\n",
    "```python\n",
    "    xx = obj.__enter__()\n",
    "    try:\n",
    "        ...\n",
    "    except Exception:\n",
    "        # sys.exc_info()はいかの説明を参照\n",
    "        if not obj.__exit__(*sys.exc_info()):\n",
    "            raise #例外を再送\n",
    "    else:\n",
    "        obj.__exit__(None, None, None)\n",
    "```\n",
    "`sys.exc_info()` は、直近に発生した例外のデータ`(例外クラス, 例外オブジェクト, トレースバック)`をタプルで返します。 \n",
    "\n",
    "このことから、with文の正体は、結局のところ、`try`文なのです。\n",
    "\n",
    "* `__exit__()` の戻り値が「as xx」のxに入る\n",
    "* `__exit__()` で例外が発生すると、with文のブロックは実行されない\n",
    "* with文のブロックで例外が発生すると、「`__exit__()`」に例外データが渡される。例外が発生しないと、Noneが３つタプルで渡される。\n",
    "* 通常なら発生した例外は再送されるが、「`__exit__()`」が真偽を返すと再送されない。\n",
    "\n",
    "<br>\n",
    "\n",
    "しかし、毎回 `__enter__()` と `__exit__()` を書いていては、めんどくさいです。\n",
    "\n",
    "そこで上記特殊メソッドをもった `contextmanager`が用意されています。これを使ってベンチマークツールを改良してみましょう。\n",
    "\n",
    "以下のようなコードが動作するように、ベンチマークツール`bench()`を作成してみましょう。\n",
    "\n",
    "```python\n",
    "    ## 実行例\n",
    "    strings = (\"A\"*10, \"B\"*10, \"C\"*10, \"D\"*10, \"E\"*10)\n",
    "    N = 1000000\n",
    "\n",
    "    with bench(\"'+' operator\"):\n",
    "        s1, s2, s3, s4, s5 = strings\n",
    "        for _ in range(N):\n",
    "            result = s1 + s2 + s3 + s4 + s5\n",
    "\n",
    "    ## 実行結果\n",
    "    '+' operator    0.355 sec\n",
    "```\n",
    "\n",
    "> 参考: [contextlib --- with 文コンテキスト用ユーティリティ](https://docs.python.org/ja/3/library/contextlib.html#contextlib.contextmanager)"
   ]
  },
  {
   "cell_type": "code",
   "execution_count": null,
   "metadata": {},
   "outputs": [],
   "source": [
    "#コードを記述\n"
   ]
  },
  {
   "cell_type": "markdown",
   "metadata": {},
   "source": [
    "### 問題88 の回答・実行例\n",
    "\n",
    "<details>\n",
    "<summary> > 回答と実行例を表示する</summary>\n",
    "\n",
    "```python\n",
    "    from time import time\n",
    "    from contextlib import contextmanager\n",
    "\n",
    "    @contextmanager\n",
    "    def bench(title):\n",
    "        start = time()\n",
    "        yield\n",
    "        elapsed = time() - start\n",
    "        print(\"%-20s %6.3f sec\" % (title, elapsed))\n",
    "\n",
    "    ## 使用例\n",
    "    strings = (\"A\"*10, \"B\"*10, \"C\"*10, \"D\"*10, \"E\"*10)\n",
    "    N = 1000000\n",
    "\n",
    "    with bench(\"'+' operator\"):\n",
    "        s1, s2, s3, s4, s5 = strings\n",
    "        for _ in range(N):\n",
    "            result = s1 + s2 + s3 + s4 + s5\n",
    "\n",
    "    with bench(\"'%' operator\"):\n",
    "        s1, s2, s3, s4, s5 = strings\n",
    "        for _ in range(N):\n",
    "            result = \"%s%s%s%s%s\" % (s1, s2, s3, s4, s5)\n",
    "\n",
    "    with bench('\"\".join(tuple)'):\n",
    "        s1, s2, s3, s4, s5 = strings\n",
    "        for _ in range(N):\n",
    "            result = \"\".join((s1, s2, s3, s4, s5))\n",
    "```\n",
    "\n",
    "実行結果\n",
    "```python\n",
    "    '+' operator          0.275 sec\n",
    "    '%' operator          0.288 sec\n",
    "    \"\".join(tuple)        0.191 sec\n",
    "```\n",
    "\n",
    "</details>\n",
    "\n",
    "with文の仕組みが少しは理解できたかと思います。実装してみると、with文の役割が、**「対象の処理の前処理と後処理を実行する」** ということが理解できると思います。\n",
    "\n",
    "<br>\n",
    "\n",
    "* 参考: [contextlib --- with 文コンテキスト用ユーティリティ](https://docs.python.org/ja/3/library/contextlib.html#contextlib.contextmanager)\n",
    "\n",
    "---"
   ]
  },
  {
   "cell_type": "markdown",
   "metadata": {},
   "source": [
    "## 問題88: CSVを読み込む"
   ]
  },
  {
   "cell_type": "markdown",
   "metadata": {},
   "source": [
    "続いて、CSVファイルを読み込んでみましょう。\n",
    "\n",
    "csvを開く構文は、以下の通りです。\n",
    "\n",
    "![88-0.png](img/87-0.png)\n",
    "\n",
    "csvを扱うときは、csvモジュールを利用します。\n",
    "\n",
    "> [csv --- CSV ファイルの読み書き - docs.python.org](https://docs.python.org/ja/3/library/csv.html#module-csv)\n",
    "\n",
    "csvの読み取りでは、`reader()` メソッドを使用します。\n",
    "\n",
    "`input` フォルダの `sample.csv` を開き、1行ずつ出力してみましょう。\n",
    "\n",
    "`sample.csv`の内容は以下の通りです。\n",
    "\n",
    "```csv\n",
    "    1,2,3,4,5,6,7,8,9\n",
    "    a,b,c,d,e,f,g,h\n",
    "```\n",
    "\n",
    "以下のコードを写して実行してみましょう。\n",
    "\n",
    "```python\n",
    "    import csv\n",
    "    from pathlib  import Path\n",
    "\n",
    "    # pathlib.Pathは異なるOSでPathを扱いため\n",
    "    filepath = Path(\"input/sample.csv\")\n",
    "\n",
    "    with open(filepath) as f:\n",
    "        reader = csv.reader(f)\n",
    "        for row in reader:\n",
    "            print(row)\n",
    "```\n"
   ]
  },
  {
   "cell_type": "code",
   "execution_count": null,
   "metadata": {},
   "outputs": [],
   "source": [
    "#コードを記述"
   ]
  },
  {
   "cell_type": "markdown",
   "metadata": {},
   "source": [
    "### 問題88 の回答・実行例\n",
    "\n",
    "<details>\n",
    "<summary> > 回答と実行例を表示する</summary>\n",
    "\n",
    "```python\n",
    "    import csv\n",
    "    from pathlib  import Path\n",
    "\n",
    "    # pathlib.Pathは異なるOSでPathを扱いため\n",
    "    filepath = Path(\"input/sample.csv\")\n",
    "    with open(filepath) as f:\n",
    "        reader = csv.reader(f)\n",
    "        for row in reader:\n",
    "            print(row)\n",
    "```\n",
    "\n",
    "実行結果\n",
    "```python\n",
    "    ['1', '2', '3', '4', '5', '6', '7', '8', '9']\n",
    "    ['a', 'b', 'c', 'd', 'e', 'f', 'g', 'h']\n",
    "```\n",
    "\n",
    "</details>\n",
    "\n",
    "csvを使って読み出すと、csvファイルの内容が1行ずつリストで出力されたかと思います。csvファイルは、Excel同様、よく利用されるファイルだと思うので、ぜひ `csv` モジュールは使えるようにしておきましょう。\n",
    "\n",
    "* 参考 [open() - docs.python.org](https://docs.python.org/ja/3/library/functions.html#open)\n",
    "* 参考 [csv --- CSV ファイルの読み書き - docs.python.org](https://docs.python.org/ja/3/library/csv.html#module-csv)\n",
    "* 参考 [Pythonでファイルの読み込み、書き込み（作成・追記） - note.nkmk.me](https://note.nkmk.me/python-file-io-open-with/)\n",
    "\n",
    "---"
   ]
  },
  {
   "cell_type": "markdown",
   "metadata": {},
   "source": [
    "## 問題89: CSVを編集して書き込む方法 "
   ]
  },
  {
   "cell_type": "markdown",
   "metadata": {},
   "source": [
    "今度は、csvファイルを編集して、書き込んでみましょう。\n",
    "\n",
    "同様に`csv`モジュールを使用します。csvモジュール標準モジュールであるため、`pip`でのインストールは不要です。\n",
    "\n",
    "csvへ書き込むための構文は以下の通りです。\n",
    "\n",
    "![89-0.png](img/89-0.png)\n",
    "\n",
    "以下の内容を、`output/output_sample.csv` を新規に作成して書き込んでみましょう。\n",
    "\n",
    "```csv\n",
    "    No, 名前, 年齢, 住所\n",
    "    1, Mike, 10, Tokyo\n",
    "    2, Hana, 20, Aichi\n",
    "```\n",
    "\n",
    "```python\n",
    "    import csv\n",
    "    from pathlib  import Path\n",
    "\n",
    "    # 書きこむ内容を定義\n",
    "    header = [\"No\", \"名前\", \"年齢\", \"住所\"]\n",
    "    mike = [\"1\", \"Mike\", \"10\", \"Tokyo\"]\n",
    "    hana = [\"2\", \"Hana\", \"20\", \"Aichi\"]\n",
    "    namelist = [header, mike, hana]\n",
    "    print(f\"書きこむ内容: {namelist}\")\n",
    "\n",
    "    # pathlib.Pathは異なるOSでPathを扱いため\n",
    "    filepath = Path(\"output/output_sample.csv\")\n",
    "    with open(filepath, mode=\"w\") as f:\n",
    "        reader = csv.writer(f)\n",
    "        reader.writerowss(namelist)\n",
    "    #以下のprint()はいらない\n",
    "    print(\"outputフォルダを見てみましょう。\")\n",
    "```"
   ]
  },
  {
   "cell_type": "code",
   "execution_count": null,
   "metadata": {},
   "outputs": [],
   "source": [
    "#コードを記述"
   ]
  },
  {
   "cell_type": "markdown",
   "metadata": {},
   "source": [
    "### 問題89 の回答・実行例\n",
    "\n",
    "<details>\n",
    "<summary> > 回答と実行例を表示する</summary>\n",
    "\n",
    "```python\n",
    "    import csv\n",
    "    from pathlib  import Path\n",
    "\n",
    "    # 書きこむ内容を定義\n",
    "    header = [\"No\", \"名前\", \"年齢\", \"住所\"]\n",
    "    mike = [\"1\", \"Mike\", \"10\", \"Tokyo\"]\n",
    "    hana = [\"2\", \"Hana\", \"20\", \"Aichi\"]\n",
    "    namelist = [header, mike, hana]\n",
    "    print(f\"書きこむ内容: {namelist}\")\n",
    "\n",
    "    # pathlib.Pathは異なるOSでPathを扱いため\n",
    "    filepath = Path(\"output/output_sample.csv\")\n",
    "    with open(filepath, mode=\"w\") as f:\n",
    "        reader = csv.writer(f)\n",
    "        reader.writerows(namelist)\n",
    "    #以下のprint()はいらない\n",
    "    print(\"outputフォルダを見てみましょう。\")\n",
    "```\n",
    "\n",
    "実行結果\n",
    "```python\n",
    "    書きこむ内容: [['No', '名前', '年齢', '住所'], ['1', 'Mike', '10', 'Tokyo'], ['2', 'Hana', '20', 'Aichi']]\n",
    "    outputフォルダを見てみましょう。\n",
    "```\n",
    "\n",
    "</details>\n",
    "\n",
    "<br>\n",
    "\n",
    "書き込みする際の注意点は、1行ずつ書きこむ場合は`writerow()` を使用して、複数行を書きこむ場合、`writerows()`を使用します。\n",
    "\n",
    "書き込むことも多々処理の中では発生してくるので、ぜひ使えるようにしておきたいですね。\n",
    "\n",
    "* 参考 [open() - docs.python.org](https://docs.python.org/ja/3/library/functions.html#open)\n",
    "* 参考 [csv --- CSV ファイルの読み書き - docs.python.org](https://docs.python.org/ja/3/library/csv.html#module-csv)\n",
    "* 参考 [Pythonでファイルの読み込み、書き込み（作成・追記） - note.nkmk.me](https://note.nkmk.me/python-file-io-open-with/)\n",
    "\n",
    "---"
   ]
  },
  {
   "cell_type": "markdown",
   "metadata": {},
   "source": [
    "## 問題90: サイズが大きいCSVファイルを読み取るコツ "
   ]
  },
  {
   "cell_type": "markdown",
   "metadata": {},
   "source": [
    "仕事をしていると、比較的大きいサイズのCSVファイルに出くわすことがあります。\n",
    "\n",
    "ここで大きいサイズと言っているのは、5000行、10000行程で、かつ数MBなどあるファイルです。\n",
    "\n",
    "例えば、100000行かつ500MBあるcsv `sample_L100000_500MB.csv`の内容を取得する関数を定義したとしましょう。\n",
    "\n",
    "```python\n",
    "    import csv\n",
    "\n",
    "    def get_large_csv_contents():\n",
    "        with open(\"sample_L100000_500MB.csv\", mode=\"r\") as f:\n",
    "            return csv.reader(f)\n",
    "```\n",
    "\n",
    "おそらくこれを実行すると、確実にメモリ不足で、処理が停止してしまいます。\n",
    "\n",
    "そこで、よく利用される手法は、ジェネレーター(yield)を使用する方法です。\n",
    "\n",
    "ジェネレーター`yield`は、呼び出されるまで処理を停止できる遅延処理ができるので、メモリ消費削減ができます。\n",
    "\n",
    "それでは、上記の関数を `yield`で1行ずつ出力できるように変更しましょう。使用するcsvは、ビックデータではないですが、`input`フォルダの `sample90.csv`をお使いください。"
   ]
  },
  {
   "cell_type": "code",
   "execution_count": null,
   "metadata": {},
   "outputs": [],
   "source": [
    "#コードを記述\n"
   ]
  },
  {
   "cell_type": "markdown",
   "metadata": {},
   "source": [
    "### 問題90 の回答・実行例\n",
    "\n",
    "<details>\n",
    "<summary> > 回答と実行例を表示する</summary>\n",
    "\n",
    "```python\n",
    "    import csv\n",
    "    import pathlib\n",
    "\n",
    "    file = pathlib.Path(\"input/sample90.csv\")\n",
    "\n",
    "    def get_large_csv_contents():\n",
    "        with open(file, mode=\"r\") as f:\n",
    "            for i in csv.reader(f):\n",
    "                yield i\n",
    "\n",
    "    gen = get_large_csv_contents()\n",
    "    print(next(gen)) # 1行目\n",
    "    print(next(gen)) # 2行目\n",
    "    print(next(gen)) # 3行目\n",
    "```\n",
    "\n",
    "実行結果\n",
    "```python\n",
    "    ['No', ' title', ' author', ' year']\n",
    "    ['1', ' 入門Python3', 'Bill Lubanovic', '2021/3/22']\n",
    "    ['2', ' Python 実践データ分析 100本ノック 第2版', '下山 輝昌', '2022/06/15']\n",
    "```\n",
    "\n",
    "</details>\n",
    "\n",
    "<br>\n",
    "\n",
    "* 参考 [7.7. yield 文 - docs.pytho.org](https://docs.python.org/ja/3/reference/simple_stmts.html#the-yield-statement)\n",
    "* 参考 [csv --- CSV ファイルの読み書き - docs.pytho.org](https://docs.python.org/ja/3/library/csv.html#module-csv)\n",
    "\n",
    "---"
   ]
  },
  {
   "cell_type": "markdown",
   "metadata": {},
   "source": [
    "## 問題62: Excelデータを読み込んでみよう "
   ]
  },
  {
   "cell_type": "markdown",
   "metadata": {},
   "source": []
  },
  {
   "cell_type": "code",
   "execution_count": null,
   "metadata": {},
   "outputs": [],
   "source": [
    "#コードを記述\n",
    "    "
   ]
  },
  {
   "cell_type": "markdown",
   "metadata": {},
   "source": [
    "### 問題62 の回答・実行例\n",
    "\n",
    "<details>\n",
    "<summary> > 回答と実行例を表示する</summary>\n",
    "\n",
    "```python\n",
    "```\n",
    "\n",
    "実行結果\n",
    "```python\n",
    "```\n",
    "\n",
    "</details>\n",
    "\n",
    "<br>\n",
    "\n",
    "* 参考\n",
    "\n",
    "---"
   ]
  },
  {
   "cell_type": "markdown",
   "metadata": {},
   "source": [
    "## 問題63: カラムを抽出してみよう"
   ]
  },
  {
   "cell_type": "markdown",
   "metadata": {},
   "source": []
  },
  {
   "cell_type": "code",
   "execution_count": null,
   "metadata": {},
   "outputs": [],
   "source": [
    "#コードを記述\n",
    "    "
   ]
  },
  {
   "cell_type": "markdown",
   "metadata": {},
   "source": [
    "### 問題63 の回答・実行例\n",
    "\n",
    "<details>\n",
    "<summary> > 回答と実行例を表示する</summary>\n",
    "\n",
    "```python\n",
    "```\n",
    "\n",
    "実行結果\n",
    "```python\n",
    "```\n",
    "\n",
    "</details>\n",
    "\n",
    "<br>\n",
    "\n",
    "* 参考\n",
    "\n",
    "---"
   ]
  },
  {
   "cell_type": "markdown",
   "metadata": {},
   "source": [
    "## 問題64 :  全シートのデータを読み込んでみよう"
   ]
  },
  {
   "cell_type": "markdown",
   "metadata": {},
   "source": []
  },
  {
   "cell_type": "code",
   "execution_count": null,
   "metadata": {},
   "outputs": [],
   "source": [
    "#コードを記述\n",
    "    "
   ]
  },
  {
   "cell_type": "markdown",
   "metadata": {},
   "source": [
    "### 問題64 の回答・実行例\n",
    "\n",
    "<details>\n",
    "<summary> > 回答と実行例を表示する</summary>\n",
    "\n",
    "```python\n",
    "```\n",
    "\n",
    "実行結果\n",
    "```python\n",
    "```\n",
    "\n",
    "</details>\n",
    "\n",
    "<br>\n",
    "\n",
    "* 参考\n",
    "\n",
    "---"
   ]
  },
  {
   "cell_type": "markdown",
   "metadata": {},
   "source": [
    "## 問題: "
   ]
  },
  {
   "cell_type": "markdown",
   "metadata": {},
   "source": []
  },
  {
   "cell_type": "code",
   "execution_count": null,
   "metadata": {},
   "outputs": [],
   "source": [
    "#コードを記述\n",
    "    "
   ]
  },
  {
   "cell_type": "markdown",
   "metadata": {},
   "source": [
    "### 問題 の回答・実行例\n",
    "\n",
    "<details>\n",
    "<summary> > 回答と実行例を表示する</summary>\n",
    "\n",
    "```python\n",
    "```\n",
    "\n",
    "実行結果\n",
    "```python\n",
    "```\n",
    "\n",
    "</details>\n",
    "\n",
    "<br>\n",
    "\n",
    "* 参考\n",
    "\n",
    "---"
   ]
  },
  {
   "cell_type": "markdown",
   "metadata": {},
   "source": [
    "## 問題: "
   ]
  },
  {
   "cell_type": "markdown",
   "metadata": {},
   "source": []
  },
  {
   "cell_type": "code",
   "execution_count": null,
   "metadata": {},
   "outputs": [],
   "source": [
    "#コードを記述\n",
    "    "
   ]
  },
  {
   "cell_type": "markdown",
   "metadata": {},
   "source": [
    "### 問題 の回答・実行例\n",
    "\n",
    "<details>\n",
    "<summary> > 回答と実行例を表示する</summary>\n",
    "\n",
    "```python\n",
    "```\n",
    "\n",
    "実行結果\n",
    "```python\n",
    "```\n",
    "\n",
    "</details>\n",
    "\n",
    "<br>\n",
    "\n",
    "* 参考\n",
    "\n",
    "---"
   ]
  },
  {
   "cell_type": "markdown",
   "metadata": {},
   "source": [
    "## 問題: "
   ]
  },
  {
   "cell_type": "markdown",
   "metadata": {},
   "source": []
  },
  {
   "cell_type": "code",
   "execution_count": null,
   "metadata": {},
   "outputs": [],
   "source": [
    "#コードを記述\n",
    "    "
   ]
  },
  {
   "cell_type": "markdown",
   "metadata": {},
   "source": [
    "### 問題 の回答・実行例\n",
    "\n",
    "<details>\n",
    "<summary> > 回答と実行例を表示する</summary>\n",
    "\n",
    "```python\n",
    "```\n",
    "\n",
    "実行結果\n",
    "```python\n",
    "```\n",
    "\n",
    "</details>\n",
    "\n",
    "<br>\n",
    "\n",
    "* 参考\n",
    "\n",
    "---"
   ]
  },
  {
   "cell_type": "markdown",
   "metadata": {},
   "source": [
    "## 問題: "
   ]
  },
  {
   "cell_type": "markdown",
   "metadata": {},
   "source": []
  },
  {
   "cell_type": "code",
   "execution_count": null,
   "metadata": {},
   "outputs": [],
   "source": [
    "#コードを記述\n",
    "    "
   ]
  },
  {
   "cell_type": "markdown",
   "metadata": {},
   "source": [
    "### 問題 の回答・実行例\n",
    "\n",
    "<details>\n",
    "<summary> > 回答と実行例を表示する</summary>\n",
    "\n",
    "```python\n",
    "```\n",
    "\n",
    "実行結果\n",
    "```python\n",
    "```\n",
    "\n",
    "</details>\n",
    "\n",
    "<br>\n",
    "\n",
    "* 参考\n",
    "\n",
    "---"
   ]
  },
  {
   "cell_type": "markdown",
   "metadata": {},
   "source": [
    "## 問題: "
   ]
  },
  {
   "cell_type": "markdown",
   "metadata": {},
   "source": []
  },
  {
   "cell_type": "code",
   "execution_count": null,
   "metadata": {},
   "outputs": [],
   "source": [
    "#コードを記述\n",
    "    "
   ]
  },
  {
   "cell_type": "markdown",
   "metadata": {},
   "source": [
    "### 問題 の回答・実行例\n",
    "\n",
    "<details>\n",
    "<summary> > 回答と実行例を表示する</summary>\n",
    "\n",
    "```python\n",
    "```\n",
    "\n",
    "実行結果\n",
    "```python\n",
    "```\n",
    "\n",
    "</details>\n",
    "\n",
    "<br>\n",
    "\n",
    "* 参考\n",
    "\n",
    "---"
   ]
  },
  {
   "cell_type": "markdown",
   "metadata": {},
   "source": [
    "## 問題: "
   ]
  },
  {
   "cell_type": "markdown",
   "metadata": {},
   "source": []
  },
  {
   "cell_type": "code",
   "execution_count": null,
   "metadata": {},
   "outputs": [],
   "source": [
    "#コードを記述\n",
    "    "
   ]
  },
  {
   "cell_type": "markdown",
   "metadata": {},
   "source": [
    "### 問題 の回答・実行例\n",
    "\n",
    "<details>\n",
    "<summary> > 回答と実行例を表示する</summary>\n",
    "\n",
    "```python\n",
    "```\n",
    "\n",
    "実行結果\n",
    "```python\n",
    "```\n",
    "\n",
    "</details>\n",
    "\n",
    "<br>\n",
    "\n",
    "* 参考\n",
    "\n",
    "---"
   ]
  }
 ],
 "metadata": {
  "kernelspec": {
   "display_name": "Python 3.9.13 64-bit ('3.9.13')",
   "language": "python",
   "name": "python3"
  },
  "language_info": {
   "codemirror_mode": {
    "name": "ipython",
    "version": 3
   },
   "file_extension": ".py",
   "mimetype": "text/x-python",
   "name": "python",
   "nbconvert_exporter": "python",
   "pygments_lexer": "ipython3",
   "version": "3.9.13"
  },
  "orig_nbformat": 4,
  "vscode": {
   "interpreter": {
    "hash": "caab4f336b242bd82256530a4b5393372538ffee7e402a1ff01b0aead1942429"
   }
  }
 },
 "nbformat": 4,
 "nbformat_minor": 2
}
