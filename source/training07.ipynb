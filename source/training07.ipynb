{
 "cells": [
  {
   "cell_type": "markdown",
   "metadata": {},
   "source": [
    "# Chapter07: Pythonを使うすべての人が知っておくべきこと"
   ]
  },
  {
   "cell_type": "markdown",
   "metadata": {},
   "source": [
    "## 問題135: PEP8：コーディング規約を知る"
   ]
  },
  {
   "cell_type": "markdown",
   "metadata": {},
   "source": [
    "**PEP8** は、`Python Enhancement Proposal #8` の略で、Pythonのコードをどのようにフォーマットにするかのコーディング規約です。\n",
    "\n",
    "<br>\n",
    "\n",
    "Pythonのコードは、正しい構文である限りは、好きなように書いていいのです。しかし、一貫したスタイルでコードを記述すると、コードがより扱いやすくなり、より可読性が高まります。\n",
    "\n",
    "**開発規模の大小問わず、全コーダーが押さえておくべき要素だと思います。**\n",
    "\n",
    "おそらく、長年ソフトウェアエンジニアとして業務をされてきたベテランの方であれば、コーディング規約を知りコードを書くことが、コードの品質や保守性に直結することは理解いただけるかと思います。\n",
    "\n",
    "<br>\n",
    "\n",
    "また、Pythonを学習していく中で、OSS開発にご興味のある方もいるかと思います。Python関連のOSS開発では、ほとんどのコミュニティがPEP8に準拠する形で開発が進められています。  \n",
    "その理由は、OSS開発におけるコーディング規約をPEP8にすることで、新しく参入されるコントリビューターが、すぐに開発に着手できるようになり、コミュニティでの開発スピードが上がり活発になるからです。\n",
    "\n",
    "<br>\n",
    "\n",
    "また、一般的なPythonを使った開発現場においても、基本的に組織のコーディング規約があったとしても、PEP8が基本となっていることがほとんどだと思います。(PEP8はPythonの基本みたいなものなので。)\n",
    "また、コーディング規約が定義されていない場合、暗黙の了解でPEP8を使うことが基本です。\n",
    "\n",
    "<br>\n",
    "\n",
    "最低限従うべきPEP8の規則をピックアップしました。\n",
    "\n",
    "------\n",
    "\n",
    "### 空白\n",
    "\n",
    "* インデントには、タブでなく空白を使う\n",
    "* 構文上意味を持つレベルのインデントには、空白4つ使う\n",
    "* 各行は、長さが79文字かそれ以下とする\n",
    "* 長い式を続けるために次の行を使うときは、通常のインデントから4個の追加空白を使ってインデントする\n",
    "* ファイルでは、関数とクラスは、空白行で分ける\n",
    "* 辞書では、キーとコロン(:)の間には空白を置かず、同じ行に値を書く場合には値の前に空白を1つ置く。\n",
    "* 変数代入の前後には、空白を1つ、必ず一つだけおく\n",
    "* 型ヒント(形アノテーション)では、変数名の直後にコロンを置き、型情報の前に空白を1つ置く。\n",
    "\n",
    "<br>\n",
    "\n",
    "### 名前付け\n",
    "\n",
    "* 関数、変数、属性は、`lowercase_underscore` のように小文字でアンダースコアを挟む\n",
    "* プロテクテッド(保護)属性は、`_leading_undersocre` のようにアンダースコアを先頭に付ける\n",
    "* プライベート属性は、`__double_undersocre` のようにアンダースコアを2つの先頭につける\n",
    "* クラスと例外は、`CapitalizedWord` のように先頭を大文字にする\n",
    "* モジュールでの定数は、`ALL_CAPS` のようにすべて大文字でアンダースコアを挟む\n",
    "* クラスのインスタンスメソッドは、（オブジェクトを参照する）第1パラメータの名前に`self`を使う\n",
    "* クラスメソッドは、（クラスを参照する）第1パラメータの名前に`cls`を使う\n",
    "\n",
    "<br>\n",
    "\n",
    "### 式と文(ステートメント)\n",
    "\n",
    "「The Zen of Python」には、「明らかなやり方が1つ、できれば1つだけあるのがいい」と書かれています。PEP8は、これを式と文で実現しています。\n",
    "\n",
    "* 式の否定( `if not a is b` )ではなく、内側の項の否定( `if a is not b` )を使う\n",
    "* コンテナやシーケンスの長さ ( `if len(somelist) == 0` )を使って、空の値( `[]`や `''` など)かどうかをチェックしない。`if not somelit` を使って、空値が暗黙に`Flase`と評価されることを使う。\n",
    "* 上と同じことを、非空値([1]や\"hello\"など)にも使う。非空値について、`if somelist` には、暗黙に `True` と評価されます。\n",
    "* `if` 文、`for` 文、`while` 文、`except` 複合文を1行で書かない。明確になるように複数行にする。\n",
    "* 式が1行に収まらない時は、括弧で括って、複数行にして、読みやすいようにインデントする。\n",
    "* `\\` で行分けするより、括弧を使って複数の式を囲む方がよい。\n",
    "\n",
    "<br>\n",
    "\n",
    "### import\n",
    "\n",
    "PEP8には、モジュールをインポートして、コードでどう使うのか指針があります。\n",
    "\n",
    "* import文は、( `from x import y` も含めて)常にファイルの先頭に置く\n",
    "* インポートする時は、常にモジュールの絶対名を使い、現モジュールのパスから相対名を使わない。例えば、モジュール `foo` をパッケージ `bar` からインポートする時には、`import foo` ではなく、`from bar import foo` を使う。\n",
    "* 相対インポートを使わなければならない時には、明示的な構文 `from . import foo` を使う。以下の順番で記述し、かつアルファベット順にimportする\n",
    "  1. 標準ライブラリ\n",
    "  2. サードパーティーモジュール\n",
    "  3. 自作モジュール "
   ]
  },
  {
   "cell_type": "markdown",
   "metadata": {},
   "source": [
    "### 問題135 の回答・実行例\n",
    "\n",
    "<details>\n",
    "<summary> > 回答と実行例を表示する</summary>\n",
    "\n",
    "* 覚えておいてほしいこと\n",
    "  * Pythonコードを書くときは、常にPEP8スタイルガイドに従う\n",
    "  * より大きなコミュニティの共通スタイルを共有することで、他の人との仕事がはかどる\n",
    "  * 一貫スタイルを用いることで、自分のコードの品質を高める\n",
    "\n",
    "</details>\n",
    "\n",
    "正直、こんなのいちいち確認する時間ない！って思った方。安心してください。開発現場では、人の目で見てチェックしなくても、便利なツールでチェック・自動フォーマットしてくれます。\n",
    "\n",
    "次の問題で解説します。\n",
    "\n",
    "* 参考 [PEP 8 – Style Guide for Python Code](https://peps.python.org/pep-0008/)\n",
    "\n",
    "---"
   ]
  },
  {
   "cell_type": "markdown",
   "metadata": {},
   "source": [
    "## 問題136: PEP8のlinterを導入する ~flake8~"
   ]
  },
  {
   "cell_type": "markdown",
   "metadata": {},
   "source": [
    "## linterとは\n",
    "\n",
    "linterとは、作成したソースコードをプログラムの実行を伴わず解析を行うツールのことを指します。静的解析ツールとよく言われます。\n",
    "\n",
    "linterは、先ほど確認したPEP8の規約にどのくらい従って書かれているか確認するためのツールになります。\n",
    "\n",
    "これは開発現場でも必ずと言っていいほど使用されるツールだと思っています。\n",
    "\n",
    "Pythonで使用されるlinterは、以下の4つがよく使われます。\n",
    "\n",
    "* pycodestyle\n",
    "* pyflakes\n",
    "* flake8\n",
    "* pylint\n",
    "\n",
    "`pylint` は、`Visual Studio Code` で導入されている解析ツールです、VScodeを使わない人もいるかと思うので、今回はパスします。\n",
    "\n",
    "今回は上記3つのlinterについてご紹介し、最後に`flake8`の使い方を少しだけ紹介します。\n",
    "\n",
    "### pycodestyle\n",
    "\n",
    "`pycodestyle`は、作成したPythonコードを`PEP8`のいくつかのコードスタイル規則と照合しチェックするツールです。\n",
    "\n",
    "このツールは、有名なlinterですが、現在はあまり使われていません。理由は後ほど説明する `flake8` の中で使用されているため、直接`pycodestyle`を呼び出して使われることは少なくなりました。\n",
    "\n",
    "> [PyCQA/pycodestyle - github.com](https://github.com/PyCQA/pycodestyle)\n",
    "\n",
    "### pyflakes\n",
    "\n",
    "`pyflakes` は、Pythonのソースコードのエラーをチェックする解析ツールです。しかし、コードスタイルはチェックせず、未使用の `import`文や変数をチェックします。`pycodestyle`でチェックしない箇所を検出するといった感じです。\n",
    "\n",
    "しかし、こちらも `pycodestyle`と同様の理由で、現在はあまり直接呼び出して使われる機会が少なくなりました。\n",
    "\n",
    "> [PyCQA/pyflakes - github.com](https://github.com/PyCQA/pyflakes)\n",
    "\n",
    "### flake8\n",
    "\n",
    "`flake8` も、PEP8のコードスタイルと照らし合わせてPythonスクリプトをチェックする解析ツールです。\n",
    "\n",
    "以下の3つのツールをラップした形で動作しています。\n",
    "* pycodestyle\n",
    "* pyflakes\n",
    "* Ned Batchelder's McCabe script\n",
    "\n",
    "現在、最も使われている静的解析ツールだと思います。おそらく、linterを使ったことない人は、実際に何をどうしてくれるのか分からないと思うので、実際に使ってみましょう。\n",
    "\n",
    "> [PyCQA/flake8 - github.com](https://github.com/PyCQA/flake8)"
   ]
  },
  {
   "cell_type": "markdown",
   "metadata": {},
   "source": [
    "### flake8をインストール\n",
    "\n",
    "コンソールや端末、コマンドプロンプトなどで、以下のコマンドを実行し、flake8をインストールしましょう。\n",
    "\n",
    "```bash\n",
    "    $ pip install flake8\n",
    "```\n",
    "\n",
    "### flake8の使い方\n",
    "\n",
    "例題として、`input` フォルダに、`lint_test_flake8.py` というファイルを作成し、以下のコードを記述しましょう。これは、まだPEP8に準拠していないスクリプトです。\n",
    "\n",
    "```python\n",
    "    import os\n",
    "    import abc\n",
    "    from numpy import *\n",
    "\n",
    "\n",
    "\n",
    "    a=1+1\n",
    "    \n",
    "    print(a)\n",
    "    print(\"This test script.All users of Flake8 should read this portion of the documentation.\")\n",
    "```\n",
    "\n",
    "これをflake8でコードスタイルを確認してみましょう。\n",
    "\n",
    "Jupyterではなく、コンソールを開いて、以下のコマンドを実行してみましょう。\n",
    "\n",
    "```bash\n",
    "    # 実行コマンド\n",
    "    $ flake8 input/lint_test_flake8.py\n",
    "```\n",
    "\n",
    "以下のような実行結果になったと思います。コーディング規約に問題があった場合、どこにどんな問題があったか表示してくれます。\n",
    "\n",
    "```bash\n",
    "    # 実行結果\n",
    "    input/lint_test_flake8.py:1:1: F401 'os' imported but unused\n",
    "    input/lint_test_flake8.py:2:1: F401 'abc' imported but unused\n",
    "    input/lint_test_flake8.py:3:1: F403 'from numpy import *' used; unable to detect undefined names\n",
    "    input/lint_test_flake8.py:3:1: F401 'numpy.*' imported but unused\n",
    "    input/lint_test_flake8.py:7:1: E303 too many blank lines (3)\n",
    "    input/lint_test_flake8.py:7:2: E225 missing whitespace around operator\n",
    "    input/lint_test_flake8.py:8:1: W293 blank line contains whitespace\n",
    "    input/lint_test_flake8.py:10:80: E501 line too long (92 > 79 characters)\n",
    "    input/lint_test_flake8.py:10:93: W292 no newline at end of file\n",
    "```\n",
    "\n",
    "このメッセージの味方は、以下の通りです。\n",
    "\n",
    "```python\n",
    "    # メッセージの構文\n",
    "    チェック対象のファイル:行数：列数: エラーコード エラーメッセージ\n",
    "```\n",
    "\n",
    "`F<番号>`と書かれているものは、pyflakesでチェックエラーが出たもの、\n",
    "\n",
    "`E<番号>/W<番号>`が書かれている行は、pycodestyleでチェックエラーがでたものになります。\n",
    "\n",
    "例えば、\"input/lint_test_flake8.py:7:1: E303 too many blank lines (3)\" とかかれているので\n",
    "\n",
    "`input/lint_test_flake8` の　7行目にE303「空行が多すぎる」と書かれています。対象行を修正して実行すると、エラーが消えます。\n",
    "\n",
    "練習として、残りのエラーも消してみましょう。\n",
    "\n",
    "> 参考：[Warning / Error codes - flake8](https://flake8.pycqa.org/en/2.6.0/warnings.html)\n",
    "\n",
    "### 問題\n",
    "\n",
    "残りのエラーも修正をして、再度 `flake8`を実行しましょう。"
   ]
  },
  {
   "cell_type": "markdown",
   "metadata": {},
   "source": [
    "### 問題136 の回答・実行例\n",
    "\n",
    "<details>\n",
    "<summary> > 回答と実行例を表示する</summary>\n",
    "\n",
    "* flake8でチェックし自分で修正したコード\n",
    "```python\n",
    "    # lint_test_flake8.py\n",
    "    a = 1 + 1\n",
    "    print(a)\n",
    "    print(\"This test script.All users of Flake8 should read\\\n",
    "            this portion of the documentation.\")\n",
    "```\n",
    "\n",
    "</details>\n",
    " \n",
    "最初は使い慣れたもの・しっくりくるものを使用するといいでしょう。迷ったら、linterは`flake8` を迷わず開発環境に導入しましょう。\n",
    "\n",
    "また、開発現場によっては、PEP8で特定の構文チェックを含めないケースも多々あるかと思います。その場合、`flake8` の `--ignore` オプションや`--exclude`オプションを使うといいかもしれません。\n",
    "\n",
    "* 参考 [PyCQA/pycodestyle - github.com](https://github.com/PyCQA/pycodestyle)\n",
    "* 参考 [PyCQA/pyflakes - github.com](https://github.com/PyCQA/pyflakes)\n",
    "* 参考 [PyCQA/flake8 - github.com](https://github.com/PyCQA/flake8)\n",
    "* 参考 [flake8の使い方とオプション - Qitta](https://qiita.com/raku_taro/items/93dacae018fb192d05b5)\n",
    "\n",
    "---"
   ]
  },
  {
   "cell_type": "markdown",
   "metadata": {},
   "source": [
    "## 問題137: PEP8のformaterを導入する ~black~"
   ]
  },
  {
   "cell_type": "markdown",
   "metadata": {},
   "source": [
    "### Pythonのformatterについて\n",
    "\n",
    "flake8はコードスタイルチェックを実行しますが、自動修正まで実行してくれません。\n",
    "\n",
    "そのため、上記のエラーを自動で修正したい場合は、別途コードフォーマットを使う必要があります。\n",
    "\n",
    "ここでは、有名なformatterを紹介します。\n",
    "\n",
    "* autopep8\n",
    "* yapf\n",
    "* balck\n",
    "\n",
    "### autopep8\n",
    "\n",
    "PEP 8スタイル ガイドに準拠するように、Pythonコードを自動的にフォーマットしてくれます。`pycodestyle` を使用して、コードのどの部分を修正する必要があるかを判断し、修正まで実行してくれます。しかし、対応するPEP8の規則は、全てに対応しているわけではありません。\n",
    "\n",
    "> 参考：[autopep8#Features - Github.com](https://github.com/hhatto/autopep8#features)\n",
    "\n",
    "### yapf\n",
    "\n",
    "yapfは、Googleが開発した、最もカスタマイズ性の高いformatterとして有名です。こちらもコードスタイルのチェックと修正を実行してくれます。Go言語の\"gofmt\"に倣って作られたともされており、元のコードがコーディング規約に違反していなくても、自動でスタイルガイドラインに準拠する最適なフォーマットに修正してくれます。\n",
    "\n",
    "> 参考: [google/yapf - Github.com](https://github.com/google/yapf)\n",
    "\n",
    "### black\n",
    "\n",
    "![black](img/136_balck.png)\n",
    "\n",
    "比較的新しめのformatterです。Githubにも書かれている通り、**\"妥協しないフォーマッター\"** と謳うだけあって、かなり細かくフォーマットをチェック・修正してくれます。\n",
    "\n",
    "先ほどの `yapf` と違って、カスタマイズ性は非常に低いですが、非常に人気の高いformatterになっています。\n",
    "\n",
    "もし、どのformatterを使うかどうか迷うようであれば、`black`を使うことをお勧めします。\n",
    "\n",
    "### 早速formatterを使ってみる\n",
    "\n",
    "ここからは、blackを使ってみます。\n",
    "\n",
    "#### blackのインストール\n",
    "\n",
    "もし、ご自身の環境にインストールする場合、以下のコマンドを入力してください。(今回は実行の必要ありません。)\n",
    "\n",
    "```bash\n",
    "$ pip install black\n",
    "```\n",
    "\n",
    "#### blackを使ってみる\n",
    "\n",
    "inputフォルダに、`formatter_test_black.py`を作成以下のサンプルコードを記述してください。\n",
    "\n",
    "```python\n",
    "    import os\n",
    "    import abc\n",
    "    from numpy import *\n",
    "\n",
    "\n",
    "\n",
    "    a=1+1\n",
    "    \n",
    "    print(a)\n",
    "    print(\"This test script.All users of Flake8 should read this portion of the documentation.\")\n",
    "```\n",
    "\n",
    "このファイルを作成した後、コンソールで以下のコマンドを実行してみましょう。\n",
    "\n",
    "```bash\n",
    "    # 実行コマンド\n",
    "    $ black input/formatter_test_black.py\n",
    "```\n",
    "\n",
    "このコマンドを実行すると、以下のような出力になるかと思います。\n",
    "```bash\n",
    "    # 実行結果\n",
    "    reformatted input/formatter_test_black.py\n",
    "\n",
    "    All done! ✨ 🍰 ✨\n",
    "    1 file reformatted.\n",
    "```\n",
    "\n",
    "実行結果から分かる通り、自動的にフォーマットされています。ファイル `input/formatter_test_black.py` を確認してみましょう。\n",
    "\n",
    "#### 問題\n",
    "\n",
    "自分で `input` フォルダに適当にスクリプトを配置して、`black` で自動フォーマットを実行してみましょう。"
   ]
  },
  {
   "cell_type": "markdown",
   "metadata": {},
   "source": [
    "### 問題137 の回答・実行例\n",
    "\n",
    "<details>\n",
    "<summary> > 回答と実行例を表示する</summary>\n",
    "\n",
    "* blackでフォーマットされたコード\n",
    "```python\n",
    "    import os\n",
    "    import abc\n",
    "    from numpy import *\n",
    "\n",
    "\n",
    "    a = 1 + 1\n",
    "\n",
    "    print(a)\n",
    "    print(\n",
    "        \"This test script.All users of Flake8 should read this portion of the documentation.\"\n",
    "    )\n",
    "```\n",
    "\n",
    "</details>\n",
    " \n",
    "個人的には `yapf` がおすすめですが、最初は使い慣れたもの・しっくりくるものを使用するといいでしょう。迷ったら、 formatterは `black` を迷わず開発環境に導入しましょう。\n",
    "\n",
    "* 参考 [6. モジュール - docs.python.org](https://docs.python.org/ja/3/tutorial/modules.html)\n",
    "* 参考 [Python でモジュール／パッケージを作成する - まくまくPythonノート](https://maku77.github.io/python/env/create-module.html)\n",
    "\n",
    "---"
   ]
  },
  {
   "cell_type": "markdown",
   "metadata": {},
   "source": [
    "## 問題138: pipの使い方"
   ]
  },
  {
   "cell_type": "markdown",
   "metadata": {},
   "source": []
  },
  {
   "cell_type": "code",
   "execution_count": null,
   "metadata": {},
   "outputs": [],
   "source": [
    "# コードを記述"
   ]
  },
  {
   "cell_type": "markdown",
   "metadata": {},
   "source": [
    "### 問題138の回答・実行例\n",
    "\n",
    "<details>\n",
    "<summary> > 回答と実行例を表示する</summary>\n",
    "\n",
    "```python\n",
    "\n",
    "```\n",
    "\n",
    "</details>\n",
    " \n",
    "<br>\n",
    "\n",
    "* 参考 [5.2.2. 名前空間パッケージ](https://docs.python.org/3.10/reference/import.html#namespace-packages)\n",
    "* 参考 [PEP 420 – Implicit Namespace Packages](https://peps.python.org/pep-0420/)\n",
    "* 参考 [Namespace vs regular package - stackoverflow](https://stackoverflow.com/questions/21819649/namespace-vs-regular-package)\n",
    "* 参考 [__init__.py を省略してはいけない - Qitta](https://qiita.com/methane/items/ed1e5b74747f3ffe9324)\n",
    "\n",
    "---"
   ]
  },
  {
   "cell_type": "markdown",
   "metadata": {},
   "source": [
    "## 問題139: pipのアップデート"
   ]
  },
  {
   "cell_type": "markdown",
   "metadata": {},
   "source": []
  },
  {
   "cell_type": "code",
   "execution_count": null,
   "metadata": {},
   "outputs": [],
   "source": [
    "# "
   ]
  },
  {
   "cell_type": "markdown",
   "metadata": {},
   "source": [
    "### 問題139 の回答・実行例\n",
    "\n",
    "<details>\n",
    "<summary> > 回答と実行例を表示する</summary>\n",
    "\n",
    "特にありません。\n",
    "\n",
    "</details>\n",
    " \n",
    "<br>\n",
    "\n",
    "* 参考 [6.1.1. モジュールをスクリプトとして実行する - docs.python.org](https://docs.python.org/ja/3/tutorial/modules.html#executing-modules-as-scripts)\n",
    "\n",
    "---"
   ]
  },
  {
   "cell_type": "markdown",
   "metadata": {},
   "source": [
    "## 問題140: pipでパッケージのバージョンとライセンスを取得する"
   ]
  },
  {
   "cell_type": "markdown",
   "metadata": {},
   "source": []
  },
  {
   "cell_type": "code",
   "execution_count": null,
   "metadata": {},
   "outputs": [],
   "source": [
    "#コードを記述"
   ]
  },
  {
   "cell_type": "markdown",
   "metadata": {},
   "source": [
    "### 問題140 の回答・実行例\n",
    "\n",
    "<details>\n",
    "<summary> > 回答と実行例を表示する</summary>\n",
    "\n",
    "```python\n",
    "\n",
    "```\n",
    "\n",
    "実行結果\n",
    "```python\n",
    " \n",
    "```\n",
    "\n",
    "</details>\n",
    " \n",
    "\n",
    "* 参考 [python-docx - python-docx.readthedocs.io](https://python-docx.readthedocs.io/en/latest/)\n",
    "* 参考 [python-docx 0.8.11](https://pypi.org/project/python-docx/)\n",
    "* 参考 [python-docxによるWordファイル操作方法のまとめ - GAMMASOFT](https://gammasoft.jp/support/how-to-use-python-docx-for-word-file/)\n",
    "\n",
    "---"
   ]
  },
  {
   "cell_type": "markdown",
   "metadata": {},
   "source": [
    "## 問題141: 開発環境構築のキ ~仮想環境は必ず作る~"
   ]
  },
  {
   "cell_type": "markdown",
   "metadata": {},
   "source": []
  },
  {
   "cell_type": "code",
   "execution_count": 15,
   "metadata": {},
   "outputs": [],
   "source": [
    "#コードを記述\n"
   ]
  },
  {
   "cell_type": "markdown",
   "metadata": {},
   "source": [
    "### 問題141 の回答・実行例\n",
    "\n",
    "<details>\n",
    "<summary> > 回答と実行例を表示する</summary>\n",
    "\n",
    "```python\n",
    "\n",
    "```\n",
    "\n",
    "\n",
    "</details>\n",
    "\n",
    "\n",
    "\n",
    "* 参考 [python-docx](https://python-docx.readthedocs.io/en/latest/index.html)\n",
    "* 参考 [python-docxによるWordファイル操作方法のまとめ - GAMMASOFT](https://gammasoft.jp/support/how-to-use-python-docx-for-word-file/)\n",
    "\n",
    "---"
   ]
  },
  {
   "cell_type": "markdown",
   "metadata": {},
   "source": [
    "## 問題126: PDFデータを読み込んでみよう"
   ]
  },
  {
   "cell_type": "markdown",
   "metadata": {},
   "source": [
    "### PythonでPDFを扱うためには\n",
    "\n",
    "PythonでPDFを読み込むためのライブラリは、いくつかあります。例えば、\n",
    "* PyPDF2\n",
    "* pdfminer.six\n",
    "というライブラリがあります。\n",
    "\n",
    "**`PyPDF2` は、PDFファイルのページを分割、結合、トリミング、変換できるPythonのPDFライブラリです。**\n",
    "\n",
    "<br>\n",
    "\n",
    "まず、`PyPDF2` を使ってPDFファイルを開いてみましょう。\n",
    "\n",
    "今回、`input` フォルダに **126_About_python_wiki.pdf** を格納したため、そちらを開きます。まずはご自身のPCに対象のPDFをインストールして、クリックして普通に開いて中身を確認しましょう。\n",
    "\n",
    "確認できたら、このPDFをPythonでインストールしていきます。\n",
    "\n",
    "`PyPDF` を使ってPDFからテキストを抽出するためには、`PdfReader()` の `extract_text()` メソッドを使います。以下の流れでPDFからテキストが抽出ができます。\n",
    "\n",
    "```python\n",
    "    import PyPDF2\n",
    "\n",
    "    with open(\"input/126_About_python_wiki.pdf\", mode=\"rb\") as f:\n",
    "        reader = PyPDF2.PdfFileReader(f)\n",
    "        page_one = reader.getPage(0)\n",
    "        print(page_one.extractText())\n",
    "```"
   ]
  },
  {
   "cell_type": "code",
   "execution_count": null,
   "metadata": {},
   "outputs": [],
   "source": [
    "#PyPDFを使ってPDFを読み取る\n"
   ]
  },
  {
   "cell_type": "markdown",
   "metadata": {},
   "source": [
    "PDFの内容を読み取ることが出来ました。しかし、`PyPDF2`の欠点は、日本語のに対応していないという点です。\n",
    "\n",
    "そのため、PDFからテキストを読み取って処理をするということを目的としている場合、`pdfminer.six` を利用しましょう。\n",
    "\n",
    "また、既にライブラリの開発が終了している点も、このライブラリを使うのはやめた方が良さそうです。\n",
    "\n",
    "Pythonライブラリは、盛んに開発が行われているライブラリと、そうでないライブラリがありますので、企業で使う場合、注意して選定しましょう。\n",
    "\n",
    "<br>\n",
    "\n",
    "`pdfminer.six` は、先ほども説明した通り、テキスト抽出で日本語対応した、PDF処理Pythonライブラリです。PDFを様々な情報を抽出することができます。  \n",
    "たとえば、テキストデータの正確な位置(座標)、フォントの種類、色を抽出できます。\n",
    "\n",
    "それでは、同じPDFファイル **input/126_About_python_wiki.pdf** を、`pdfminer.six`を使って読み込んでみましょう。\n",
    "\n",
    "```python\n",
    "    from pdfminer.high_level import extract_text\n",
    "\n",
    "    text = extract_text(\"input/126_About_python_wiki.pdf\")\n",
    "    print(text)\n",
    "```\n"
   ]
  },
  {
   "cell_type": "code",
   "execution_count": null,
   "metadata": {},
   "outputs": [],
   "source": [
    "# pdfminer.sixを使ってPDFを読み取ってみましょう\n"
   ]
  },
  {
   "cell_type": "markdown",
   "metadata": {},
   "source": [
    "### 問題126 の回答・実行例\n",
    "\n",
    "<details>\n",
    "<summary> > 回答と実行例を表示する</summary>\n",
    "\n",
    "* PyPDFをつかってPDFを読み取る\n",
    "```python\n",
    "    import PyPDF2\n",
    "\n",
    "    with open(\"input/126_About_python_wiki.pdf\", mode=\"rb\") as f:\n",
    "        reader = PyPDF2.PdfFileReader(f)\n",
    "        page_one = reader.getPage(0)\n",
    "        print(page_one.extractText())\n",
    "```\n",
    "\n",
    "* pdfminer.sixでPDFを読み取る\n",
    "```python\n",
    "    from pdfminer.high_level import extract_text\n",
    "\n",
    "    text = extract_text(\"input/126_About_python_wiki.pdf\")\n",
    "    print(text)\n",
    "```\n",
    "\n",
    "</details>\n",
    "\n",
    "おそらく、直観的には `pdfminer.six` の方が簡単にpdfが読み込めたのではないでしょうか。\n",
    "\n",
    "また、PythonでPDFを処理する際に、よくある問題が、PDFが思った通りに読み込めないという問題です。\n",
    "\n",
    "PDF内の表、図形、段落や改行などによって、こちらが想定しない順番でテキストを読み込む可能性があります。\n",
    "\n",
    "その場合、プログラムを微調整して処理するしかありません。そこは腕の見せ所だと思っています。\n",
    "\n",
    "\n",
    "* 参考 [PyPDF2 へようこそ - pypdf2.readthedocs.io](https://pypdf2.readthedocs.io/en/latest/)\n",
    "* 参考 [Extract Text from a PDF - pypdf2.readthedocs.io](https://pypdf2.readthedocs.io/en/latest/user/extract-text.html#extract-text-from-a-pdf)\n",
    "* 参考 [pdfminer.six 20220524 - pypi.org](https://pypi.org/project/pdfminer.six/)\n",
    "\n",
    "---"
   ]
  },
  {
   "cell_type": "markdown",
   "metadata": {},
   "source": [
    "## 問題127: PDFデータを結合・分割してみよう"
   ]
  },
  {
   "cell_type": "markdown",
   "metadata": {},
   "source": [
    "### PDFを結合する\n",
    "\n",
    "続いて、`PyPDF2`を使って、PDFを結合していきましょう。\n",
    "\n",
    "`input` フォルダに格納した `127_sample.pdf` と、`126_About_python_wiki.pdf` を結合してみましょう。`126_About_python_wiki.pdf` は、前回の問題で扱ったPDFファイルです。\n",
    "\n",
    "また、結合後のファイルは、`output` フォルダに、`127_concat_newfile.pdf` としましょう。\n",
    "\n",
    "結合する手順としては、\n",
    "\n",
    "1. `PdfFileMerger`クラスのオブジェクトを生成\n",
    "2. 結合したいPDFファイルを`append()`で追加する\n",
    "3. 2で追加したPDFファイルを、新規PDFに書き出す\n",
    "4. `PdfFileMerger`で開いたPDFを閉じる( `close()` )ファイルは開いたら、閉じる処理を実行しましょう。\n",
    "\n",
    "それでは、PDFを結合してみましょう。\n",
    "\n",
    "```python\n",
    "    import PyPDF2\n",
    "\n",
    "    # オブジェクトを作成\n",
    "    concat_pdf_object = PyPDF2.PdfFileMerger()\n",
    "    # 結合したいファイルを追加する\n",
    "    concat_pdf_object.append(\"input/127_sample.pdf\")\n",
    "    concat_pdf_object.append(\"input/126_About_python_wiki.pdf\")\n",
    "    # 新規ファイルに書き出す\n",
    "    concat_pdf_object.write(\"output/127_concat_newfile.pdf\")\n",
    "    # ファイルを閉じる\n",
    "    concat_pdf_object.close()\n",
    "```"
   ]
  },
  {
   "cell_type": "code",
   "execution_count": 1,
   "metadata": {},
   "outputs": [],
   "source": [
    "# pdfを結合する\n"
   ]
  },
  {
   "cell_type": "markdown",
   "metadata": {},
   "source": [
    "### PDFを途中に挿入する\n",
    "\n",
    "今度は、先ほど結合したPDFの1ページの後に、`input`フォルダに格納されている `127_sample_insert.pdf`　を挿入して結合しましょう。\n",
    "\n",
    "挿入の流れは結合の手順と変わらないですが、`merge`メソッドを使ってページ指定の挿入を行います。\n",
    "\n",
    "1. `PdfFileMerger`クラスのオブジェクトを生成\n",
    "2. 結合したいPDFファイルを`append()`で 追加する\n",
    "3. `merge`メソッドを利用して、**ページ数を指定して** 追加する\n",
    "4. 2で追加したPDFファイルを、新規PDFに書き出す\n",
    "5. `PdfFileMerger`で開いたPDFを閉じる( `close()` )ファイルは開いたら、閉じる処理を実行しましょう。\n",
    "\n",
    "今回初めて、`merge`というメソッドを使います。\n",
    "\n",
    "```bash\n",
    "# Msergeの書式\n",
    "    merge(\n",
    "        position: int,\n",
    "        fileobj: Union[pathlib.Path, str, _io.BytesIO, _io.BufferedReader, _io.BufferedWriter, _io.FileIO, PyPDF2._reader.PdfReader]) -> None\n",
    "    Merge the pages from the given file into the output file at the\n",
    "    specified page number.\n",
    "```\n",
    "\n",
    "それでは、結合していきましょう。\n",
    "\n",
    "結合後のファイルは、`output/127_insert_newfile.pdf` としましょう。\n",
    "\n",
    "```python\n",
    "    import PyPDF2\n",
    "\n",
    "    # オブジェクトを作成\n",
    "    concat_pdf_object = PyPDF2.PdfFileMerger()\n",
    "    # 結合したいファイルを追加する\n",
    "    concat_pdf_object.append(\"output/127_concat_newfile.pdf\")\n",
    "    # 第1引数のpositionで挿入位置を指定\n",
    "    concat_pdf_object.merge(1, \"input/127_sample_insert.pdf\")\n",
    "    # 新規ファイルに書き出す\n",
    "    concat_pdf_object.write(\"output/127_insert_newfile.pdf\")\n",
    "    # ファイルを閉じる\n",
    "    concat_pdf_object.close()\n",
    "```"
   ]
  },
  {
   "cell_type": "code",
   "execution_count": 3,
   "metadata": {},
   "outputs": [],
   "source": [
    "# ページ数を指定してPDFを結合する\n"
   ]
  },
  {
   "cell_type": "markdown",
   "metadata": {},
   "source": [
    "### PDFを分割する\n",
    "\n",
    "それでは、続いて指定したページでPDFを分轄してみましょう。\n",
    "\n",
    "`PyPDF2` にはPDF分割のメソッドは用意されていません。\n",
    "\n",
    "そのため、PDFを分割する流れは、以下のような手順で実施します。\n",
    "\n",
    "* `PdfFileMerger()`のインスタンスを生成\n",
    "* `append()`メソッドで、ページ範囲を指定してオブジェクトに追加\n",
    "* `write()`メソッドで、追加したページを新規ファイルに書き込みする\n",
    "* `close()`メソッドで、開いたPDFを閉じる\n",
    "\n",
    "分割するPDFは、`input/127_b2015_202208sj.pdf` から1~2ページを取り出し、分割したファイルは、`output/split_new_file.pdf` としましょう。\n",
    "\n",
    "ページ分割のコードは以下のようになります。\n",
    "\n",
    "また、ページの分割のポイントは、`append()`の引数に、`pages`に `PyPDF2.pagerange.PageRange()`メソッドに分割したいページを`開始ページ:終了ページ`のように指定します。\n",
    "\n",
    "```python\n",
    "    # PDFをページを指定して分割\n",
    "    import PyPDF2\n",
    "\n",
    "    merger = PyPDF2.PdfFileMerger()\n",
    "    # ページ範囲を指定してオブジェクトに追加\n",
    "    merger.append('input/127_b2015_202208sj.pdf', pages=PyPDF2.pagerange.PageRange(':2'))\n",
    "    # 追加したページを新規ファイルに書き込みする\n",
    "    merger.write('output/split_new_file.pdf')\n",
    "    # 開いたPDFを閉じる\n",
    "    merger.close()\n",
    "```"
   ]
  },
  {
   "cell_type": "code",
   "execution_count": 4,
   "metadata": {},
   "outputs": [],
   "source": [
    "# PDFをページを指定して分割\n"
   ]
  },
  {
   "cell_type": "markdown",
   "metadata": {},
   "source": [
    "### さらに応用に挑戦 : フォルダに配置されたすべてのPDFを結合してみる\n",
    "\n",
    "これまでの問題の総括です。あるフォルダに格納されたPDFを分割してみましょう。\n",
    "\n",
    "そこまで難しくないです、流れは、\n",
    "\n",
    "* 特定のフォルダから拡張子`pdf`を取得する\n",
    "* 取得したPDFの結合順番を並び替えたい場合もあると思うので、`sort()`をかけておく\n",
    "* 1つ1つのファイルを`append()`する\n",
    "* 新規PDFに書き出す\n",
    "\n",
    "読み出すフォルダは、`output`とし、書き出すフォルダは`output/all_newfile.pdf`　とします。\n",
    "(注意)これは、outputフォルダに格納した新規ファイルを結合対象とするため、実行するたびに、すべて結合したPDFも結合されてしまいます。\n",
    "\n",
    "```python\n",
    "    import glob\n",
    "    import PyPDF2\n",
    "\n",
    "    output_folder_list = glob.glob(\"output/*.pdf\")\n",
    "    output_folder_list.sort()\n",
    "\n",
    "    pdfobj = PyPDF2.PdfFileMerger()\n",
    "    for pdffile in output_folder_list:\n",
    "        pdfobj.append(pdffile)\n",
    "        \n",
    "    pdfobj.write(\"output/all_newfile.pdf\")\n",
    "    pdfobj.close()\n",
    "```"
   ]
  },
  {
   "cell_type": "code",
   "execution_count": null,
   "metadata": {},
   "outputs": [],
   "source": [
    "# outpuフォルダ内のPDFをすべて結合する\n"
   ]
  },
  {
   "cell_type": "markdown",
   "metadata": {},
   "source": [
    "### 問題127 の回答・実行例\n",
    "\n",
    "<details>\n",
    "<summary> > 回答と実行例を表示する</summary>\n",
    "\n",
    "* PDFを結合するスクリプト\n",
    "\n",
    "```python\n",
    "    import PyPDF2\n",
    "\n",
    "    concat_pdf_object = PyPDF2.PdfFileMerger()\n",
    "    concat_pdf_object.append(\"input/127_sample.pdf\")\n",
    "    concat_pdf_object.append(\"input/126_About_python_wiki.pdf\")\n",
    "    # 新規ファイルに書き出す\n",
    "    concat_pdf_object.write(\"output/127_concat_newfile.pdf\")\n",
    "    concat_pdf_object.close()\n",
    "```\n",
    "\n",
    "* ページを指定してPDFを結合する\n",
    "```python\n",
    "    import PyPDF2\n",
    "\n",
    "    # オブジェクトを作成\n",
    "    concat_pdf_object = PyPDF2.PdfFileMerger()\n",
    "    # 結合したいファイルを追加する\n",
    "    concat_pdf_object.append(\"output/127_concat_newfile.pdf\")\n",
    "    # 第1引数のpositionで挿入位置を指定\n",
    "    concat_pdf_object.merge(1, \"input/127_sample_insert.pdf\")\n",
    "    # 新規ファイルに書き出す\n",
    "    concat_pdf_object.write(\"output/127_insert_newfile.pdf\")\n",
    "    # ファイルを閉じる\n",
    "    concat_pdf_object.close()\n",
    "```\n",
    "\n",
    "* ページを指定してPDFを分割\n",
    "```python\n",
    "    # PDFをページを指定して分割\n",
    "    import PyPDF2\n",
    "\n",
    "    merger = PyPDF2.PdfFileMerger()\n",
    "    # ページ範囲を指定してオブジェクトに追加\n",
    "    merger.append('input/127_b2015_202208sj.pdf', pages=PyPDF2.pagerange.PageRange(':2'))\n",
    "    # 追加したページを新規ファイルに書き込みする\n",
    "    merger.write('output/split_new_file.pdf')\n",
    "    # 開いたPDFを閉じる\n",
    "    merger.close()\n",
    "```\n",
    "\n",
    "* outputフォルダのPDFをすべて結合する\n",
    "```python\n",
    "    import glob\n",
    "    import PyPDF2\n",
    "\n",
    "    output_folder_list = glob.glob(\"output/*.pdf\")\n",
    "    output_folder_list.sort()\n",
    "\n",
    "    pdfobj = PyPDF2.PdfFileMerger()\n",
    "    for pdffile in output_folder_list:\n",
    "        pdfobj.append(pdffile)\n",
    "        \n",
    "    pdfobj.write(\"output/all_newfile.pdf\")\n",
    "    pdfobj.close()\n",
    "```\n",
    "\n",
    "</details>\n",
    " \n",
    "\n",
    "* 参考 [Welcome to PyPDF2](https://pypdf2.readthedocs.io/en/latest/index.html)\n",
    "* 参考 [Python, PyPDF2でPDFを結合・分割（ファイル全体・個別ページ）- note.nkmk.me](https://note.nkmk.me/python-pypdf2-pdf-merge-insert-split/)\n",
    "\n",
    "---"
   ]
  },
  {
   "cell_type": "markdown",
   "metadata": {},
   "source": [
    "## 問題128: 画像データを読み込んでみよう"
   ]
  },
  {
   "cell_type": "markdown",
   "metadata": {},
   "source": []
  },
  {
   "cell_type": "code",
   "execution_count": null,
   "metadata": {},
   "outputs": [],
   "source": [
    "#コードを記述\n"
   ]
  },
  {
   "cell_type": "markdown",
   "metadata": {},
   "source": [
    "### 問題128 の回答・実行例\n",
    "\n",
    "<details>\n",
    "<summary> > 回答と実行例を表示する</summary>\n",
    "\n",
    "```python\n",
    "\n",
    "```\n",
    "\n",
    "実行結果\n",
    "```python\n",
    "\n",
    "```\n",
    "\n",
    "</details>\n",
    " \n",
    "\n",
    "* 参考 []()\n",
    "* 参考 []()\n",
    "\n",
    "---"
   ]
  },
  {
   "cell_type": "markdown",
   "metadata": {},
   "source": [
    "## 問題129: 画像データを処理してみよう"
   ]
  },
  {
   "cell_type": "markdown",
   "metadata": {},
   "source": []
  },
  {
   "cell_type": "code",
   "execution_count": null,
   "metadata": {},
   "outputs": [],
   "source": [
    "#コードを記述\n"
   ]
  },
  {
   "cell_type": "markdown",
   "metadata": {},
   "source": [
    "### 問題129 の回答・実行例\n",
    "\n",
    "<details>\n",
    "<summary> > 回答と実行例を表示する</summary>\n",
    "\n",
    "```python\n",
    "\n",
    "```\n",
    "\n",
    "実行結果\n",
    "```python\n",
    "\n",
    "```\n",
    "\n",
    "</details>\n",
    " \n",
    "\n",
    "* 参考 []()\n",
    "* 参考 []()\n",
    "\n",
    "---"
   ]
  },
  {
   "cell_type": "markdown",
   "metadata": {},
   "source": [
    "## 問題130: Excelからpythonのコードを自動生成する:準備"
   ]
  },
  {
   "cell_type": "markdown",
   "metadata": {},
   "source": []
  },
  {
   "cell_type": "code",
   "execution_count": null,
   "metadata": {},
   "outputs": [],
   "source": [
    "#コードを記述\n"
   ]
  },
  {
   "cell_type": "markdown",
   "metadata": {},
   "source": [
    "### 問題130 の回答・実行例\n",
    "\n",
    "<details>\n",
    "<summary> > 回答と実行例を表示する</summary>\n",
    "\n",
    "```python\n",
    "\n",
    "```\n",
    "\n",
    "実行結果\n",
    "```python\n",
    "\n",
    "```\n",
    "\n",
    "</details>\n",
    " \n",
    "\n",
    "* 参考 []()\n",
    "* 参考 []()\n",
    "\n",
    "---"
   ]
  },
  {
   "cell_type": "markdown",
   "metadata": {},
   "source": [
    "## 問題131: Excelからpythonのコードを自動生成する:操作"
   ]
  },
  {
   "cell_type": "markdown",
   "metadata": {},
   "source": []
  },
  {
   "cell_type": "code",
   "execution_count": null,
   "metadata": {},
   "outputs": [],
   "source": [
    "#コードを記述\n"
   ]
  },
  {
   "cell_type": "markdown",
   "metadata": {},
   "source": [
    "### 問題131 の回答・実行例\n",
    "\n",
    "<details>\n",
    "<summary> > 回答と実行例を表示する</summary>\n",
    "\n",
    "```python\n",
    "\n",
    "```\n",
    "\n",
    "実行結果\n",
    "```python\n",
    "\n",
    "```\n",
    "\n",
    "</details>\n",
    " \n",
    "\n",
    "* 参考 []()\n",
    "* 参考 []()\n",
    "\n",
    "---"
   ]
  },
  {
   "cell_type": "markdown",
   "metadata": {},
   "source": [
    "## 問題132: Excelから自動生成したコードを処理してみる"
   ]
  },
  {
   "cell_type": "markdown",
   "metadata": {},
   "source": []
  },
  {
   "cell_type": "code",
   "execution_count": null,
   "metadata": {},
   "outputs": [],
   "source": [
    "#コードを記述\n"
   ]
  },
  {
   "cell_type": "markdown",
   "metadata": {},
   "source": [
    "### 問題132 の回答・実行例\n",
    "\n",
    "<details>\n",
    "<summary> > 回答と実行例を表示する</summary>\n",
    "\n",
    "```python\n",
    "\n",
    "```\n",
    "\n",
    "実行結果\n",
    "```python\n",
    "\n",
    "```\n",
    "\n",
    "</details>\n",
    " \n",
    "\n",
    "* 参考 []()\n",
    "* 参考 []()\n",
    "\n",
    "---"
   ]
  },
  {
   "cell_type": "markdown",
   "metadata": {},
   "source": [
    "## 問題133: Excelから自動生成したコードを統計処理にかけてみる"
   ]
  },
  {
   "cell_type": "markdown",
   "metadata": {},
   "source": []
  },
  {
   "cell_type": "code",
   "execution_count": null,
   "metadata": {},
   "outputs": [],
   "source": [
    "#コードを記述\n"
   ]
  },
  {
   "cell_type": "markdown",
   "metadata": {},
   "source": [
    "### 問題133 の回答・実行例\n",
    "\n",
    "<details>\n",
    "<summary> > 回答と実行例を表示する</summary>\n",
    "\n",
    "```python\n",
    "\n",
    "```\n",
    "\n",
    "実行結果\n",
    "```python\n",
    "\n",
    "```\n",
    "\n",
    "</details>\n",
    " \n",
    "\n",
    "* 参考 []()\n",
    "* 参考 []()\n",
    "\n",
    "---"
   ]
  },
  {
   "cell_type": "markdown",
   "metadata": {},
   "source": [
    "## 問題134: Excelから自動生成したコードを機械学習にかけてみる"
   ]
  },
  {
   "cell_type": "markdown",
   "metadata": {},
   "source": []
  },
  {
   "cell_type": "code",
   "execution_count": null,
   "metadata": {},
   "outputs": [],
   "source": [
    "#コードを記述\n"
   ]
  },
  {
   "cell_type": "markdown",
   "metadata": {},
   "source": [
    "### 問題134 の回答・実行例\n",
    "\n",
    "<details>\n",
    "<summary> > 回答と実行例を表示する</summary>\n",
    "\n",
    "```python\n",
    "\n",
    "```\n",
    "\n",
    "実行結果\n",
    "```python\n",
    "\n",
    "```\n",
    "\n",
    "</details>\n",
    " \n",
    "\n",
    "* 参考 []()\n",
    "* 参考 []()\n",
    "\n",
    "---"
   ]
  }
 ],
 "metadata": {
  "kernelspec": {
   "display_name": "Python 3.9.13 ('.venv': poetry)",
   "language": "python",
   "name": "python3"
  },
  "language_info": {
   "codemirror_mode": {
    "name": "ipython",
    "version": 3
   },
   "file_extension": ".py",
   "mimetype": "text/x-python",
   "name": "python",
   "nbconvert_exporter": "python",
   "pygments_lexer": "ipython3",
   "version": "3.9.13"
  },
  "vscode": {
   "interpreter": {
    "hash": "0eb13e06639adadfc3e43be447705b429278b89ea552c102ccee7a972aa1e78a"
   }
  }
 },
 "nbformat": 4,
 "nbformat_minor": 4
}
