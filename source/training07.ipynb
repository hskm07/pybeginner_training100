{
 "cells": [
  {
   "cell_type": "markdown",
   "metadata": {},
   "source": [
    "#　第１章　値と変数について"
   ]
  },
  {
   "cell_type": "markdown",
   "metadata": {},
   "source": [
    "## **問7 値と比較演算子**"
   ]
  },
  {
   "cell_type": "markdown",
   "metadata": {},
   "source": [
    "比較演算子について学びましょう。以下のコードを実行してみましょう。\n",
    "<br>\n",
    "ここでは、値と比較演算子について学びましょう。\n",
    "<br>\n",
    "まずはプログラムを実行してみましょう。\n",
    "<br>\n",
    "<br>\n",
    "スクリプト名：training07.py"
   ]
  },
  {
   "cell_type": "code",
   "execution_count": 2,
   "metadata": {},
   "outputs": [
    {
     "name": "stdout",
     "output_type": "stream",
     "text": [
      "結果#1 :  False\n",
      "結果#2 :  True\n",
      "結果#3 :  False\n",
      "結果#4 :  True\n",
      "結果： False\n"
     ]
    }
   ],
   "source": [
    "#数字の比較\n",
    "a = 20\n",
    "b = 30\n",
    "c = 40\n",
    "\n",
    "#1 a と bは同じ値のときrue\n",
    "print(\"結果#1 : \", a == b)\n",
    "\n",
    "#2 aとbが等しくないときTrue\n",
    "print(\"結果#2 : \", a != b)\n",
    "\n",
    "#3 cが50より大きいときTrue\n",
    "print(\"結果#3 : \", c >= 50)\n",
    "\n",
    "#4 cが15以上40より小さいときにTrue\n",
    "print(\"結果#4 : \", 15 <= b < 40)"
   ]
  },
  {
   "cell_type": "markdown",
   "metadata": {},
   "source": [
    "**比較演算子について**\n",
    "<br>値や文字列を比較する時に使用する演算子を以下にまとめました。"
   ]
  },
  {
   "cell_type": "markdown",
   "metadata": {},
   "source": [
    "|　　比較演算子　　|　　使用例　　| 概要 |\n",
    "|:---:|:---:|:---:|\n",
    "| == | A == B | AとBが等しい時にTrue |\n",
    "| != | A != B | AとB等しくない時にTrue |\n",
    "|  > | A >  B | AがBより大きいときTrue |\n",
    "| >= | A >= B | AがB以上の時にTrue |\n",
    "| <  | A <  B | AがBより小さい時にTrue |\n",
    "| <= | A <= B | AがB以下の時にTrue |"
   ]
  },
  {
   "cell_type": "code",
   "execution_count": 3,
   "metadata": {},
   "outputs": [
    {
     "name": "stdout",
     "output_type": "stream",
     "text": [
      "結果： False\n"
     ]
    }
   ],
   "source": [
    "# 文字の比較\n",
    "mozi1 = \"blue\"\n",
    "mozi2 = \"black\"\n",
    "print(\"結果：\", mozi1 == mozi2)"
   ]
  }
 ],
 "metadata": {
  "kernelspec": {
   "display_name": "Python 3",
   "language": "python",
   "name": "python3"
  },
  "language_info": {
   "codemirror_mode": {
    "name": "ipython",
    "version": 3
   },
   "file_extension": ".py",
   "mimetype": "text/x-python",
   "name": "python",
   "nbconvert_exporter": "python",
   "pygments_lexer": "ipython3",
   "version": "3.8.3"
  }
 },
 "nbformat": 4,
 "nbformat_minor": 4
}
