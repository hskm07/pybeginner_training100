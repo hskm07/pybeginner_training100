{
 "cells": [
  {
   "cell_type": "markdown",
   "metadata": {},
   "source": [
    "# Chapter01: Pythonの基礎の基礎"
   ]
  },
  {
   "cell_type": "markdown",
   "metadata": {},
   "source": [
    "## 問題2: 変数と型"
   ]
  },
  {
   "cell_type": "markdown",
   "metadata": {},
   "source": [
    "Pythonのいろんなテキストや参考書の中には、**「データ型をあまり意識することないのがPythonだ！」** みたいなこと書いていますが、そんなことはないです。  \n",
    "\n",
    "確かに、Pythonは変数定義の際に、型を指定しない、動的型付け言語です。しかし、データ型を把握していないと、正しく動くプログラムが書けなかったり、様々なライブラリが思うように利用できないなどの初心者あるあるに陥ります。\n",
    "\n",
    "データ型はちゃんと把握しておいた方がいいです。\n",
    "\n",
    "| データ型 | 説明 |\n",
    "| ------- | --- |\n",
    "| int     | 整数のことです。1とか２とか３とか。|\n",
    "| float   | 小数点のことです。1.2とか、3.19とか、32.7とか。|\n",
    "| string  | 文字データのことです。Appleとか茨城県とか、””や’’で囲まれたデータは、基本string型(文字)と考えてOK |\n",
    "| list    | リスト型と呼ばれるもの。リストは配列という複数のデータを保存できる箱みたいなもの。後ほど勉強します。|\n",
    "| dict    | 辞書型。配列の一種です。キーと値のペアでデータを保持できる。今は詳しく調べなくてO Kです |\n",
    "| tuple   | タプル型。これも配列の一種。リストと似たデータ型です。今は詳しく調べなくてOKです。|\n",
    "\n",
    "また、型を調べる関数に、**type()** もしくは **isinstance()** があります。\n",
    "\n",
    "![1-3](img/1-3.png)\n",
    "\n",
    "\n",
    "### 問題\n",
    "以下のコードを変数をtype()関数に渡して、どんなデータ型が出力されるのか確認してみましょう。\n",
    "\n",
    "```python\n",
    "ia = 100\n",
    "fb = 10.11\n",
    "st = \"文字列です\"\n",
    "bl = True\n",
    "lt = [1,2,3,4,5]\n",
    "dc = {'りんご':100, 'みかん': 2000}\n",
    "tp= (1,2,3,4,5)\n",
    "```\n"
   ]
  },
  {
   "cell_type": "code",
   "execution_count": 1,
   "metadata": {},
   "outputs": [],
   "source": [
    "# 変数の型を確認してみましょう。\n",
    "ia = 100\n",
    "fb = 10.11\n",
    "st = \"文字列です\"\n",
    "bl = True\n",
    "lt = [1,2,3,4,5]\n",
    "dc = {'りんご':100, 'みかん': 2000}\n",
    "tp= (1,2,3,4,5)\n",
    "\n",
    "# 型を出力するコードを記載"
   ]
  },
  {
   "cell_type": "markdown",
   "metadata": {},
   "source": [
    "### 問題2 の回答・実行例\n",
    "\n",
    "<details>\n",
    "<summary> > 回答と実行例を表示する</summary>\n",
    "\n",
    "実行例になります。\n",
    "```python\n",
    "　　ia = 100\n",
    "　　fb = 10.11\n",
    "　　st = \"文字列です\"\n",
    "　　bl = True\n",
    "　　lt = [1,2,3,4,5]\n",
    "　　dc = {'りんご':100, 'みかん': 2000}\n",
    "　　tp= (1,2,3,4,5)\n",
    "　　\n",
    "　　# 整数型：int\n",
    "　　print(type(ia))\n",
    "　　# 小数点：float\n",
    "　　print(type(fb))\n",
    "　　# 文字列：string\n",
    "　　print(type(st))\n",
    "　　# ブール型：bool\n",
    "　　print(type(bl))\n",
    "　　# リスト型\n",
    "　　print(type(lt))\n",
    "　　# 辞書型\n",
    "　　print(type(dc))\n",
    "　　# タプル型\n",
    "　　print(type(tp))\n",
    "```\n",
    "出力例です。\n",
    "```python\n",
    "    <class 'int'>\n",
    "    <class 'float'>\n",
    "    <class 'str'>\n",
    "    <class 'bool'>\n",
    "    <class 'list'>\n",
    "    <class 'dict'>\n",
    "    <class 'tuple'>\n",
    "```\n",
    "\n",
    "</details>\n",
    "\n",
    "* 参考：[class type(object) - docs.python.org](https://docs.python.org/ja/3/library/functions.html#type)\n",
    "* 参考：[class isinstance() - docs.python.org](https://docs.python.org/ja/3/library/functions.html#isinstance)\n",
    "* 参考：[Pythonで型を取得・判定するtype関数, isinstance関数 -note.nkmk.me](https://note.nkmk.me/python-type-isinstance/)"
   ]
  },
  {
   "cell_type": "markdown",
   "metadata": {},
   "source": [
    "## 問題３:　引数の数で大きく挙動が変わるtype()関数を知る"
   ]
  },
  {
   "cell_type": "markdown",
   "metadata": {},
   "source": [
    "型を指定する関数として **type()**を紹介しました。\n",
    "\n",
    "例えば、\n",
    "```python\n",
    "  type(\"Hello World\")\n",
    "  >> <class \"str\">\n",
    "```\n",
    "と表示されます。このように、オブジェクトの型やクラスを調べるのに使います。  \n",
    "\n",
    "しかし、３つの引数を渡すとどうなるでしょう？  \n",
    "なんとクラスオブジェクトを生成します。\n",
    "\n",
    "実際に、以下のクラスを`type()`を使って作成してみましょう。\n",
    "\n",
    "```python\n",
    "class Hello(object):\n",
    "\n",
    "    name = \"world\"\n",
    "\n",
    "    def hello(self):\n",
    "        print(f\"Hello, {self.name}\")\n",
    "```\n",
    "\n",
    "以下のサイトに沿って作ってみましょう。\n",
    "\n",
    "* https://docs.python.org/ja/3/library/functions.html#type"
   ]
  },
  {
   "cell_type": "code",
   "execution_count": null,
   "metadata": {},
   "outputs": [],
   "source": [
    "#コードを記述"
   ]
  },
  {
   "cell_type": "markdown",
   "metadata": {},
   "source": [
    "## 問題6:  演算子の挙動を変えてみる"
   ]
  },
  {
   "cell_type": "markdown",
   "metadata": {},
   "source": [
    "Python以外の言語やシステムを使用すると、以下のような演算子を見かけることがあると思います。\n",
    "\n",
    "* 演算子：`<<`\n",
    "\n",
    "例えば、C言語であれば、**シフト演算子** \n",
    "```c\n",
    "  short int a = 0x000B;\n",
    "  a = a << 2\n",
    "  # 結果 0x000B -> 0x002C \n",
    "```\n",
    "\n",
    "UnixライクなOSでは、**リダイレクト** などが挙げられます。\n",
    "```bash\n",
    "例： echo \"Hello World\" >> ~/sample.txt\n",
    "```\n",
    "\n",
    "<br>\n",
    "\n",
    "Pythonでも演算子「<<」を以下のような挙動に変えてクラスに実装して見ましょう。\n",
    "* まず動作\n",
    "  ```python\n",
    "  # 実行例\n",
    "  Hello << \"world\" # シフト演算子で文字列を追加して出力してみる\n",
    "  \n",
    "  # 実行結果\n",
    "  Hello, world\n",
    "  ```\n",
    "* とりあえず \"Hello, {変数}\"を出力できる`Hello`クラスを実装してください。\n",
    "* このクラスに演算子`__lshift()__`を実装し、動作を変更してください。"
   ]
  },
  {
   "cell_type": "code",
   "execution_count": null,
   "metadata": {},
   "outputs": [],
   "source": [
    "#コードを記述"
   ]
  },
  {
   "cell_type": "markdown",
   "metadata": {},
   "source": [
    "## 問題8: 文字列と演算"
   ]
  },
  {
   "cell_type": "markdown",
   "metadata": {},
   "source": [
    "![3](img/3.png)\n",
    "\n",
    "以下の文字列を結合して出力してみましょう。\n",
    "```python\n",
    "  moziA = \"I have \"\n",
    "  moziB = \"a \"\n",
    "  moziC = \"pen.\"\n",
    "\n",
    "  出力 : \"I have a pen.\" \n",
    "```\n",
    "また、数値と文字列を連結して出力してみてください.\n",
    "```python\n",
    "  price = 1000\n",
    "  unit = \"yen\"\n",
    "\n",
    "  出力 : \"1000yen\" \n",
    "```"
   ]
  },
  {
   "cell_type": "code",
   "execution_count": null,
   "metadata": {},
   "outputs": [],
   "source": [
    "#　コードを記入して実行する\n"
   ]
  },
  {
   "cell_type": "markdown",
   "metadata": {},
   "source": [
    "## 問題9: 繰り返し文字"
   ]
  },
  {
   "cell_type": "markdown",
   "metadata": {},
   "source": [
    "for文を使わずに以下の文字列を作成してください。\n",
    "```python\n",
    "  print(\"\\\"みりん\\\"って10回言って！\")\n",
    "  ## ここの処理を記述\n",
    "  print( \"鼻が長いのは？\")\n",
    "  print(\"！！！\")\n",
    "\n",
    "出力：\n",
    "  \"みりん\"って10回言って！\n",
    "  みりんみりんみりんみりんみりんみりんみりんみりんみりんみりん\n",
    "  鼻が長いのは？\n",
    "```"
   ]
  },
  {
   "cell_type": "code",
   "execution_count": null,
   "metadata": {},
   "outputs": [],
   "source": [
    "# コードを記述"
   ]
  },
  {
   "cell_type": "markdown",
   "metadata": {},
   "source": [
    "## 問題10: 文字列の抜き出し"
   ]
  },
  {
   "cell_type": "markdown",
   "metadata": {},
   "source": [
    "文字列は、部分的に取り出したり、切り出しができます。この操作を文字列のスライスと言います。\n",
    "\n",
    "![4](img/4.png)\n",
    "\n",
    "![4-1](img/4-1.png)\n",
    "\n",
    "変数の文字列 **\"株式会社サンプル Hello World, Python !\"** を以下の出力になるように抜き出してみましょう。\n",
    "\n",
    "```python\n",
    "    出力例:\n",
    "    文字長さ： 30\n",
    "    株\n",
    "    式\n",
    "    会\n",
    "    !\n",
    "    株式会社サンプル Hello World, Python !\n",
    "    株式会社\n",
    "    サンプル Hello World, Python !\n",
    "    サンプル\n",
    "    株会サプ el ol,Pto\n",
    "```\n"
   ]
  },
  {
   "cell_type": "code",
   "execution_count": null,
   "metadata": {},
   "outputs": [],
   "source": [
    "#　文字列を取り出す\n",
    "# 変数に代入した文字列を自由自在に取り出す\n",
    "corp = \"株式会社サンプル Hello World, Python !\"\n",
    "\n",
    "# 文字の長さをlen()関数を使用する\n",
    "l = \n",
    "print(\"文字長さ：\", l)\n",
    "\n",
    "# 一文字目の株だけ抜き出す。\n",
    "\n",
    "# 3文字目を取り出す\n",
    "\n",
    "# 最後の文字を取り出す\n",
    "\n",
    "# 文字を全部抜き出す\n",
    "\n",
    "# 株式会社だけ抜き出す\n",
    "\n",
    "# サンプルだけ抜き出す\n",
    "\n",
    "# 途中４文字を抜き出す\n",
    "\n",
    "\n",
    "# 文字列[開始文字：終了位置：ステップ]\n",
    "# 奇数の文字だけ抜き出す（最初の文字から一つ飛ばしで文字を抜き出す。）\n"
   ]
  },
  {
   "cell_type": "markdown",
   "metadata": {},
   "source": [
    "## 問題11: f-strings"
   ]
  },
  {
   "cell_type": "markdown",
   "metadata": {},
   "source": [
    "f-stringは、フォーマット文字列などと呼ばれ、割と便利な文字列出力なので、覚えておくといいでしょう。\n",
    "\n",
    "![5-0](img/5-0.png)\n",
    "\n",
    "![5-1](img/5-1.png)\n",
    "\n",
    "f-stringを使って、以下の文字列を出力しましょう。\n",
    "\n",
    "```python\n",
    "変数\n",
    "  msg = \"私の年齢は{0}歳で、出身地は{1}です。趣味は{2}です。\".format(<コードを記述>)\n",
    "出力例\n",
    ">> 私の年齢は29歳で、出身地は東京都です。趣味は釣りです。\n",
    "\n",
    "変数\n",
    "    lineno = \"300\"\n",
    "    filename = \"sample.py\"\n",
    "出力例\n",
    ">> このコードはエラーです。ファイル:sample.py[行番号300]\n",
    "```"
   ]
  },
  {
   "cell_type": "code",
   "execution_count": null,
   "metadata": {},
   "outputs": [],
   "source": [
    "# format()の練習\n",
    "msg = \n",
    "\n",
    "# f-stringの練習\n",
    "lineno = \"300\"\n",
    "filename = \"sample.py\""
   ]
  },
  {
   "cell_type": "code",
   "execution_count": null,
   "metadata": {},
   "outputs": [],
   "source": [
    "# 回答を表示\n",
    "from answer import evaluation\n",
    "print(evaluation.Answer.show(\"5\"))"
   ]
  },
  {
   "cell_type": "markdown",
   "metadata": {},
   "source": [
    "## 問題12: f-stringをシュミレートする"
   ]
  },
  {
   "cell_type": "markdown",
   "metadata": {},
   "source": [
    "f-stringを自作してみましょう。\n",
    "\n",
    "ただ、`string`のオブジェクトのメソッドである、`Template`や`Jinja2`などテンプレートエンジンを使うだけではつまらないでしょう。ただし、完全なf-stringの自作ではなく、f-stringと似た関数を作成します。\n",
    "\n",
    "呼び出し元のローカル変数とグローバル変数へアクセスし、文字列を置き換えてみてください。  \n",
    "まずは、実行例です。\n",
    "\n",
    "### 実装例\n",
    "```python\n",
    "    w = 2000\n",
    "    h = 1000\n",
    "    print(f(\"width={w}, height={h}\"))\n",
    "\n",
    "    # 出力\n",
    "    width=2000, height=1000\n",
    "```\n",
    "\n",
    "それでは、以下の制限のもと、f-stringをシュミレートした`f(string)`を実装してみましょう。\n",
    "\n",
    "### ルール\n",
    "* 置き換える変数は、グローバル変数とローカル変数からアクセスしてください。\n",
    "* stringオブジェクトの`template`や`format`は使用せず、str()クラスのみを使用しましょう。\n",
    "* `def f(string: str)`を作成してみてください。"
   ]
  },
  {
   "cell_type": "code",
   "execution_count": null,
   "metadata": {},
   "outputs": [],
   "source": [
    "# コードを記述"
   ]
  },
  {
   "cell_type": "markdown",
   "metadata": {},
   "source": [
    "# **条件文 if文について**"
   ]
  },
  {
   "cell_type": "markdown",
   "metadata": {},
   "source": [
    "## 問題13: 条件文 if文の使い方"
   ]
  },
  {
   "cell_type": "markdown",
   "metadata": {},
   "source": [
    "`if文`はプログラミングの基礎中の基礎です。必ずマスターしてください。\n",
    "![6-0](img/6-0.png)\n",
    "\n",
    "> Point!  \n",
    "> for文の始まりは**インデント**が始まった地点、for文の終了は**インデント**が終了時点になります。  \n",
    "> Pythonは**インデント(字下げ)**は重要な構文の一つです。  \n",
    "\n",
    "<br>\n",
    "\n",
    "ランダムな数値を生成するモジュール`random`を使って、生成した数字が**50**以上であれば、**合格**と表示させましょう。\n",
    "\n",
    "```python\n",
    "#  出力結果例\n",
    "ランダムで発生させた数字は75です。\n",
    "合格！\n",
    "```"
   ]
  },
  {
   "cell_type": "code",
   "execution_count": null,
   "metadata": {},
   "outputs": [],
   "source": [
    "# コードを記述\n",
    "\n",
    "# if文の基礎\n",
    "# ランダムに数字を発生させるrandomを使用するために必要な一文\n",
    "import random\n",
    "\n",
    "\n",
    "# if文\n"
   ]
  },
  {
   "cell_type": "markdown",
   "metadata": {},
   "source": [
    "## 問題23: FizzBuzz問題に挑戦"
   ]
  },
  {
   "cell_type": "markdown",
   "metadata": {},
   "source": [
    "### FizzBuzzの説明\n",
    "\n",
    "FizzBuzz問題は、海外で行われる言葉遊びの一つです。\n",
    "\n",
    "> 引用：https://code.kx.com/q/learn/reading/fizzbuzz/\n",
    "\n",
    "FizzBuzzのルールは以下の通りです。サイトによって多少のずれがあるかもしれませんが大体こんな感じです。\n",
    "* ルール１：2人以上のプレイヤーが1から順番に数字を発言していく\n",
    "* ルール２：3で割り切れるときは「Fizz」を発言する\n",
    "* ルール３：5で割り切れるときは「Buzz」を発言する\n",
    "* ルール４：両方で割り切れるときは「FizzBuzz」を発言する。\n",
    "* ルール５：間違えた人から脱落\n",
    "\n",
    "このFizzBuzz問題は、これまで学習したfor文やif文などの制御文を使って実装できることから、プログラマの素養があるかどうか見極めるために使用される。\n",
    "\n",
    "よく企業の採用面接のコーディング試験等で出題されることが多いです。\n",
    "\n",
    "### 問題\n",
    "\n",
    "それでは、ルール2からルール4をプログラムで実装していきます。\n",
    "\n",
    "以下の条件でコードを書いてください。\n",
    "\n",
    "* 条件１： 1~100までカウントアップする。\n",
    "* 条件２： 3で割り切れるときは「Fizz」を出力する(出力のタイミングは問いません)\n",
    "* 条件３： 5で割り切れるときは「Buzz」を出力する(出力のタイミングは問いません)\n",
    "* 条件４： 両方で割り切れるときは「FizzBuzz」を出力する(出力のタイミングは問いません)\n",
    "\n",
    "### 出力\n",
    "```python\n",
    "1\n",
    "2\n",
    "Fizz\n",
    "4\n",
    "Buzz\n",
    "Fizz\n",
    "...(割愛)...\n",
    "97\n",
    "98\n",
    "Fizz\n",
    "Buzz\n",
    "```"
   ]
  },
  {
   "cell_type": "code",
   "execution_count": null,
   "metadata": {},
   "outputs": [],
   "source": [
    "# コードを記述"
   ]
  },
  {
   "cell_type": "markdown",
   "metadata": {},
   "source": [
    "## 問題24: ストロボグラム数問題に挑戦"
   ]
  },
  {
   "cell_type": "markdown",
   "metadata": {},
   "source": [
    "### ストロボグラマティック数とは\n",
    "\n",
    "ストロボグラマティック数（英: strobogrammatic number）とは、半回転させても見た目が変わらない数のことです。\n",
    "\n",
    "![15-1.png](img/15-1.png)\n",
    "\n",
    "例えば、0,1,8は水平線を軸とした線対称、6,9が互いに回転対称となる数字。\n",
    "\n",
    "他にも、0, 1, 8, 11, 69, 88, 96, 101, 111, 181, 609, 619, 689, 808, 818, 888, 906, 916, 986, 1001, 1111, 1691, 1881, 1961, 6009, 6119, 6699, 6889, 6969, 8008, 8118, 8698, 8888, 8968, 9006, 9116, 9696, 9886, 9966がある。\n",
    "\n",
    "[参考：ストロボグラマティック数(wiki)](https://ja.wikipedia.org/wiki/%E3%82%B9%E3%83%88%E3%83%AD%E3%83%9C%E3%82%B0%E3%83%A9%E3%83%9E%E3%83%86%E3%82%A3%E3%83%83%E3%82%AF%E6%95%B0)\n",
    "\n",
    "### 問題と出力例\n",
    "\n",
    "以下の内容を出力するプログラムを作成してみましょう。(アプローチは問いません。)\n",
    "\n",
    "今回は、1~3桁のストロボグラマティック数を算出するプログラムを構築しましょう。\n",
    "\n",
    "出力結果 \n",
    "```\n",
    "n = 2 : [\"11\", \"69\", \"88\", \"96\"].\n",
    "n = 3 : ['818', '111', '916', '619', '808', '101', '906', '609', '888', '181', '986', '689']\n",
    "```  \n",
    "※ n は桁数\n",
    "<br>"
   ]
  },
  {
   "cell_type": "code",
   "execution_count": null,
   "metadata": {},
   "outputs": [],
   "source": [
    "# コードを記述\n"
   ]
  }
 ],
 "metadata": {
  "hide_input": false,
  "kernelspec": {
   "display_name": "Python 3 (ipykernel)",
   "language": "python",
   "name": "python3"
  },
  "language_info": {
   "codemirror_mode": {
    "name": "ipython",
    "version": 3
   },
   "file_extension": ".py",
   "mimetype": "text/x-python",
   "name": "python",
   "nbconvert_exporter": "python",
   "pygments_lexer": "ipython3",
   "version": "3.9.13"
  },
  "toc": {
   "base_numbering": 1,
   "nav_menu": {},
   "number_sections": true,
   "sideBar": true,
   "skip_h1_title": false,
   "title_cell": "Table of Contents",
   "title_sidebar": "Contents",
   "toc_cell": false,
   "toc_position": {},
   "toc_section_display": true,
   "toc_window_display": true
  },
  "varInspector": {
   "cols": {
    "lenName": 16,
    "lenType": 16,
    "lenVar": 40
   },
   "kernels_config": {
    "python": {
     "delete_cmd_postfix": "",
     "delete_cmd_prefix": "del ",
     "library": "var_list.py",
     "varRefreshCmd": "print(var_dic_list())"
    },
    "r": {
     "delete_cmd_postfix": ") ",
     "delete_cmd_prefix": "rm(",
     "library": "var_list.r",
     "varRefreshCmd": "cat(var_dic_list()) "
    }
   },
   "types_to_exclude": [
    "module",
    "function",
    "builtin_function_or_method",
    "instance",
    "_Feature"
   ],
   "window_display": false
  },
  "vscode": {
   "interpreter": {
    "hash": "51b19ed7822dd3a543ea27927415ad2d11ab526b1164da36936b4d2fde2077bf"
   }
  }
 },
 "nbformat": 4,
 "nbformat_minor": 4
}
