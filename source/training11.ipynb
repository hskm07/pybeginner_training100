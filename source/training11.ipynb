{
 "cells": [
  {
   "cell_type": "markdown",
   "metadata": {},
   "source": [
    "## **問11 if文の基礎**"
   ]
  },
  {
   "cell_type": "markdown",
   "metadata": {},
   "source": [
    "ここからは条件文であるif文について学びましょう。以下のコードを実行してみましょう。\n",
    "<br>\n",
    "<br>\n",
    "ここで以下のプログラムを書いてみましょう。\n",
    "<br>\n",
    "**1から100の間でランダムに数字を発生させ、その数字を`print()`関数で表示させ、その値が50以上なら\"合格\"と表示させましょう。**\n",
    "<br>\n",
    "<br>\n",
    "スクリプト名：training11.py"
   ]
  },
  {
   "cell_type": "code",
   "execution_count": 1,
   "metadata": {},
   "outputs": [
    {
     "name": "stdout",
     "output_type": "stream",
     "text": [
      "ランダムで発生させた数字は88です。\n",
      "合格！\n"
     ]
    }
   ],
   "source": [
    "import random\n",
    "\n",
    "rd = random.randint(1,100)\n",
    "print(\"ランダムで発生させた数字は{0}です。\".format(rd))\n",
    "\n",
    "if rd >= 50:\n",
    "    #インデントの開始でif文開始（行の始めから半角空白4つあける）\n",
    "    print(\"合格！\")\n",
    "#インデントの終了：if文の終了    "
   ]
  },
  {
   "cell_type": "markdown",
   "metadata": {},
   "source": [
    "if文のポイントは、以下の２つです。\n",
    "> - インデントの開始でif文が開始　\n",
    "> - インデントの終了は、if文の終了\n",
    "> インデントとは、行の先頭から半角空白を４つ右へあけることです。"
   ]
  },
  {
   "cell_type": "markdown",
   "metadata": {},
   "source": [
    "if文の注意点\n",
    "> - if文の条件文の最後に必ず`:`をつけてください。\n",
    ">   <br>`if (条件式)　:`\n",
    "> - 処理部では必ずタブを挿入してください"
   ]
  },
  {
   "cell_type": "markdown",
   "metadata": {},
   "source": [
    "※ import文は、あまり気にしないでください。後ほどの問題で解説します。<br>\n",
    "※ 今回の例題では、ランダムに数字を発生する関数randomを使用するために必要な一文です。"
   ]
  },
  {
   "cell_type": "markdown",
   "metadata": {},
   "source": [
    "以下のコードはエラーとなります。"
   ]
  },
  {
   "cell_type": "code",
   "execution_count": 3,
   "metadata": {},
   "outputs": [
    {
     "ename": "IndentationError",
     "evalue": "expected an indented block (<ipython-input-3-210f69522d84>, line 6)",
     "output_type": "error",
     "traceback": [
      "\u001b[0;36m  File \u001b[0;32m\"<ipython-input-3-210f69522d84>\"\u001b[0;36m, line \u001b[0;32m6\u001b[0m\n\u001b[0;31m    print(\"合格！\")\u001b[0m\n\u001b[0m    ^\u001b[0m\n\u001b[0;31mIndentationError\u001b[0m\u001b[0;31m:\u001b[0m expected an indented block\n"
     ]
    }
   ],
   "source": [
    "# エラー : インデントが正しくない（IndentationError）\n",
    "import random\n",
    "\n",
    "rd = random.randint(1,100)\n",
    "if rd >= 50:\n",
    "print(\"合格！\")"
   ]
  },
  {
   "cell_type": "code",
   "execution_count": null,
   "metadata": {},
   "outputs": [],
   "source": []
  }
 ],
 "metadata": {
  "kernelspec": {
   "display_name": "Python 3",
   "language": "python",
   "name": "python3"
  },
  "language_info": {
   "codemirror_mode": {
    "name": "ipython",
    "version": 3
   },
   "file_extension": ".py",
   "mimetype": "text/x-python",
   "name": "python",
   "nbconvert_exporter": "python",
   "pygments_lexer": "ipython3",
   "version": "3.8.3"
  }
 },
 "nbformat": 4,
 "nbformat_minor": 4
}
