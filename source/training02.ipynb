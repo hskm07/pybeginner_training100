{
 "cells": [
  {
   "cell_type": "markdown",
   "metadata": {},
   "source": [
    "#　第１章　値と変数について"
   ]
  },
  {
   "cell_type": "markdown",
   "metadata": {},
   "source": [
    "## **問2-1 整数と浮動小数点**"
   ]
  },
  {
   "cell_type": "markdown",
   "metadata": {},
   "source": [
    "整数と小数点の使い方を学びましょう。以下のコードを実行してみましょう。\n",
    "<br>\n",
    "スクリプト名：training02.py"
   ]
  },
  {
   "cell_type": "code",
   "execution_count": 2,
   "metadata": {},
   "outputs": [
    {
     "name": "stdout",
     "output_type": "stream",
     "text": [
      "198\n"
     ]
    }
   ],
   "source": [
    "#　整数を使った計算\n",
    "a = -1\n",
    "b = 0\n",
    "c = 199\n",
    "\n",
    "# 結果の出力\n",
    "print(a+b+c)"
   ]
  },
  {
   "cell_type": "markdown",
   "metadata": {},
   "source": [
    "***Pythonの演算子について***"
   ]
  },
  {
   "cell_type": "markdown",
   "metadata": {},
   "source": [
    "|　　演算子　　|　　使用方法　　|　　説明　　|\n",
    "|:---:|:---:|:---|\n",
    "|　　+　　|　　X + Y　　|　　足し算　　|\n",
    "|　　-　　|　　X - Y　　|　　引き算　　|\n",
    "|　　* |　　X * Y　　|　　掛け算　　|\n",
    "|　　/　　|　　X / Y　　|　　割り算　　|\n",
    "|　　//　　|　　X // Y　　|　　XをYで割った商の値　（ 10 // 3 は３が出力） |\n",
    "|　　%　　|　　X % Y　　|　　XをYで割った時の余り（ 10 % 3 は３が出力） |\n",
    "|　　**　　|　　X ** n　　|　　Xのn乗 （Xをn回かける）　|\n"
   ]
  },
  {
   "cell_type": "markdown",
   "metadata": {},
   "source": [
    "小数点を使った計算1"
   ]
  },
  {
   "cell_type": "code",
   "execution_count": 8,
   "metadata": {},
   "outputs": [
    {
     "name": "stdout",
     "output_type": "stream",
     "text": [
      "0.99 0.72 0.3\n",
      "2.01\n"
     ]
    }
   ],
   "source": [
    "# 変数の定義\n",
    "x = 0.99\n",
    "y = 0.72\n",
    "z = 0.3\n",
    "\n",
    "# 結果の出力\n",
    "print(x,y,z)\n",
    "print(x+y+z) "
   ]
  },
  {
   "cell_type": "markdown",
   "metadata": {},
   "source": [
    "小数点を使った計算2"
   ]
  },
  {
   "cell_type": "code",
   "execution_count": 9,
   "metadata": {},
   "outputs": [
    {
     "name": "stdout",
     "output_type": "stream",
     "text": [
      "1.01\n",
      "0.36\n",
      "179.1\n",
      "2.2680000000000002\n",
      "1200.0\n"
     ]
    }
   ],
   "source": [
    "# 変数は「小数点を使った計算1」で定義したものを利用\n",
    "\n",
    "print( x * a + 2 )\n",
    "\n",
    "print( (y + b) / 2 )\n",
    "\n",
    "print( z * c * 3 )\n",
    "\n",
    "print( 1.08 * 2.1 )\n",
    "\n",
    "print( 120/0.1 )"
   ]
  },
  {
   "cell_type": "markdown",
   "metadata": {},
   "source": [
    "## **問2-2 整数と浮動小数点**"
   ]
  },
  {
   "cell_type": "markdown",
   "metadata": {},
   "source": [
    "続いてround()関数を使います。\n",
    "<br>\n",
    "round()関数は、小数点以下を丸めることができます。\n",
    "<br>\n",
    "**`round(数値、桁数)`**"
   ]
  },
  {
   "cell_type": "code",
   "execution_count": 10,
   "metadata": {},
   "outputs": [
    {
     "name": "stdout",
     "output_type": "stream",
     "text": [
      "4\n",
      "4\n",
      "6\n",
      "3\n"
     ]
    }
   ],
   "source": [
    "a = round(4.1)\n",
    "print(a)\n",
    "\n",
    "b = round(3.5)\n",
    "print(b)\n",
    "\n",
    "c = round(6.5)\n",
    "print(c)\n",
    "\n",
    "d = round(2.6)\n",
    "print(d)"
   ]
  }
 ],
 "metadata": {
  "kernelspec": {
   "display_name": "Python 3",
   "language": "python",
   "name": "python3"
  },
  "language_info": {
   "codemirror_mode": {
    "name": "ipython",
    "version": 3
   },
   "file_extension": ".py",
   "mimetype": "text/x-python",
   "name": "python",
   "nbconvert_exporter": "python",
   "pygments_lexer": "ipython3",
   "version": "3.6.12"
  }
 },
 "nbformat": 4,
 "nbformat_minor": 4
}
