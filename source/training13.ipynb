{
 "cells": [
  {
   "cell_type": "markdown",
   "metadata": {},
   "source": [
    "## **問13  if ~ elif ~ else 文の使い方を知る**"
   ]
  },
  {
   "cell_type": "markdown",
   "metadata": {},
   "source": [
    "続いて、if ~ elif ~ else文について学びましょう\n",
    "<br>\n",
    "<br>\n",
    "問題12から少し問題を変更してプログラムを書いてみましょう。\n",
    "<br>\n",
    "**0から100の間でランダムに数字を発生させ、その数字を`print()`関数で表示させ、<br>\n",
    "その値が80以上なら\"クラスA\"、60以上なら“クラスB”、30以上なら“クラスC”、それ以外は“クラスD”とします。**\n",
    "<br>\n",
    "それではプログラムを書いていきましょう。\n",
    "<br>\n",
    "<br>\n",
    "スクリプト名：training13.py"
   ]
  },
  {
   "cell_type": "code",
   "execution_count": 3,
   "metadata": {},
   "outputs": [
    {
     "name": "stdout",
     "output_type": "stream",
     "text": [
      "ランダムに生成した数字は24\n",
      "クラスD\n"
     ]
    }
   ],
   "source": [
    "#  ランダムに数字を発生させ、その数字が80以上ならクラスA, 60以上80未満ならクラスB, 30以上60未満ならクラスC,30未満ならクラスD\n",
    "import random\n",
    "\n",
    "point = random.randint(0,100)\n",
    "print(\"ランダムに生成した数字は{0}\".format(point))\n",
    "# 判定\n",
    "if point >= 80 :\n",
    "    result = \"クラスA\"\n",
    "elif point  >= 60:\n",
    "    result = \"クラスB\"\n",
    "elif point >=  30:\n",
    "    result = \"クラスC\"\n",
    "else :\n",
    "    result = \"クラスD\"\n",
    "\n",
    "print(result)"
   ]
  },
  {
   "cell_type": "markdown",
   "metadata": {},
   "source": [
    "<br>"
   ]
  },
  {
   "cell_type": "markdown",
   "metadata": {},
   "source": [
    "**if elif else文について**\n",
    "<br>\n",
    "if elif else文は、判定条件が３つ以上の時に使用されます。"
   ]
  }
 ],
 "metadata": {
  "kernelspec": {
   "display_name": "Python 3.10.6 ('.venv': poetry)",
   "language": "python",
   "name": "python3"
  },
  "language_info": {
   "codemirror_mode": {
    "name": "ipython",
    "version": 3
   },
   "file_extension": ".py",
   "mimetype": "text/x-python",
   "name": "python",
   "nbconvert_exporter": "python",
   "pygments_lexer": "ipython3",
   "version": "3.10.6"
  },
  "vscode": {
   "interpreter": {
    "hash": "ea49c0f30b74bf4e27ed0be1645cba211ae148560f977de74748e5f8caf48b9f"
   }
  }
 },
 "nbformat": 4,
 "nbformat_minor": 4
}
