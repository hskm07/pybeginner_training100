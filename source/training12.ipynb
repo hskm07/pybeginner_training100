{
 "cells": [
  {
   "cell_type": "markdown",
   "metadata": {},
   "source": [
    "## **問12  if else文の使い方を知る**"
   ]
  },
  {
   "cell_type": "markdown",
   "metadata": {},
   "source": [
    "続いて、if ~ else文について学びましょう\n",
    "<br>\n",
    "<br>\n",
    "問題11に少し条件を加えてプログラムを書いてみましょう。\n",
    "<br>\n",
    "**1から100の間でランダムに数字を発生させ、その数字を`print()`関数で表示させ、その値が50以上なら\"合格\"、それ以外は不合格と表示させましょう。**\n",
    "<br>\n",
    "それではプログラムを書いていきましょう。\n",
    "<br>\n",
    "<br>\n",
    "スクリプト名：training12.py"
   ]
  },
  {
   "cell_type": "code",
   "execution_count": 1,
   "metadata": {},
   "outputs": [
    {
     "name": "stdout",
     "output_type": "stream",
     "text": [
      "ランダムで発生させた数字は66です。\n",
      "合格！\n"
     ]
    }
   ],
   "source": [
    "# 1~100の間でランダムで数字を発生させ、乱数をprint()関数で表示させ、その値が50以上なら\"合格\"とし、50より小さいときは”不合格”とする\n",
    "import random\n",
    "\n",
    "rd = random.randint(1,100)\n",
    "print(\"ランダムで発生させた数字は{0}です。\".format(rd))\n",
    "\n",
    "if rd >= 50:\n",
    "    #インデントの開始でif文開始（行の始めから半角空白4つあける）\n",
    "    print(\"合格！\")\n",
    "else :\n",
    "    print(\"不合格\")"
   ]
  },
  {
   "cell_type": "markdown",
   "metadata": {},
   "source": [
    "<br>"
   ]
  },
  {
   "cell_type": "markdown",
   "metadata": {},
   "source": [
    "**if ~ else文について**\n",
    "<br>\n",
    "if ~ else文は主に条件を２つに分けたいときに使用されます。\n",
    "<br>\n",
    "else文には、条件に一致しない時の処理を出力します。\n",
    "    "
   ]
  }
 ],
 "metadata": {
  "kernelspec": {
   "display_name": "Python 3",
   "language": "python",
   "name": "python3"
  },
  "language_info": {
   "codemirror_mode": {
    "name": "ipython",
    "version": 3
   },
   "file_extension": ".py",
   "mimetype": "text/x-python",
   "name": "python",
   "nbconvert_exporter": "python",
   "pygments_lexer": "ipython3",
   "version": "3.8.3"
  }
 },
 "nbformat": 4,
 "nbformat_minor": 4
}
