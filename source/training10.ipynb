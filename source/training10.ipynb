{
 "cells": [
  {
   "cell_type": "markdown",
   "metadata": {},
   "source": [
    "## **問10 format()関数について**"
   ]
  },
  {
   "cell_type": "markdown",
   "metadata": {},
   "source": [
    "複数の変数定義と、`format()`関数について学びましょう。以下のコードを実行してみましょう。\n",
    "<br>\n",
    "`format()`関数も使用する組み込み関数の一つです。慣れておきましょう。\n",
    "<br>\n",
    "とりあえず、プログラムを実行してみましょう。\n",
    "<br>\n",
    "<br>\n",
    "スクリプト名：training10.py"
   ]
  },
  {
   "cell_type": "code",
   "execution_count": 3,
   "metadata": {},
   "outputs": [
    {
     "name": "stdout",
     "output_type": "stream",
     "text": [
      "x_data： 100 y_data :  1000\n"
     ]
    }
   ],
   "source": [
    "# 複数の変数を定義する方法\n",
    "x_data, y_data = 100, 1000\n",
    "print(\"x_data：\", x_data, \"y_data : \", y_data)"
   ]
  },
  {
   "cell_type": "markdown",
   "metadata": {},
   "source": [
    "上記の例では、`変数1, 変数２, ... = 値１, 値2, ...`と定義すると、\n",
    "<br>\n",
    "変数１には値１、変数２には値２、...という感じで値が代入されます。\n"
   ]
  },
  {
   "cell_type": "code",
   "execution_count": 4,
   "metadata": {},
   "outputs": [
    {
     "name": "stdout",
     "output_type": "stream",
     "text": [
      "x_string： python y_string :  vba z_number :  100\n"
     ]
    }
   ],
   "source": [
    "# 複数の変数を定義する方法\n",
    "x_string, y_string, z_number = \"python\", \"vba\", 10*10\n",
    "print(\"x_string：\", x_string, \"y_string : \", y_string, \"z_number : \", z_number)"
   ]
  },
  {
   "cell_type": "markdown",
   "metadata": {},
   "source": [
    "******"
   ]
  },
  {
   "cell_type": "markdown",
   "metadata": {},
   "source": [
    "## format()関数の使い方"
   ]
  },
  {
   "cell_type": "code",
   "execution_count": 5,
   "metadata": {},
   "outputs": [
    {
     "name": "stdout",
     "output_type": "stream",
     "text": [
      "私の年齢は29歳で、出身地は東京都です。趣味は釣りです。\n"
     ]
    }
   ],
   "source": [
    "# 練習１\n",
    "msg = \"私の年齢は{0}歳で、出身地は{1}です。趣味は{2}です。\".format(29,\"東京都\",\"釣り\")\n",
    "print(msg)"
   ]
  },
  {
   "cell_type": "markdown",
   "metadata": {},
   "source": [
    "***フォーマット関数　：　`文字列{}.format(引数...)`***\n",
    "<br>波カッコで囲まれた{}部分は、置換フィールドと呼ばれ、引数で{}の部分を置換します。\n",
    "<br>上記の例は、\"私の年齢は{0}歳で、出身地は{1}です。趣味は{2}です。\".format(29,\"東京都\",\"釣り\")\n",
    "<br>{0} --> 引数１： 29\n",
    "<br>{1} --> 引数２： \"東京都\"\n",
    "<br>{2} --> 引数３： \"釣り\"\n",
    "<br>という感じで値が置換されます。"
   ]
  },
  {
   "cell_type": "code",
   "execution_count": 11,
   "metadata": {},
   "outputs": [
    {
     "name": "stdout",
     "output_type": "stream",
     "text": [
      "私は株式会社サンプルに2020年に入社しました。職種は営業です。得意なことは走ることとPythonです。\n"
     ]
    }
   ],
   "source": [
    "# 練習２\n",
    "hello = \"私は株式会社サンプルに{0}年に入社しました。職種は{1}です。得意なことは{2}と{3}です。\".format(2020, \"営業\", \"走ること\", \"Python\")\n",
    "print(hello)"
   ]
  },
  {
   "cell_type": "markdown",
   "metadata": {},
   "source": [
    "******"
   ]
  },
  {
   "cell_type": "markdown",
   "metadata": {},
   "source": [
    "for文を使って、文字を一文字ずつ取り出す"
   ]
  },
  {
   "cell_type": "code",
   "execution_count": 10,
   "metadata": {},
   "outputs": [
    {
     "name": "stdout",
     "output_type": "stream",
     "text": [
      "\"for文\"で文字を一文字ずつ取り出します\n",
      "0番目の文字は、私です。\n",
      "1番目の文字は、のです。\n",
      "2番目の文字は、年です。\n",
      "3番目の文字は、齢です。\n",
      "4番目の文字は、はです。\n",
      "5番目の文字は、2です。\n",
      "6番目の文字は、9です。\n",
      "7番目の文字は、歳です。\n",
      "8番目の文字は、でです。\n",
      "9番目の文字は、、です。\n",
      "10番目の文字は、出です。\n",
      "11番目の文字は、身です。\n",
      "12番目の文字は、地です。\n",
      "13番目の文字は、はです。\n",
      "14番目の文字は、東です。\n",
      "15番目の文字は、京です。\n",
      "16番目の文字は、都です。\n",
      "17番目の文字は、でです。\n",
      "18番目の文字は、すです。\n",
      "19番目の文字は、。です。\n",
      "20番目の文字は、趣です。\n",
      "21番目の文字は、味です。\n",
      "22番目の文字は、はです。\n",
      "23番目の文字は、釣です。\n",
      "24番目の文字は、りです。\n",
      "25番目の文字は、でです。\n",
      "26番目の文字は、すです。\n",
      "27番目の文字は、。です。\n"
     ]
    }
   ],
   "source": [
    "print(\"\\\"for文\\\"で文字を一文字ずつ取り出します\")\n",
    "\n",
    "# len()関数で変数msgの長さを取得\n",
    "ln = len(msg)\n",
    "for i in range(ln):\n",
    "    print(\"{0}番目の文字は、{1}です。\".format(i, msg[i]))"
   ]
  },
  {
   "cell_type": "code",
   "execution_count": null,
   "metadata": {},
   "outputs": [],
   "source": []
  }
 ],
 "metadata": {
  "kernelspec": {
   "display_name": "Python 3",
   "language": "python",
   "name": "python3"
  },
  "language_info": {
   "codemirror_mode": {
    "name": "ipython",
    "version": 3
   },
   "file_extension": ".py",
   "mimetype": "text/x-python",
   "name": "python",
   "nbconvert_exporter": "python",
   "pygments_lexer": "ipython3",
   "version": "3.8.3"
  }
 },
 "nbformat": 4,
 "nbformat_minor": 4
}
