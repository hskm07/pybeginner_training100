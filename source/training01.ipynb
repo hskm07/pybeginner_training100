{
 "cells": [
  {
   "cell_type": "markdown",
   "metadata": {},
   "source": [
    "#　第１章　値と変数について"
   ]
  },
  {
   "cell_type": "markdown",
   "metadata": {},
   "source": [
    "## **問1-1　変数の使い方**"
   ]
  },
  {
   "cell_type": "markdown",
   "metadata": {},
   "source": [
    "まずは変数の使い方を学びましょう。以下のコードを実行してみましょう。\n",
    "<br>\n",
    "スクリプト名：training01.py"
   ]
  },
  {
   "cell_type": "code",
   "execution_count": 3,
   "metadata": {},
   "outputs": [
    {
     "name": "stdout",
     "output_type": "stream",
     "text": [
      "20\n",
      "100\n"
     ]
    }
   ],
   "source": [
    "# 変数 width, hightを設定\n",
    "width = 20\n",
    "hight = 100\n",
    "\n",
    "# 変数の値を確認\n",
    "print(width)\n",
    "print(hight)"
   ]
  },
  {
   "cell_type": "markdown",
   "metadata": {},
   "source": [
    "![変数について](src/img1.png)"
   ]
  },
  {
   "cell_type": "markdown",
   "metadata": {},
   "source": [
    "変数widthと変数hightを使って、面積の計算をしてみましょう。"
   ]
  },
  {
   "cell_type": "code",
   "execution_count": 4,
   "metadata": {},
   "outputs": [
    {
     "name": "stdout",
     "output_type": "stream",
     "text": [
      "1000.0\n"
     ]
    }
   ],
   "source": [
    "# 変数areaに計算結果を代入\n",
    "area = width * hight / 2\n",
    "\n",
    "# 結果の出力\n",
    "print(area)"
   ]
  },
  {
   "cell_type": "markdown",
   "metadata": {},
   "source": [
    "***"
   ]
  },
  {
   "cell_type": "markdown",
   "metadata": {},
   "source": [
    "## **問1-2 変数の使い方**"
   ]
  },
  {
   "cell_type": "code",
   "execution_count": 5,
   "metadata": {},
   "outputs": [
    {
     "name": "stdout",
     "output_type": "stream",
     "text": [
      "420\n"
     ]
    }
   ],
   "source": [
    "#　変数の定義\n",
    "apple = 100\n",
    "orange = 60\n",
    "total = apple * 3 + orange * 2\n",
    "\n",
    "# 結果の出力\n",
    "print(total)"
   ]
  },
  {
   "cell_type": "markdown",
   "metadata": {},
   "source": [
    "print()関数は、色々な形式で出力することができる。\n",
    "<br>\n",
    "***`print(値１,値２,...,seq=\"区切り文字\", end=\"行末文字\")`***"
   ]
  },
  {
   "cell_type": "code",
   "execution_count": 9,
   "metadata": {},
   "outputs": [
    {
     "name": "stdout",
     "output_type": "stream",
     "text": [
      "20,100　　/　　面積:1000.0\n"
     ]
    }
   ],
   "source": [
    "# 先ほど定義した変数 hight新たに値を格納\n",
    "hight = 100\n",
    "area = width * hight / 2\n",
    "\n",
    "# 出力結果のフォーマットを指定する\n",
    "print(width, hight, sep=\",\", end=\"　　/　　面積:\")\n",
    "print(area)"
   ]
  },
  {
   "cell_type": "markdown",
   "metadata": {},
   "source": [
    "***"
   ]
  },
  {
   "cell_type": "markdown",
   "metadata": {},
   "source": [
    "### **問1-3 変数の使い方**"
   ]
  },
  {
   "cell_type": "code",
   "execution_count": 13,
   "metadata": {},
   "outputs": [
    {
     "name": "stdout",
     "output_type": "stream",
     "text": [
      "100.12000　　　--合計値--　　24300\n"
     ]
    }
   ],
   "source": [
    "# 変数の定義\n",
    "orange = 12000\n",
    "total = apple*3 + orange*2\n",
    "\n",
    "# 結果の出力\n",
    "print(apple, orange, sep=\".\", end=\"　　　--合計値--　　\") \n",
    "print(total)"
   ]
  }
 ],
 "metadata": {
  "kernelspec": {
   "display_name": "Python 3",
   "language": "python",
   "name": "python3"
  },
  "language_info": {
   "codemirror_mode": {
    "name": "ipython",
    "version": 3
   },
   "file_extension": ".py",
   "mimetype": "text/x-python",
   "name": "python",
   "nbconvert_exporter": "python",
   "pygments_lexer": "ipython3",
   "version": "3.6.12"
  }
 },
 "nbformat": 4,
 "nbformat_minor": 4
}
