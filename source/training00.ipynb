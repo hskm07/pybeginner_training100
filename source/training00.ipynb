{
 "cells": [
  {
   "cell_type": "markdown",
   "metadata": {},
   "source": [
    "# Chapter0: イントロダクション"
   ]
  },
  {
   "cell_type": "markdown",
   "metadata": {},
   "source": [
    "## はじめに\n",
    "\n",
    "皆さん、**Python Boot Camp** を受講いただきありがとうございます。\n",
    "\n",
    "このコンテンツは、\n",
    "* Pythonを初めて学ぶ人\n",
    "* これから仕事でPythonを使って開発・業務効率化をしたい人\n",
    "* 趣味でプログラミングを楽しみたい人 \n",
    "\n",
    "を対象に作成したPython学習コンテンツです。\n",
    "\n",
    "Pythonの基本的な使い方から、開発現場で必要となる知識や問題をたくさん用意しました。\n",
    "\n",
    "このコンテンツを使った学習の進め方は、みなさんの自由です。好きなところから始めて問題ありません。もちろん、回答をみながら学習を進めていただいても構いません。\n",
    "\n",
    "分からないことがあれば、気軽にお声がけください。\n",
    "\n",
    "それでは、始めましょう！"
   ]
  },
  {
   "cell_type": "markdown",
   "metadata": {},
   "source": [
    "## 研修コンテンツの取り扱いについて\n",
    "\n",
    "本研修コンテンツの最低限のルールです。\n",
    "\n",
    "```\n",
    "本研修コンテンツに掲載されている内容・ソースコードの無断転載・無断譲渡・無断転用は禁止します。\n",
    "上記行為が発覚した場合、この研修の開催は今後一切致しません。\n",
    "あらかじめご了承ください。\n",
    "```\n",
    "\n",
    "> お家で勉強する分には、何ら問題ありません。"
   ]
  },
  {
   "cell_type": "markdown",
   "metadata": {},
   "source": [
    "## 研修の進め方\n",
    "\n",
    "![introduction1.png](img/introduction1.png)\n",
    "\n",
    "そして、**上記の問題どこから進めていただいても構いません。** Python経験がなく、操作の仕方が分からない場合、私が前で説明しながら進めていきます。\n",
    "\n",
    "また、問題は別途お配りしている**研修問題一覧** シートを確認して、好きな問題を選択してください。\n",
    "\n",
    "<br>\n",
    "\n",
    "ただし、**研修のクリア条件があります。**\n",
    "\n",
    "* 一人50問以上実施すること\n",
    "* 最後のアンケートの記入すること\n",
    "\n",
    "この2点です。この2点を目指して頑張ってください。\n",
    "\n",
    "また、質問はいつでも受け付けますので、遠慮なくお声がけください。\n",
    "\n",
    "<br>\n",
    "\n",
    "本研修は、Jupyterを使用して研修を進めていきます。**JupyterLab** とは、`JupyterNotebook`の後継として開発された、Webベースのユーザーインターフェースで、`Python`, `R`, `Julia`を実行できる開発環境として知られています。\n",
    "\n",
    "![jupyter2.png](img/jupyter2.png)\n",
    "\n",
    "> [JupyterLab - Document](https://jupyterlab.readthedocs.io/en/stable/)\n",
    "\n",
    "以下の資料が本研修で使用するコンテンツです。\n",
    "\n",
    "* training00.ipynb\n",
    "* training01.ipynb\n",
    "* training02.ipynb\n",
    "* training03.ipynb\n",
    "* training04.ipynb\n",
    "* training05.ipynb\n",
    "* training06.ipynb\n"
   ]
  },
  {
   "cell_type": "markdown",
   "metadata": {},
   "source": [
    "## 本テキストの使い方\n",
    "\n",
    "このテキストは以下の3つの構成になっています。\n",
    "\n",
    "1. 問題タイトル\n",
    "2. 問題・解説ブロック\n",
    "3. コードブロック\n",
    "4. 解説ブロック\n",
    "\n",
    "基本的に問題・解説ブロックを読んで、コードブロックにコードを記述、そして、解説を読む。という流れになります。\n",
    "\n",
    "以下例題で解説します。"
   ]
  },
  {
   "cell_type": "markdown",
   "metadata": {},
   "source": [
    "## 例題01 Pythonインタプリタの復習"
   ]
  },
  {
   "cell_type": "markdown",
   "metadata": {},
   "source": [
    "Pythonのインタプリタを起動して、以下のコードの出力になるようにコードを実行してみましょう。\n",
    "<br>\n",
    "```python\n",
    ">>> (コードを入力)\n",
    "Hello World!\n",
    ">>> (コードを入力)\n",
    "こんにちは、<自分の名前>\n",
    "```"
   ]
  },
  {
   "cell_type": "code",
   "execution_count": 1,
   "metadata": {},
   "outputs": [
    {
     "name": "stdout",
     "output_type": "stream",
     "text": [
      "ここはPythonコードを実行できます\n"
     ]
    }
   ],
   "source": [
    "#　回答を表示\n",
    "print(\"ここはPythonコードを実行できます\")"
   ]
  },
  {
   "cell_type": "markdown",
   "metadata": {},
   "source": [
    "## Jupyterの使い方"
   ]
  },
  {
   "cell_type": "markdown",
   "metadata": {},
   "source": [
    "### 例題01 の回答・実行例\n",
    "\n",
    "<details>\n",
    "<summary> > 回答と実行例を表示する</summary>\n",
    "\n",
    "1. 野菜**A**の皮を剥く。\n",
    "2. 乱切りにする。\n",
    "3. 調味料**B**と合わせて炒める。\n",
    "    - `火傷`に注意。\n",
    "</details>"
   ]
  },
  {
   "cell_type": "markdown",
   "metadata": {},
   "source": [
    "## 本研修にコントリビュータとして参加する\n",
    "\n",
    "本研修を受講されたかた、是非この問題集をよりよいテキスト・教材にしていきませんか。\n",
    "\n",
    "皆さんの中には、既にPythonに詳しい人もいるかと思います。また、現在は勉強中という方もいるかと思います。\n",
    "\n",
    "しかし、このテキストをやっていると分かると思うのですが、まだまだ問題のバリエーションが足りません。\n",
    "\n",
    "業務でPythonを使うには、もっとたくさんの知識量が必要になってきます。\n",
    "\n",
    "そこで、是非皆さんのご経験や勉強したことを、この問題集に実装していきませんか。\n",
    "\n",
    "条件は、\n",
    "* Pythonを使って業務をしたことのある方、\n",
    "* Python以外の言語を使って仕事をしたことがあり、現在Pythonを勉強中の人\n",
    "* Pythonが大好きな人\n",
    "\n",
    "ご興味があれば、是非園川までご連絡頂くか、以下のFormsより意思表示お願いします。"
   ]
  }
 ],
 "metadata": {
  "hide_input": false,
  "kernelspec": {
   "display_name": "Python 3 (ipykernel)",
   "language": "python",
   "name": "python3"
  },
  "language_info": {
   "codemirror_mode": {
    "name": "ipython",
    "version": 3
   },
   "file_extension": ".py",
   "mimetype": "text/x-python",
   "name": "python",
   "nbconvert_exporter": "python",
   "pygments_lexer": "ipython3",
   "version": "3.9.13"
  },
  "toc": {
   "base_numbering": 1,
   "nav_menu": {},
   "number_sections": true,
   "sideBar": true,
   "skip_h1_title": false,
   "title_cell": "Table of Contents",
   "title_sidebar": "Contents",
   "toc_cell": false,
   "toc_position": {
    "height": "calc(100% - 180px)",
    "left": "10px",
    "top": "150px",
    "width": "335.188px"
   },
   "toc_section_display": true,
   "toc_window_display": true
  },
  "varInspector": {
   "cols": {
    "lenName": 16,
    "lenType": 16,
    "lenVar": 40
   },
   "kernels_config": {
    "python": {
     "delete_cmd_postfix": "",
     "delete_cmd_prefix": "del ",
     "library": "var_list.py",
     "varRefreshCmd": "print(var_dic_list())"
    },
    "r": {
     "delete_cmd_postfix": ") ",
     "delete_cmd_prefix": "rm(",
     "library": "var_list.r",
     "varRefreshCmd": "cat(var_dic_list()) "
    }
   },
   "types_to_exclude": [
    "module",
    "function",
    "builtin_function_or_method",
    "instance",
    "_Feature"
   ],
   "window_display": false
  },
  "vscode": {
   "interpreter": {
    "hash": "0eb13e06639adadfc3e43be447705b429278b89ea552c102ccee7a972aa1e78a"
   }
  }
 },
 "nbformat": 4,
 "nbformat_minor": 4
}
