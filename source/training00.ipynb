{
 "cells": [
  {
   "cell_type": "markdown",
   "metadata": {},
   "source": [
    "# Chapter0: イントロダクション"
   ]
  },
  {
   "cell_type": "markdown",
   "metadata": {},
   "source": [
    "## はじめに\n",
    "\n",
    "皆さん、**\"Python Boot Camp\"** を受講いただきありがとうございます。\n",
    "\n",
    "このコンテンツは、\n",
    "* Pythonを初めて学ぶ人\n",
    "* これから仕事でPythonを使って開発・業務効率化をしたい人\n",
    "* 趣味でプログラミングを楽しみたい人 \n",
    "\n",
    "を対象に作成したPython学習コンテンツです。\n",
    "\n",
    "Pythonの基本的な使い方から、開発現場で必要となる知識や問題をたくさん用意しました。\n",
    "\n",
    "このコンテンツを使った学習の進め方は、みなさんの自由です。好きなところから始めて問題ありません。もちろん、回答をみながら学習を進めていただいても構いません。\n",
    "\n",
    "分からないことがあれば、気軽にお声がけください。\n",
    "\n",
    "それでは、始めましょう！"
   ]
  },
  {
   "cell_type": "markdown",
   "metadata": {},
   "source": [
    "## 研修コンテンツの取り扱いについて\n",
    "\n",
    "本研修コンテンツの最低限のルールです。\n",
    "\n",
    "```\n",
    "本研修コンテンツに掲載されている内容・ソースコードの無断転載・無断譲渡・無断転用は禁止します。\n",
    "上記行為が発覚した場合、この研修の開催は今後一切致しません。\n",
    "あらかじめご了承ください。\n",
    "```\n",
    "\n",
    "> お家で勉強する分には、何ら問題ありません。"
   ]
  },
  {
   "cell_type": "markdown",
   "metadata": {},
   "source": [
    "## 研修の進め方"
   ]
  },
  {
   "cell_type": "markdown",
   "metadata": {},
   "source": [
    "## 問題01 Pythonインタプリタの復習"
   ]
  },
  {
   "cell_type": "markdown",
   "metadata": {},
   "source": [
    "Pythonのインタプリタを起動して、以下のコードの出力になるようにコードを実行してみましょう。\n",
    "<br>\n",
    "```python\n",
    ">>> (コードを入力)\n",
    "Hello World!\n",
    ">>> (コードを入力)\n",
    "こんにちは、<自分の名前>\n",
    "```"
   ]
  },
  {
   "cell_type": "code",
   "execution_count": 3,
   "metadata": {},
   "outputs": [
    {
     "name": "stdout",
     "output_type": "stream",
     "text": [
      "print(\"Hello World\")\n",
      "print(\"こんにちは、<自分の名前>\")\n",
      "\n",
      "'''\n",
      "# 以下の回答でも可\n",
      "name = \"<自分の名前>\"\n",
      "print(f\"こんにちは、{name}\")\n",
      "print(\"こんにちは、{}\".format(name))\n",
      "'''\n",
      "\n"
     ]
    }
   ],
   "source": [
    "#　回答を表示\n",
    "from answer import evaluation\n",
    "print(evaluation.Answer.show(\"01\"))"
   ]
  },
  {
   "cell_type": "markdown",
   "metadata": {},
   "source": [
    "## Jupyter Notebookの使い方"
   ]
  },
  {
   "cell_type": "markdown",
   "metadata": {},
   "source": [
    "<details>\n",
    "<summary>これは中身が整形される</summary>\n",
    "\n",
    "1. 野菜**A**の皮を剥く。\n",
    "2. 乱切りにする。\n",
    "3. 調味料**B**と合わせて炒める。\n",
    "    - `火傷`に注意。\n",
    "</details>"
   ]
  },
  {
   "cell_type": "markdown",
   "metadata": {},
   "source": [
    "## 問題の進め方と答え合わせについて"
   ]
  },
  {
   "cell_type": "markdown",
   "metadata": {},
   "source": [
    "## パッケージとrequirements.txtについて"
   ]
  },
  {
   "cell_type": "markdown",
   "metadata": {},
   "source": [
    "## 本研修にコントリビュータとして参加する"
   ]
  }
 ],
 "metadata": {
  "hide_input": false,
  "kernelspec": {
   "display_name": "Python 3.9.13 ('.venv': poetry)",
   "language": "python",
   "name": "python3"
  },
  "language_info": {
   "codemirror_mode": {
    "name": "ipython",
    "version": 3
   },
   "file_extension": ".py",
   "mimetype": "text/x-python",
   "name": "python",
   "nbconvert_exporter": "python",
   "pygments_lexer": "ipython3",
   "version": "3.9.13"
  },
  "toc": {
   "base_numbering": 1,
   "nav_menu": {},
   "number_sections": true,
   "sideBar": true,
   "skip_h1_title": false,
   "title_cell": "Table of Contents",
   "title_sidebar": "Contents",
   "toc_cell": false,
   "toc_position": {
    "height": "calc(100% - 180px)",
    "left": "10px",
    "top": "150px",
    "width": "335.188px"
   },
   "toc_section_display": true,
   "toc_window_display": true
  },
  "varInspector": {
   "cols": {
    "lenName": 16,
    "lenType": 16,
    "lenVar": 40
   },
   "kernels_config": {
    "python": {
     "delete_cmd_postfix": "",
     "delete_cmd_prefix": "del ",
     "library": "var_list.py",
     "varRefreshCmd": "print(var_dic_list())"
    },
    "r": {
     "delete_cmd_postfix": ") ",
     "delete_cmd_prefix": "rm(",
     "library": "var_list.r",
     "varRefreshCmd": "cat(var_dic_list()) "
    }
   },
   "types_to_exclude": [
    "module",
    "function",
    "builtin_function_or_method",
    "instance",
    "_Feature"
   ],
   "window_display": false
  },
  "vscode": {
   "interpreter": {
    "hash": "0eb13e06639adadfc3e43be447705b429278b89ea552c102ccee7a972aa1e78a"
   }
  }
 },
 "nbformat": 4,
 "nbformat_minor": 4
}
