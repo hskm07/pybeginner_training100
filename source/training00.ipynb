{
 "cells": [
  {
   "cell_type": "markdown",
   "metadata": {},
   "source": [
    "# 朝練：イントロダクション"
   ]
  },
  {
   "cell_type": "markdown",
   "metadata": {},
   "source": [
    "## 問題01 **Pythonインタプリタの復習**"
   ]
  },
  {
   "cell_type": "markdown",
   "metadata": {},
   "source": [
    "Pythonのインタプリタを起動して、以下のコードの出力になるようにコードを実行してみましょう。\n",
    "<br>\n",
    "```python\n",
    ">>> (コードを入力)\n",
    "Hello World!\n",
    ">>> (コードを入力)\n",
    "こんにちは、<自分の名前>\n",
    "```"
   ]
  },
  {
   "cell_type": "code",
   "execution_count": 3,
   "metadata": {},
   "outputs": [
    {
     "name": "stdout",
     "output_type": "stream",
     "text": [
      "print(\"Hello World\")\n",
      "print(\"こんにちは、<自分の名前>\")\n",
      "\n",
      "'''\n",
      "# 以下の回答でも可\n",
      "name = \"<自分の名前>\"\n",
      "print(f\"こんにちは、{name}\")\n",
      "print(\"こんにちは、{}\".format(name))\n",
      "'''\n",
      "\n"
     ]
    }
   ],
   "source": [
    "#　回答を表示\n",
    "from answer import evaluation\n",
    "print(evaluation.Answer.show(\"01\"))"
   ]
  },
  {
   "cell_type": "markdown",
   "metadata": {},
   "source": [
    "## **Jupyter Notebookの使い方**"
   ]
  },
  {
   "cell_type": "markdown",
   "metadata": {},
   "source": [
    "<details>\n",
    "<summary>これは中身が整形される</summary>\n",
    "\n",
    "1. 野菜**A**の皮を剥く。\n",
    "2. 乱切りにする。\n",
    "3. 調味料**B**と合わせて炒める。\n",
    "    - `火傷`に注意。\n",
    "</details>"
   ]
  },
  {
   "cell_type": "markdown",
   "metadata": {},
   "source": [
    "## **問題の進め方と答え合わせについて**"
   ]
  },
  {
   "cell_type": "markdown",
   "metadata": {},
   "source": [
    "## **パッケージとrequirements.txtについて**"
   ]
  },
  {
   "cell_type": "markdown",
   "metadata": {},
   "source": [
    "## **仮想環境の切り分け方**"
   ]
  }
 ],
 "metadata": {
  "hide_input": false,
  "kernelspec": {
   "display_name": "Python 3 (ipykernel)",
   "language": "python",
   "name": "python3"
  },
  "language_info": {
   "codemirror_mode": {
    "name": "ipython",
    "version": 3
   },
   "file_extension": ".py",
   "mimetype": "text/x-python",
   "name": "python",
   "nbconvert_exporter": "python",
   "pygments_lexer": "ipython3",
   "version": "3.10.6"
  },
  "toc": {
   "base_numbering": 1,
   "nav_menu": {},
   "number_sections": true,
   "sideBar": true,
   "skip_h1_title": false,
   "title_cell": "Table of Contents",
   "title_sidebar": "Contents",
   "toc_cell": false,
   "toc_position": {
    "height": "calc(100% - 180px)",
    "left": "10px",
    "top": "150px",
    "width": "335.188px"
   },
   "toc_section_display": true,
   "toc_window_display": true
  },
  "varInspector": {
   "cols": {
    "lenName": 16,
    "lenType": 16,
    "lenVar": 40
   },
   "kernels_config": {
    "python": {
     "delete_cmd_postfix": "",
     "delete_cmd_prefix": "del ",
     "library": "var_list.py",
     "varRefreshCmd": "print(var_dic_list())"
    },
    "r": {
     "delete_cmd_postfix": ") ",
     "delete_cmd_prefix": "rm(",
     "library": "var_list.r",
     "varRefreshCmd": "cat(var_dic_list()) "
    }
   },
   "types_to_exclude": [
    "module",
    "function",
    "builtin_function_or_method",
    "instance",
    "_Feature"
   ],
   "window_display": false
  },
  "vscode": {
   "interpreter": {
    "hash": "ea49c0f30b74bf4e27ed0be1645cba211ae148560f977de74748e5f8caf48b9f"
   }
  }
 },
 "nbformat": 4,
 "nbformat_minor": 4
}
