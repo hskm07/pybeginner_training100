{
 "cells": [
  {
   "cell_type": "markdown",
   "metadata": {},
   "source": [
    "## **問9 データ型を調べる**"
   ]
  },
  {
   "cell_type": "markdown",
   "metadata": {},
   "source": [
    "データの型について学びましょう。以下のコードを実行してみましょう。\n",
    "<br>\n",
    "pythonで扱う主なデータ型を以下の表にまとめました。\n",
    "<br>\n",
    "データ型もプログラムを書く上で大切な項目です。プログラムを実行して理解をしてください。"
   ]
  },
  {
   "cell_type": "markdown",
   "metadata": {},
   "source": [
    "|　　主なデータ型　　|　　説明　|\n",
    "|:---:|:---|\n",
    "| int | 整数のことです。1とか２とか３とか。 |\n",
    "| float | 小数点のことです。1.2とか、3.19とか、32.7とか。 |\n",
    "| string | 文字データのことです。Appleとか茨城県とか、””や’’で囲まれたデータは、全てstring型(文字)と考えてOK |\n",
    "| list | リスト型と呼ばれるもの。リストは配列という複数のデータを保存できる箱みたいなもの。第４章で勉強します。 |\n",
    "| dict  | 辞書型。配列の一種です。キーと値のペアでデータを保持できる。後ほどの章で解説 |\n",
    "| tuple | タプル型。これも配列の一種。リストと似たデータ型です。後ほどの章で解説 |"
   ]
  },
  {
   "cell_type": "markdown",
   "metadata": {},
   "source": [
    "**データ型を調べるためには、`type()`関数を使用することで確認できます。**\n",
    "<br>\n",
    "例　：　'sample'のデータ型を調べる `type('string')`"
   ]
  },
  {
   "cell_type": "markdown",
   "metadata": {},
   "source": [
    "<br>\n",
    "スクリプト名：training09.py"
   ]
  },
  {
   "cell_type": "markdown",
   "metadata": {},
   "source": [
    "### 整数型：int"
   ]
  },
  {
   "cell_type": "code",
   "execution_count": 1,
   "metadata": {},
   "outputs": [
    {
     "name": "stdout",
     "output_type": "stream",
     "text": [
      "<class 'int'>\n",
      "<class 'float'>\n",
      "<class 'str'>\n",
      "<class 'bool'>\n",
      "<class 'list'>\n",
      "<class 'dict'>\n",
      "<class 'tuple'>\n",
      "<class 'int'>\n",
      "<class 'str'>\n"
     ]
    }
   ],
   "source": [
    "# データ型を調べる\n",
    "# type()関数を使用するとデータ型を調べることができる\n",
    "\n",
    "# 整数型：int\n",
    "ia = 100\n",
    "print(type(ia))\n",
    "\n"
   ]
  },
  {
   "cell_type": "markdown",
   "metadata": {},
   "source": [
    "### 整数型：float"
   ]
  },
  {
   "cell_type": "code",
   "execution_count": 3,
   "metadata": {},
   "outputs": [
    {
     "name": "stdout",
     "output_type": "stream",
     "text": [
      "<class 'float'>\n"
     ]
    }
   ],
   "source": [
    "# 小数点：float\n",
    "fb = 10.11\n",
    "print(type(fb))"
   ]
  },
  {
   "cell_type": "markdown",
   "metadata": {},
   "source": [
    "### 文字列：string"
   ]
  },
  {
   "cell_type": "code",
   "execution_count": 5,
   "metadata": {},
   "outputs": [
    {
     "name": "stdout",
     "output_type": "stream",
     "text": [
      "<class 'str'>\n"
     ]
    }
   ],
   "source": [
    "# 文字列：string\n",
    "st = \"文字列です\"\n",
    "print(type(st))"
   ]
  },
  {
   "cell_type": "markdown",
   "metadata": {},
   "source": [
    "### ブール型：bool"
   ]
  },
  {
   "cell_type": "code",
   "execution_count": 6,
   "metadata": {},
   "outputs": [
    {
     "name": "stdout",
     "output_type": "stream",
     "text": [
      "<class 'bool'>\n"
     ]
    }
   ],
   "source": [
    "# ブール型：bool\n",
    "bl = True\n",
    "print(type(bl))"
   ]
  },
  {
   "cell_type": "markdown",
   "metadata": {},
   "source": [
    "### リスト型：list"
   ]
  },
  {
   "cell_type": "code",
   "execution_count": 7,
   "metadata": {},
   "outputs": [
    {
     "name": "stdout",
     "output_type": "stream",
     "text": [
      "<class 'list'>\n"
     ]
    }
   ],
   "source": [
    "# リスト型\n",
    "lt = [1,2,3,4,5]\n",
    "print(type(lt))"
   ]
  },
  {
   "cell_type": "markdown",
   "metadata": {},
   "source": [
    "### 辞書型：dict"
   ]
  },
  {
   "cell_type": "code",
   "execution_count": 8,
   "metadata": {},
   "outputs": [
    {
     "name": "stdout",
     "output_type": "stream",
     "text": [
      "<class 'dict'>\n"
     ]
    }
   ],
   "source": [
    "# 辞書型\n",
    "dc = {'りんご':100, 'みかん': 2000}\n",
    "print(type(dc))"
   ]
  },
  {
   "cell_type": "markdown",
   "metadata": {},
   "source": [
    "### タプル型：tuple"
   ]
  },
  {
   "cell_type": "code",
   "execution_count": 9,
   "metadata": {},
   "outputs": [
    {
     "name": "stdout",
     "output_type": "stream",
     "text": [
      "<class 'tuple'>\n"
     ]
    }
   ],
   "source": [
    "# タプル型\n",
    "tp= (1,2,3,4,5)\n",
    "print(type(tp))"
   ]
  },
  {
   "cell_type": "markdown",
   "metadata": {},
   "source": [
    "### 型を変換する"
   ]
  },
  {
   "cell_type": "code",
   "execution_count": 13,
   "metadata": {},
   "outputs": [
    {
     "name": "stdout",
     "output_type": "stream",
     "text": [
      "<class 'int'>\n",
      "<class 'str'>\n"
     ]
    }
   ],
   "source": [
    "# 型を変換する(int型をstring型)\n",
    "msg = \"長さ\"\n",
    "unit = \"cm\"\n",
    "l = 128\n",
    "# 変換前のデータ型を調べる\n",
    "print(type(l))\n",
    "\n",
    "j = msg + str(l) + unit\n",
    "\n",
    "#　変換後のデータ型を調べる\n",
    "print(type(j))"
   ]
  },
  {
   "cell_type": "markdown",
   "metadata": {},
   "source": [
    "この例では、整数型intを、`str()`関数を使用してstring型に変換しています。\n",
    "<br>\n",
    "よく使用する例ですので、慣れておきましょう。"
   ]
  }
 ],
 "metadata": {
  "kernelspec": {
   "display_name": "Python 3",
   "language": "python",
   "name": "python3"
  },
  "language_info": {
   "codemirror_mode": {
    "name": "ipython",
    "version": 3
   },
   "file_extension": ".py",
   "mimetype": "text/x-python",
   "name": "python",
   "nbconvert_exporter": "python",
   "pygments_lexer": "ipython3",
   "version": "3.8.3"
  }
 },
 "nbformat": 4,
 "nbformat_minor": 4
}
