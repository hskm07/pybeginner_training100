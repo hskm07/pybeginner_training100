{
 "cells": [
  {
   "cell_type": "markdown",
   "metadata": {},
   "source": [
    "## **問14  if文のネストを理解する**"
   ]
  },
  {
   "cell_type": "markdown",
   "metadata": {},
   "source": [
    "続いてif文ネストについて学びましょう。\n",
    "<br>\n",
    "ネストとは、条件式が入れ子になることをいいます。if文の中に、さらにif文を書くといった感じです。\n",
    "<br>\n",
    "```\n",
    "if (条件式) :\n",
    "    if (条件式) :　 <--入れ子\n",
    "else :\n",
    "    if (条件式) :　　　<--入れ子\n",
    "        (何かしらの処理)\n",
    "    else :\n",
    "        (何かしらの処理)\n",
    "```\n",
    "<br>\n",
    "それでは、問題を解いてみましょう。"
   ]
  },
  {
   "cell_type": "markdown",
   "metadata": {},
   "source": [
    "- 問題\n",
    "<br>\n",
    "仮に、PythonでExcelファイル「在庫管理表」を読み取ったとしましょう。\n",
    "<br>\n",
    "読み取った値に応じて、以下の条件でメッセージを表示させましょう。\n",
    "<br>\n",
    "（読み取った値は、今回はランダムで生成した数値とします。）\n",
    "<br>\n",
    "<br>\n",
    "条件は以下の通りです。\n",
    "<br>\n",
    "在庫数が800個以上であれば、在庫あり\n",
    "<br>\n",
    "在庫数が800個より少なく、600個以上の場合、\"在庫注意\"\n",
    "<br>\n",
    "在庫数が600個より少なく、200個以上の場合、”発注”\n",
    "<br>\n",
    "在庫数が200以下の場合、”即発注・始末書”"
   ]
  },
  {
   "cell_type": "code",
   "execution_count": 1,
   "metadata": {},
   "outputs": [
    {
     "name": "stdout",
     "output_type": "stream",
     "text": [
      "製品Aの在庫数は、1153個\n",
      "在庫あり\n",
      "残数は653個です。まだ在庫に余裕があります。\n"
     ]
    }
   ],
   "source": [
    "import random\n",
    "\n",
    "number = random.randint(0,1200)\n",
    "hikiate=500\n",
    "zan = number - hikiate\n",
    "print(\"製品Aの在庫数は、{0}個\".format(number))\n",
    "\n",
    "# 在庫数とリードタイム判定\n",
    "if number >= 800 :\n",
    "    result = \"在庫あり\"\n",
    "    msg = \"まだ在庫に余裕があります。\"\n",
    "\n",
    "elif number >= 600 :\n",
    "    result = \"在庫注意\"\n",
    "    # if文のネスト\n",
    "    if zan < 0 :\n",
    "        msg = \"発注しましょう\"\n",
    "    else :\n",
    "        msg = \"まだ在庫に余裕があります。\"\n",
    "\n",
    "elif number >= 200 :\n",
    "    result = \"発注の準備\"\n",
    "    if zan < 0 :\n",
    "        msg = \"発注しましょう\"\n",
    "    else :\n",
    "        msg = \"まだ在庫に余裕があります。\"\n",
    "\n",
    "else :\n",
    "    result = \"即発注\"\n",
    "    msg = \"始末書の準備\"\n",
    "\n",
    "print(result)\n",
    "print(\"残数は{0}個です。{1}\".format(zan,msg))"
   ]
  },
  {
   "cell_type": "code",
   "execution_count": null,
   "metadata": {},
   "outputs": [],
   "source": []
  }
 ],
 "metadata": {
  "kernelspec": {
   "display_name": "Python 3",
   "language": "python",
   "name": "python3"
  },
  "language_info": {
   "codemirror_mode": {
    "name": "ipython",
    "version": 3
   },
   "file_extension": ".py",
   "mimetype": "text/x-python",
   "name": "python",
   "nbconvert_exporter": "python",
   "pygments_lexer": "ipython3",
   "version": "3.8.3"
  }
 },
 "nbformat": 4,
 "nbformat_minor": 4
}
